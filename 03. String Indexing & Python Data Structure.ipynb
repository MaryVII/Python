{
  "cells": [
    {
      "cell_type": "markdown",
      "metadata": {
        "id": "KhINNLmlFPPR"
      },
      "source": [
        "#String Indexing & Python Data Structure"
      ]
    },
    {
      "cell_type": "markdown",
      "metadata": {
        "id": "bsVIv3FCFpTB"
      },
      "source": [
        "## Table of Contents\n",
        "- [Section 4: String Indexing](#section4)\n",
        "  - [section 1.1: Word Index](#subsection4.1)\n",
        "  - [section 1.2: Index Slicing](#subsection4.2)\n",
        "  - [section 1.3: Concatenate Strings](#subsection4.3)\n",
        "- [Section 5: Python Data Structure](#section5)\n",
        "  - [section 5.1: List](#subsection5.1)\n",
        "    - [section 5.1.1: Extend Function](#subsection5.1.1)\n",
        "    - [section 5.1.2: Append Function](#subsection5.1.2)\n",
        "    - [section 5.1.3: Deleting Items](#subsection5.1.3)\n",
        "    - [section 5.1.4: Count Funtion](#subsection5.1.4)\n",
        "    - [section 5.1.5: Remove Function](#subsection5.1.5)\n",
        "    - [section 5.1.6: Insert Function](#subsection5.1.6)\n",
        "    - [section 5.1.7: Reverse Function](#subsection5.1.7)\n",
        "  - [section 5.2: Tuple](#subsection5.2)\n",
        "    - [section 5.2.1: Comparison Between List And Tuple](#subsection5.2.1)\n",
        "    - [section 5.2.2: Sort Function In Tuple](#subsection5.2.2)\n",
        "    - [section 5.2.3: Convert Tuple Into A List](#subsection5.2.3)\n",
        "  - [section 5.3: Set](#subsection5.1)\n",
        "    - [section 5.3.1: Defining A Set](#subsection5.3.1)\n",
        "    - [section 5.3.2: Set Removes Duplicates](#subsection5.3.2)\n",
        "    - [section 5.3.3 Uppercase and lowercase in Set](#subsection5.3.3)\n",
        "    - [section 5.3.4: Add Function in A Set](#subsection5.3.4)\n",
        "    - [section 5.3.5: Remove Function in A Set](#subsection5.3.5)\n",
        "    - [section 5.3.6: Intersection in A Set](#subsection5.3.6)\n",
        "    - [section 5.3.7: Union Function in A Set](#subsection5.3.7)\n",
        "    - [section 5.3.8: Converting A Set Into A list](#subsection5.3.8)\n",
        "    - [section 5.3.9: Difference Function in A Set](#subsection5.3.9)\n",
        "  - [section 5.4: Dictionary](#subsection5.4)\n",
        "    - [section 5.4.1: Defining The Dictionary](#subsection5.4.1)\n",
        "    - [section 5.4.2: Finding Value of The Key](#subsection5.4.2)\n",
        "    - [section 5.4.3: Finding The Key Name](#subsection5.4.3)\n",
        "    - [section 5.4.4: Updating Value of A Key](#subsection5.4.4)\n",
        "    - [section 5.4.5: Delete Function In Dictionary](#subsection5.4.5)\n",
        "    - [section 5.4.6: Key is Unique](#subsection5.4.6)"
      ]
    },
    {
      "cell_type": "markdown",
      "metadata": {
        "id": "rVaAL9MtinUS"
      },
      "source": [
        "# **Section 4: String Indexing**\n",
        "\n",
        "Having a refence of something"
      ]
    },
    {
      "cell_type": "code",
      "execution_count": null,
      "metadata": {
        "id": "zD0B8shriwSF"
      },
      "outputs": [],
      "source": [
        "singer = 'Michael Jackson'"
      ]
    },
    {
      "cell_type": "code",
      "execution_count": null,
      "metadata": {
        "colab": {
          "base_uri": "https://localhost:8080/",
          "height": 35
        },
        "id": "Q0W-CbukjAL7",
        "outputId": "2289a966-ccd6-4e50-d1ad-86ddf5ab4785"
      },
      "outputs": [
        {
          "data": {
            "application/vnd.google.colaboratory.intrinsic+json": {
              "type": "string"
            },
            "text/plain": [
              "'Michael Jackson'"
            ]
          },
          "execution_count": 3,
          "metadata": {},
          "output_type": "execute_result"
        }
      ],
      "source": [
        "singer"
      ]
    },
    {
      "cell_type": "code",
      "execution_count": null,
      "metadata": {
        "colab": {
          "base_uri": "https://localhost:8080/"
        },
        "id": "j2Ysz4S6jDJ7",
        "outputId": "98a06e1d-df02-40ca-b0da-c88eb1566e96"
      },
      "outputs": [
        {
          "data": {
            "text/plain": [
              "str"
            ]
          },
          "execution_count": 4,
          "metadata": {},
          "output_type": "execute_result"
        }
      ],
      "source": [
        "type(singer)"
      ]
    },
    {
      "cell_type": "markdown",
      "metadata": {
        "id": "XZQYrvECjmnr"
      },
      "source": [
        "## **Section 4.1: Word Index**\n",
        "the print (variable[numnber]) will show us the letter on the respective number </p>"
      ]
    },
    {
      "cell_type": "markdown",
      "metadata": {
        "id": "a417QMEHktzi"
      },
      "source": [
        "### singer = \"some string value\"  # Example value for the variable singer\n",
        "print(singer)        # Prints the entire string </p>\n",
        "print(singer[2])     # Prints the character at index 2 </p>\n",
        "print(singer[5])     # Prints the character at index 5 </p>\n",
        "print(singer[10])    # Prints the character at index 10 </p>\n",
        "print(singer[13])    # Prints the character at index 13 </p>"
      ]
    },
    {
      "cell_type": "code",
      "execution_count": null,
      "metadata": {
        "colab": {
          "base_uri": "https://localhost:8080/"
        },
        "id": "ie4GTPkKjE__",
        "outputId": "0ef56c60-22f0-43db-b392-79a47ef79975"
      },
      "outputs": [
        {
          "name": "stdout",
          "output_type": "stream",
          "text": [
            "Michael Jackson\n",
            "c\n",
            "e\n",
            "c\n",
            "o\n"
          ]
        }
      ],
      "source": [
        "print (singer)\n",
        "print (singer[2])\n",
        "print (singer[5])\n",
        "print (singer[10])\n",
        "print (singer[13])"
      ]
    },
    {
      "cell_type": "markdown",
      "metadata": {
        "id": "LK3cZgzplcxW"
      },
      "source": [
        "### Left to right use postive numbering"
      ]
    },
    {
      "cell_type": "markdown",
      "metadata": {
        "id": "zr8HG7OskgEY"
      },
      "source": [
        "<img src=\"https://s3-api.us-geo.objectstorage.softlayer.net/cf-courses-data/CognitiveClass/PY0101EN/Chapter%201/Images/StringsIndex.png\" width=\"600\" align=\"center\" />"
      ]
    },
    {
      "cell_type": "markdown",
      "metadata": {
        "id": "Iz6cuZbalEoO"
      },
      "source": [
        "### We can also do it in reverse from right to left (using negative number)\n",
        "tip: always use index -1 to print last character to make the counting easier"
      ]
    },
    {
      "cell_type": "markdown",
      "metadata": {
        "id": "2fmxE8U9kjck"
      },
      "source": [
        "<img src=\"https://s3-api.us-geo.objectstorage.softlayer.net/cf-courses-data/CognitiveClass/PY0101EN/Chapter%201/Images/StringsNeg.png\" width=\"600\" align=\"center\" />"
      ]
    },
    {
      "cell_type": "code",
      "execution_count": null,
      "metadata": {
        "colab": {
          "base_uri": "https://localhost:8080/"
        },
        "id": "Rt8B9a2Ik4Ez",
        "outputId": "e43a52eb-a1ef-45e5-c5c3-94c6536edeb5"
      },
      "outputs": [
        {
          "name": "stdout",
          "output_type": "stream",
          "text": [
            "c\n",
            "c\n",
            "o\n"
          ]
        }
      ],
      "source": [
        "print (singer [-13])\n",
        "print (singer[10])\n",
        "print (singer[-2])"
      ]
    },
    {
      "cell_type": "markdown",
      "metadata": {
        "id": "QaHJ0fnalnr6"
      },
      "source": [
        "### Print the last, second last and first, and the second of any string"
      ]
    },
    {
      "cell_type": "code",
      "execution_count": null,
      "metadata": {
        "colab": {
          "base_uri": "https://localhost:8080/"
        },
        "id": "XbXecik4lyCt",
        "outputId": "af20f8e2-b614-4fc9-83aa-1f21718986d5"
      },
      "outputs": [
        {
          "ename": "SyntaxError",
          "evalue": "invalid syntax (<ipython-input-7-c12e1730ae80>, line 2)",
          "output_type": "error",
          "traceback": [
            "\u001b[0;36m  File \u001b[0;32m\"<ipython-input-7-c12e1730ae80>\"\u001b[0;36m, line \u001b[0;32m2\u001b[0m\n\u001b[0;31m    counting the frequency of an item in a list</p>\u001b[0m\n\u001b[0m             ^\u001b[0m\n\u001b[0;31mSyntaxError\u001b[0m\u001b[0;31m:\u001b[0m invalid syntax\n"
          ]
        }
      ],
      "source": [
        "##Count Function\n",
        "counting the frequency of an item in a list</p>\n",
        "counting how many time an item appeared in the list#First\n",
        "print (anystring[0])\n",
        "#Second\n",
        "print (anystring[1])\n",
        "#Last (will always be -1 to make it easier to count)\n",
        "print (anytstring[-1])\n",
        "#Second last (will always be -2)\n",
        "print (anystring[-2])"
      ]
    },
    {
      "cell_type": "markdown",
      "metadata": {
        "id": "camwFdlcmvzq"
      },
      "source": [
        "### **ERROR ALERT!!**\n",
        "\n",
        "The swiggly line underneath \"anystring\" indicate there will be an error, because the varibale \"anystring\" is not defined yet"
      ]
    },
    {
      "cell_type": "markdown",
      "metadata": {
        "id": "TIiNt4sknHI4"
      },
      "source": [
        "## **Section 4.2: Index Slicing**\n",
        "\n",
        "print (anystring [index to start from : index to stop at])"
      ]
    },
    {
      "cell_type": "markdown",
      "metadata": {
        "id": "dGFMICC0ni22"
      },
      "source": [
        "<img src=\"https://s3-api.us-geo.objectstorage.softlayer.net/cf-courses-data/CognitiveClass/PY0101EN/Chapter%201/Images/StringsIndex.png\" width=\"600\" align=\"center\" />"
      ]
    },
    {
      "cell_type": "code",
      "execution_count": null,
      "metadata": {
        "colab": {
          "base_uri": "https://localhost:8080/"
        },
        "id": "UiUNzZvymC7u",
        "outputId": "3e328b70-ae9f-4eb9-8146-7b273a934387"
      },
      "outputs": [
        {
          "name": "stdout",
          "output_type": "stream",
          "text": [
            "Michae\n"
          ]
        }
      ],
      "source": [
        "print (singer[0:6])\n",
        "#Oh no? Why didn't it print 'Michael'?"
      ]
    },
    {
      "cell_type": "markdown",
      "metadata": {
        "id": "YIdT0QMWntNc"
      },
      "source": [
        "### ALERT!!\n",
        "\n",
        "The last number in the command print(singer[0:6]), which is index 6, will not be printed. Therefore, ensure to add the next number, as shown below."
      ]
    },
    {
      "cell_type": "code",
      "execution_count": null,
      "metadata": {
        "colab": {
          "base_uri": "https://localhost:8080/"
        },
        "id": "oKV0-DFsnpow",
        "outputId": "dda6af4d-4663-4d8b-fe20-679074297769"
      },
      "outputs": [
        {
          "name": "stdout",
          "output_type": "stream",
          "text": [
            "Michael\n"
          ]
        }
      ],
      "source": [
        "print (singer[0:7])"
      ]
    },
    {
      "cell_type": "markdown",
      "metadata": {
        "id": "ggDmCKUxoFTu"
      },
      "source": [
        "Another way to write the code is to not mention the index 0"
      ]
    },
    {
      "cell_type": "code",
      "execution_count": null,
      "metadata": {
        "colab": {
          "base_uri": "https://localhost:8080/"
        },
        "id": "Vhx9AHninrtv",
        "outputId": "c76f9dc9-4c4c-4fd3-fa74-e8fa2e9d0bee"
      },
      "outputs": [
        {
          "name": "stdout",
          "output_type": "stream",
          "text": [
            "Michael\n"
          ]
        }
      ],
      "source": [
        "print (singer[:7])"
      ]
    },
    {
      "cell_type": "markdown",
      "metadata": {
        "id": "JmJH4lCJo5BG"
      },
      "source": [
        "### **ALERT!!**\n",
        "\n",
        "Keep in mind in python : the space, comma, question mark etc will have an index </p>\n",
        "So if we want to print the word 'Jackson'; </p>\n",
        "But we start the input from index 7, note that this will also print the preceding space as well"
      ]
    },
    {
      "cell_type": "code",
      "execution_count": null,
      "metadata": {
        "colab": {
          "base_uri": "https://localhost:8080/"
        },
        "id": "jDqcCM14oDhX",
        "outputId": "ef3ee5f4-1d7f-4aa1-bcd8-54643dae2beb"
      },
      "outputs": [
        {
          "name": "stdout",
          "output_type": "stream",
          "text": [
            " Jackson\n"
          ]
        }
      ],
      "source": [
        "#printing Jackson (This code will print the empty space as well, because index 7 is a space)\n",
        "print (singer[7:])"
      ]
    },
    {
      "cell_type": "code",
      "execution_count": null,
      "metadata": {
        "colab": {
          "base_uri": "https://localhost:8080/"
        },
        "id": "kklnbWULpQ0V",
        "outputId": "7cfc8c66-e23b-4ef3-bb19-9bfa8ef439f2"
      },
      "outputs": [
        {
          "name": "stdout",
          "output_type": "stream",
          "text": [
            "Jackson\n"
          ]
        }
      ],
      "source": [
        "#printing Jackson (without the space)\n",
        "print (singer[8:])"
      ]
    },
    {
      "cell_type": "code",
      "execution_count": null,
      "metadata": {
        "colab": {
          "base_uri": "https://localhost:8080/"
        },
        "id": "alVuTJQApX2z",
        "outputId": "6e28295d-0a8e-463c-c8d9-cd12aac19258"
      },
      "outputs": [
        {
          "name": "stdout",
          "output_type": "stream",
          "text": [
            "Jackso\n"
          ]
        }
      ],
      "source": [
        "print (singer[8:-1])"
      ]
    },
    {
      "cell_type": "code",
      "execution_count": null,
      "metadata": {
        "colab": {
          "base_uri": "https://localhost:8080/"
        },
        "id": "uUUUXEHlpiMK",
        "outputId": "192ba333-1096-408a-94e8-21e6d9333fb1"
      },
      "outputs": [
        {
          "name": "stdout",
          "output_type": "stream",
          "text": [
            "Jackson\n"
          ]
        }
      ],
      "source": [
        "print (singer[-7:])"
      ]
    },
    {
      "cell_type": "code",
      "execution_count": null,
      "metadata": {
        "colab": {
          "base_uri": "https://localhost:8080/"
        },
        "id": "_-oYBqU2pl2T",
        "outputId": "2686ea72-f2ea-4b13-9816-9c64e5f06974"
      },
      "outputs": [
        {
          "name": "stdout",
          "output_type": "stream",
          "text": [
            "Jackson\n"
          ]
        }
      ],
      "source": [
        "print (singer[8:15])"
      ]
    },
    {
      "cell_type": "markdown",
      "metadata": {
        "id": "6u7g8zqFqU_4"
      },
      "source": [
        "<img src=\"https://s3-api.us-geo.objectstorage.softlayer.net/cf-courses-data/CognitiveClass/PY0101EN/Chapter%201/Images/StringsIndex.png\" width=\"600\" align=\"center\" />"
      ]
    },
    {
      "cell_type": "markdown",
      "metadata": {
        "id": "5qK4vs5prT5m"
      },
      "source": [
        "**Slice Notation**</p>\n",
        "Start: The index where the slice begins. If omitted, it defaults to the beginning of the string (index 0). </p>\n",
        "Stop: The index where the slice ends (but not including this index).</p>\n",
        "Step: The interval between each index in the slice. It specifies how many characters to skip.</p>\n",
        "\n",
        "**Explanation of [:7:2]**</p>\n",
        "Start: Not specified, so it defaults to the beginning of the string (index 0).</p>\n",
        "Stop: 7, so the slice includes characters up to, but not including, index 7.</p>\n",
        "Step: 2, so it takes every second character from the start to the stop index.</p>"
      ]
    },
    {
      "cell_type": "code",
      "execution_count": null,
      "metadata": {
        "colab": {
          "base_uri": "https://localhost:8080/"
        },
        "id": "Jh7zNMd_qVvI",
        "outputId": "4f3a50de-0964-41b8-f1b5-9caab7ceb185"
      },
      "outputs": [
        {
          "name": "stdout",
          "output_type": "stream",
          "text": [
            "Mcal\n"
          ]
        }
      ],
      "source": [
        "#Then number 2 index in this code meaning it will skip every 2 character\n",
        "print (singer[:7:2])"
      ]
    },
    {
      "cell_type": "code",
      "execution_count": null,
      "metadata": {
        "colab": {
          "base_uri": "https://localhost:8080/"
        },
        "id": "LnItuVSWqjLD",
        "outputId": "8048ec76-ef18-4f0b-8fe4-b82171cbdca1"
      },
      "outputs": [
        {
          "name": "stdout",
          "output_type": "stream",
          "text": [
            "Mhl\n"
          ]
        }
      ],
      "source": [
        "print (singer[:7:3])"
      ]
    },
    {
      "cell_type": "markdown",
      "metadata": {
        "id": "gedrznFUrpGV"
      },
      "source": [
        "## **Section 4.3: Concatenate Strings**"
      ]
    },
    {
      "cell_type": "code",
      "execution_count": null,
      "metadata": {
        "colab": {
          "base_uri": "https://localhost:8080/"
        },
        "id": "PmEyriryrvkE",
        "outputId": "0dd58151-787f-4cd7-9ab5-1c88731f1ebe"
      },
      "outputs": [
        {
          "name": "stdout",
          "output_type": "stream",
          "text": [
            "BigData\n"
          ]
        }
      ],
      "source": [
        "str1 = 'Big'\n",
        "str2 = 'Data'\n",
        "\n",
        "str3 = str1 + str2\n",
        "\n",
        "print (str3)"
      ]
    },
    {
      "cell_type": "code",
      "execution_count": null,
      "metadata": {
        "colab": {
          "base_uri": "https://localhost:8080/"
        },
        "id": "5CFeVT6dsID6",
        "outputId": "f75b8d56-adf1-4791-c132-d489b913e430"
      },
      "outputs": [
        {
          "data": {
            "application/vnd.google.colaboratory.intrinsic+json": {
              "type": "string"
            },
            "text/plain": [
              "'DataBig'"
            ]
          },
          "execution_count": 19,
          "metadata": {},
          "output_type": "execute_result"
        }
      ],
      "source": [
        "str4 = str2 + str1\n",
        "\n",
        "str4"
      ]
    },
    {
      "cell_type": "code",
      "execution_count": null,
      "metadata": {
        "colab": {
          "base_uri": "https://localhost:8080/"
        },
        "id": "Igl5PtATs44I",
        "outputId": "1ab9776e-7eb1-4a74-ef81-dab9f4224c8b"
      },
      "outputs": [
        {
          "data": {
            "application/vnd.google.colaboratory.intrinsic+json": {
              "type": "string"
            },
            "text/plain": [
              "'Big Data'"
            ]
          },
          "execution_count": 20,
          "metadata": {},
          "output_type": "execute_result"
        }
      ],
      "source": [
        "str3 = str1 + ' ' + str2\n",
        "\n",
        "str3"
      ]
    },
    {
      "cell_type": "code",
      "execution_count": null,
      "metadata": {
        "colab": {
          "base_uri": "https://localhost:8080/"
        },
        "id": "tPpwTgOHtIla",
        "outputId": "ff6bf1dc-8b1f-41c0-f772-c628b1c08643"
      },
      "outputs": [
        {
          "data": {
            "application/vnd.google.colaboratory.intrinsic+json": {
              "type": "string"
            },
            "text/plain": [
              "'Big Data'"
            ]
          },
          "execution_count": 21,
          "metadata": {},
          "output_type": "execute_result"
        }
      ],
      "source": [
        "#Another way to add space is by adding space next to the string when we defined the variable\n",
        "str5 = ' Data'\n",
        "\n",
        "str6 = str1 + str5\n",
        "str6"
      ]
    },
    {
      "cell_type": "markdown",
      "metadata": {
        "id": "TcbBpOrTuxPp"
      },
      "source": [
        "### **ERROR ALERT!!**\n",
        "\n",
        "Concatenating is only from string to a string"
      ]
    },
    {
      "cell_type": "code",
      "execution_count": null,
      "metadata": {
        "colab": {
          "base_uri": "https://localhost:8080/"
        },
        "id": "kxyX81jUtgih",
        "outputId": "20e17df9-6d0c-4b85-f632-88034ba25e37"
      },
      "outputs": [
        {
          "ename": "TypeError",
          "evalue": "can only concatenate str (not \"int\") to str",
          "output_type": "error",
          "traceback": [
            "\u001b[0;31m---------------------------------------------------------------------------\u001b[0m",
            "\u001b[0;31mTypeError\u001b[0m                                 Traceback (most recent call last)",
            "\u001b[0;32m<ipython-input-22-1c68da80770f>\u001b[0m in \u001b[0;36m<cell line: 1>\u001b[0;34m()\u001b[0m\n\u001b[0;32m----> 1\u001b[0;31m \u001b[0mstr7\u001b[0m \u001b[0;34m=\u001b[0m \u001b[0mstr1\u001b[0m \u001b[0;34m+\u001b[0m \u001b[0;36m2024\u001b[0m\u001b[0;34m\u001b[0m\u001b[0;34m\u001b[0m\u001b[0m\n\u001b[0m\u001b[1;32m      2\u001b[0m \u001b[0mstr7\u001b[0m\u001b[0;34m\u001b[0m\u001b[0;34m\u001b[0m\u001b[0m\n",
            "\u001b[0;31mTypeError\u001b[0m: can only concatenate str (not \"int\") to str"
          ]
        }
      ],
      "source": [
        "str7 = str1 + 2024\n",
        "str7"
      ]
    },
    {
      "cell_type": "code",
      "execution_count": null,
      "metadata": {
        "colab": {
          "base_uri": "https://localhost:8080/"
        },
        "id": "SZuX-SSut7Ip",
        "outputId": "599cdac0-bfd9-430f-f3de-b79ff3037e1c"
      },
      "outputs": [
        {
          "data": {
            "application/vnd.google.colaboratory.intrinsic+json": {
              "type": "string"
            },
            "text/plain": [
              "'Big2024'"
            ]
          },
          "execution_count": 23,
          "metadata": {},
          "output_type": "execute_result"
        }
      ],
      "source": [
        "str8 = str1 + '2024'\n",
        "str8"
      ]
    },
    {
      "cell_type": "code",
      "execution_count": null,
      "metadata": {
        "colab": {
          "base_uri": "https://localhost:8080/"
        },
        "id": "N-8Bn-lfuBip",
        "outputId": "2dd0de25-f7fe-4312-f068-0d4c3e54f43e"
      },
      "outputs": [
        {
          "name": "stdout",
          "output_type": "stream",
          "text": [
            "2024\n"
          ]
        }
      ],
      "source": [
        "str9 = '2024'\n",
        "print (str9)"
      ]
    },
    {
      "cell_type": "code",
      "execution_count": null,
      "metadata": {
        "colab": {
          "base_uri": "https://localhost:8080/"
        },
        "id": "kcdOjYPUuPtq",
        "outputId": "cb2f6c60-8cf8-4a99-cbcf-cf3e5932c6e9"
      },
      "outputs": [
        {
          "data": {
            "text/plain": [
              "str"
            ]
          },
          "execution_count": 25,
          "metadata": {},
          "output_type": "execute_result"
        }
      ],
      "source": [
        "#Checking data type\n",
        "type (str9)"
      ]
    },
    {
      "cell_type": "code",
      "execution_count": null,
      "metadata": {
        "colab": {
          "base_uri": "https://localhost:8080/"
        },
        "id": "1kvtFILUuTtp",
        "outputId": "f2943eb5-30c9-4fd6-ea11-c820efdaf7b1"
      },
      "outputs": [
        {
          "name": "stdout",
          "output_type": "stream",
          "text": [
            "2024\n"
          ]
        }
      ],
      "source": [
        "#Changing a string into integer\n",
        "str10 = int(str9)\n",
        "print (str10)"
      ]
    },
    {
      "cell_type": "code",
      "execution_count": null,
      "metadata": {
        "colab": {
          "base_uri": "https://localhost:8080/"
        },
        "id": "jN0UmVJKuauL",
        "outputId": "714703bb-f274-446a-a274-764e7474c715"
      },
      "outputs": [
        {
          "data": {
            "text/plain": [
              "int"
            ]
          },
          "execution_count": 27,
          "metadata": {},
          "output_type": "execute_result"
        }
      ],
      "source": [
        "type(str10)"
      ]
    },
    {
      "cell_type": "markdown",
      "metadata": {
        "id": "PkZGMwWwHHQ8"
      },
      "source": [
        "###**ERROR ALERT!!**\n",
        "\n",
        "String cannot be concatenate with float as well"
      ]
    },
    {
      "cell_type": "code",
      "execution_count": null,
      "metadata": {
        "colab": {
          "base_uri": "https://localhost:8080/"
        },
        "id": "OdwFXsbCucZz",
        "outputId": "519b73af-f3a9-45f5-9151-90bee25396d9"
      },
      "outputs": [
        {
          "ename": "TypeError",
          "evalue": "can only concatenate str (not \"float\") to str",
          "output_type": "error",
          "traceback": [
            "\u001b[0;31m---------------------------------------------------------------------------\u001b[0m",
            "\u001b[0;31mTypeError\u001b[0m                                 Traceback (most recent call last)",
            "\u001b[0;32m<ipython-input-28-4b866f66d2dd>\u001b[0m in \u001b[0;36m<cell line: 1>\u001b[0;34m()\u001b[0m\n\u001b[0;32m----> 1\u001b[0;31m \u001b[0mstr11\u001b[0m \u001b[0;34m=\u001b[0m \u001b[0mstr1\u001b[0m \u001b[0;34m+\u001b[0m \u001b[0;36m2.2\u001b[0m\u001b[0;34m\u001b[0m\u001b[0;34m\u001b[0m\u001b[0m\n\u001b[0m\u001b[1;32m      2\u001b[0m \u001b[0mstr11\u001b[0m\u001b[0;34m\u001b[0m\u001b[0;34m\u001b[0m\u001b[0m\n",
            "\u001b[0;31mTypeError\u001b[0m: can only concatenate str (not \"float\") to str"
          ]
        }
      ],
      "source": [
        "str11 = str1 + 2.2\n",
        "str11"
      ]
    },
    {
      "cell_type": "code",
      "execution_count": null,
      "metadata": {
        "colab": {
          "base_uri": "https://localhost:8080/"
        },
        "id": "GUgkLsZWu8RY",
        "outputId": "1648d014-3f41-4ab5-a02a-ee372a9b8ca6"
      },
      "outputs": [
        {
          "name": "stdout",
          "output_type": "stream",
          "text": [
            "2.2\n"
          ]
        }
      ],
      "source": [
        "str12 = '2.2'\n",
        "print (str12)"
      ]
    },
    {
      "cell_type": "code",
      "execution_count": null,
      "metadata": {
        "colab": {
          "base_uri": "https://localhost:8080/"
        },
        "id": "Hs9AJBwRvZI0",
        "outputId": "74c7bedf-3d3f-4337-99c0-7a97d6299f88"
      },
      "outputs": [
        {
          "data": {
            "text/plain": [
              "str"
            ]
          },
          "execution_count": 30,
          "metadata": {},
          "output_type": "execute_result"
        }
      ],
      "source": [
        "type(str12)"
      ]
    },
    {
      "cell_type": "code",
      "execution_count": null,
      "metadata": {
        "colab": {
          "base_uri": "https://localhost:8080/"
        },
        "id": "bl2IFk-8vjNz",
        "outputId": "3965ee76-78c2-47b5-b3f5-7ef098569655"
      },
      "outputs": [
        {
          "data": {
            "application/vnd.google.colaboratory.intrinsic+json": {
              "type": "string"
            },
            "text/plain": [
              "'Big2.2'"
            ]
          },
          "execution_count": 31,
          "metadata": {},
          "output_type": "execute_result"
        }
      ],
      "source": [
        "str13 = str1 + str12\n",
        "str13"
      ]
    },
    {
      "cell_type": "markdown",
      "metadata": {
        "id": "wzqAhQ5-yt_x"
      },
      "source": [
        "Reading the code from the inside of the brackets to the outside"
      ]
    },
    {
      "cell_type": "code",
      "execution_count": null,
      "metadata": {
        "colab": {
          "base_uri": "https://localhost:8080/"
        },
        "id": "FMzULqgYv0OV",
        "outputId": "64ddd0c6-5819-4169-c698-62ac0e7c43c9"
      },
      "outputs": [
        {
          "data": {
            "text/plain": [
              "int"
            ]
          },
          "execution_count": 32,
          "metadata": {},
          "output_type": "execute_result"
        }
      ],
      "source": [
        "#Read: initally it's an integer 999, then convert to string '999' then convert back to integer 999\n",
        "test1 = int(str(999))\n",
        "type(test1)"
      ]
    },
    {
      "cell_type": "code",
      "execution_count": null,
      "metadata": {
        "colab": {
          "base_uri": "https://localhost:8080/"
        },
        "id": "HJt5qKd1wDw_",
        "outputId": "c1036c8b-32e6-4f22-fcc6-dcddf64b75b3"
      },
      "outputs": [
        {
          "data": {
            "text/plain": [
              "str"
            ]
          },
          "execution_count": 33,
          "metadata": {},
          "output_type": "execute_result"
        }
      ],
      "source": [
        "#Read: initally it's a float 999.0, then convert to integer 999 then convert back to string '999'\n",
        "test2 = str(int(float(999)))\n",
        "type(test2)"
      ]
    },
    {
      "cell_type": "markdown",
      "metadata": {
        "id": "VyW7JqFuxEhO"
      },
      "source": [
        "# **Section 5: Python Data Structure**"
      ]
    },
    {
      "cell_type": "markdown",
      "source": [
        "* List [ ] - data in between square brackert\n",
        "* Tuple ( ) - use the parenthesis bracket (the tuple column)\n",
        "* Set { } - use curly bracket\n",
        "* Dictionary { Key: Value }"
      ],
      "metadata": {
        "id": "31aO_FeV8pGa"
      }
    },
    {
      "cell_type": "markdown",
      "metadata": {
        "id": "UYctK0-ILYUq"
      },
      "source": [
        "###Examples of python data structure"
      ]
    },
    {
      "cell_type": "code",
      "execution_count": null,
      "metadata": {
        "colab": {
          "base_uri": "https://localhost:8080/"
        },
        "id": "SOLCKT_fxkQI",
        "outputId": "6be1416a-78ca-40ad-8d77-fc79dbf2ee4a"
      },
      "outputs": [
        {
          "name": "stdout",
          "output_type": "stream",
          "text": [
            "[8.8, 'Data Science', 2024, 99, -20]\n",
            "(8.8, 'Data Science', 2024, 99, -20)\n",
            "{99, 'Data Science', 8.8, 2024, -20}\n"
          ]
        }
      ],
      "source": [
        "l1 = [8.8, 'Data Science', 2024, 99, -20]\n",
        "\n",
        "t1 = (8.8, 'Data Science', 2024, 99, -20)\n",
        "\n",
        "s1 = {8.8, 'Data Science', 2024, 99, -20}\n",
        "\n",
        "print (l1)\n",
        "print(t1)\n",
        "print (s1)"
      ]
    },
    {
      "cell_type": "code",
      "execution_count": null,
      "metadata": {
        "colab": {
          "base_uri": "https://localhost:8080/"
        },
        "id": "WR2sH0Vx3tGD",
        "outputId": "a2359e02-d200-452e-f363-3389581239a1"
      },
      "outputs": [
        {
          "data": {
            "text/plain": [
              "list"
            ]
          },
          "execution_count": 69,
          "metadata": {},
          "output_type": "execute_result"
        }
      ],
      "source": [
        "type(l1)"
      ]
    },
    {
      "cell_type": "code",
      "execution_count": null,
      "metadata": {
        "colab": {
          "base_uri": "https://localhost:8080/"
        },
        "id": "Qu0hyxCr4MyV",
        "outputId": "4dee8773-194a-4e68-c292-a22009fa8868"
      },
      "outputs": [
        {
          "data": {
            "text/plain": [
              "tuple"
            ]
          },
          "execution_count": 70,
          "metadata": {},
          "output_type": "execute_result"
        }
      ],
      "source": [
        "type(t1)"
      ]
    },
    {
      "cell_type": "code",
      "execution_count": null,
      "metadata": {
        "colab": {
          "base_uri": "https://localhost:8080/"
        },
        "id": "mPG39zDh4R_8",
        "outputId": "4ec62376-460d-4da0-ac06-8f738969509e"
      },
      "outputs": [
        {
          "data": {
            "text/plain": [
              "set"
            ]
          },
          "execution_count": 71,
          "metadata": {},
          "output_type": "execute_result"
        }
      ],
      "source": [
        "type(s1)"
      ]
    },
    {
      "cell_type": "markdown",
      "metadata": {
        "id": "fK5oUM4d4WOm"
      },
      "source": [
        "## **Section 5.1: List [ ]**"
      ]
    },
    {
      "cell_type": "code",
      "execution_count": null,
      "metadata": {
        "colab": {
          "base_uri": "https://localhost:8080/"
        },
        "id": "SZt9Y29t4UuW",
        "outputId": "3ef0d92d-9a80-4ce9-87a4-114a1c7c958f"
      },
      "outputs": [
        {
          "name": "stdout",
          "output_type": "stream",
          "text": [
            "2024\n",
            "[2024, 99, -20]\n"
          ]
        }
      ],
      "source": [
        "#index\n",
        "\n",
        "print(l1[2])\n",
        "print(l1[2:])"
      ]
    },
    {
      "cell_type": "markdown",
      "metadata": {
        "id": "q6jbd7KG55TT"
      },
      "source": [
        "### Section 5.1.1: Extend Function"
      ]
    },
    {
      "cell_type": "code",
      "execution_count": null,
      "metadata": {
        "colab": {
          "base_uri": "https://localhost:8080/"
        },
        "id": "m6o5Vc1b4cBW",
        "outputId": "fd9d7158-2922-4580-f482-236560d342d7"
      },
      "outputs": [
        {
          "data": {
            "text/plain": [
              "[8.8, 'Data Science', 2024, 99, -20, 55, 'AI', 55, 'AI']"
            ]
          },
          "execution_count": 76,
          "metadata": {},
          "output_type": "execute_result"
        }
      ],
      "source": [
        "#extend (adding item to the list)\n",
        "\n",
        "l1.extend([55,'AI'])\n",
        "l1"
      ]
    },
    {
      "cell_type": "code",
      "execution_count": null,
      "metadata": {
        "colab": {
          "base_uri": "https://localhost:8080/"
        },
        "id": "JHSJF9hi5-B9",
        "outputId": "51a2a49e-3cbe-49cd-a480-af1578b35faf"
      },
      "outputs": [
        {
          "data": {
            "text/plain": [
              "[8.8, 'Data Science', 2024, 99, -20, 55, 'AI', 55, 'AI', 55, 'AI']"
            ]
          },
          "execution_count": 78,
          "metadata": {},
          "output_type": "execute_result"
        }
      ],
      "source": [
        "#If you run the code again, they will add the item again and again in the list and will increase the index of the list\n",
        "l1.extend([55,'AI'])\n",
        "l1"
      ]
    },
    {
      "cell_type": "markdown",
      "metadata": {
        "id": "fkaBSOVV6axb"
      },
      "source": [
        "### Section 5.1.2: Append Function\n",
        "\n",
        "append (nested list a.k.a a list inside a list) </p>\n",
        "the nested list is considered one item (having one same index)"
      ]
    },
    {
      "cell_type": "code",
      "execution_count": null,
      "metadata": {
        "colab": {
          "base_uri": "https://localhost:8080/"
        },
        "id": "BaVtRNou6I16",
        "outputId": "3d87c367-3c36-4615-f615-3c862ed815f4"
      },
      "outputs": [
        {
          "data": {
            "text/plain": [
              "[8.8, 'Data Science', 2024, 99, -20, 55, 'AI', 55, 'AI', 55, 'AI', ['ML', 999]]"
            ]
          },
          "execution_count": 79,
          "metadata": {},
          "output_type": "execute_result"
        }
      ],
      "source": [
        "#append (nested list a.k.a a list inside a list)\n",
        "\n",
        "l1.append(['ML',999])\n",
        "l1"
      ]
    },
    {
      "cell_type": "code",
      "execution_count": null,
      "metadata": {
        "colab": {
          "base_uri": "https://localhost:8080/"
        },
        "id": "EQgUmVOz6oXY",
        "outputId": "1d3a4824-843d-4012-f84b-9e2d1606e80b"
      },
      "outputs": [
        {
          "name": "stdout",
          "output_type": "stream",
          "text": [
            "['ML', 999]\n"
          ]
        }
      ],
      "source": [
        "#The nested list is considered one item (having one same index)\n",
        "\n",
        "\n",
        "print(l1[-1])"
      ]
    },
    {
      "cell_type": "code",
      "execution_count": null,
      "metadata": {
        "colab": {
          "base_uri": "https://localhost:8080/"
        },
        "id": "kU8wV4Q47S8B",
        "outputId": "a324afa5-8774-41ab-f25a-e4ab4aa6b640"
      },
      "outputs": [
        {
          "name": "stdout",
          "output_type": "stream",
          "text": [
            "999\n"
          ]
        }
      ],
      "source": [
        "#how to read? first it reads index -1 = ['ML',999], then we read the next index -1 which is 999\n",
        "print(l1[-1][-1])"
      ]
    },
    {
      "cell_type": "code",
      "execution_count": null,
      "metadata": {
        "colab": {
          "base_uri": "https://localhost:8080/"
        },
        "id": "n6OSx4ls7hFR",
        "outputId": "4ec19e28-8b93-4bb5-f4ec-9815015edb3f"
      },
      "outputs": [
        {
          "name": "stdout",
          "output_type": "stream",
          "text": [
            "['B', 'C']\n"
          ]
        }
      ],
      "source": [
        "l2 = [8.8, 'Data Science', 2024, 99, -20, 55, 'AI', ['ML', 999, ['A','B','C']]]\n",
        "#print the letter B and C\n",
        "\n",
        "print(l2[-1][-1][-2:])"
      ]
    },
    {
      "cell_type": "markdown",
      "metadata": {
        "id": "SiQNeUvC85xv"
      },
      "source": [
        "### Section 5.1.3: Deleting Items"
      ]
    },
    {
      "cell_type": "code",
      "execution_count": null,
      "metadata": {
        "colab": {
          "base_uri": "https://localhost:8080/"
        },
        "id": "a3PXUAuP8RYd",
        "outputId": "0a0b224e-f601-4145-ba9a-6358593987ec"
      },
      "outputs": [
        {
          "data": {
            "text/plain": [
              "[8.8, 2024, 99, -20, 55, 'AI', 55, 'AI', 55, 'AI', ['ML', 999]]"
            ]
          },
          "execution_count": 88,
          "metadata": {},
          "output_type": "execute_result"
        }
      ],
      "source": [
        "#del\n",
        "\n",
        "del(l1[1])\n",
        "l1"
      ]
    },
    {
      "cell_type": "markdown",
      "metadata": {
        "id": "INWmWiYb9kTy"
      },
      "source": [
        "**REMEMBER:** </p>\n",
        "Each time you add or delete and item on the list, the index will increase or decrease by 1</p>\n",
        "Ensure to recount the index </p>\n",
        "Delete function only delete the index on the list"
      ]
    },
    {
      "cell_type": "code",
      "execution_count": null,
      "metadata": {
        "colab": {
          "base_uri": "https://localhost:8080/"
        },
        "id": "CtP9srfa9GFs",
        "outputId": "ad8918a1-bd98-4fb5-ec24-71d8a55cbf7c"
      },
      "outputs": [
        {
          "data": {
            "text/plain": [
              "[8.8, -20, 55, 'AI', 55, 'AI', 55, 'AI', ['ML', 999]]"
            ]
          },
          "execution_count": 90,
          "metadata": {},
          "output_type": "execute_result"
        }
      ],
      "source": [
        "del(l1[1])\n",
        "l1"
      ]
    },
    {
      "cell_type": "code",
      "execution_count": null,
      "metadata": {
        "colab": {
          "base_uri": "https://localhost:8080/"
        },
        "id": "sGbqxKSn9Qiz",
        "outputId": "d16995c2-651d-46fd-e750-59a82afe7b86"
      },
      "outputs": [
        {
          "data": {
            "text/plain": [
              "3"
            ]
          },
          "execution_count": 94,
          "metadata": {},
          "output_type": "execute_result"
        }
      ],
      "source": [
        "#find the index of an item in a list\n",
        "l1.index('AI')"
      ]
    },
    {
      "cell_type": "markdown",
      "metadata": {
        "id": "AOEWY-sy-B6k"
      },
      "source": [
        "### Section 5.1.4: Count Function\n",
        "counting the frequency of an item in a list</p>\n",
        "counting how many time an item appeared in the list"
      ]
    },
    {
      "cell_type": "code",
      "execution_count": null,
      "metadata": {
        "colab": {
          "base_uri": "https://localhost:8080/"
        },
        "id": "nXaiY8bA9yVF",
        "outputId": "4668d12c-fee5-4485-adc3-536e6c9097f1"
      },
      "outputs": [
        {
          "data": {
            "text/plain": [
              "4"
            ]
          },
          "execution_count": 96,
          "metadata": {},
          "output_type": "execute_result"
        }
      ],
      "source": [
        "#counting the ferq of an item in a list\n",
        "l3 = [20,200,99,20, 'AI',20,'AI',20]\n",
        "\n",
        "#count\n",
        "l3.count(20)"
      ]
    },
    {
      "cell_type": "code",
      "execution_count": null,
      "metadata": {
        "colab": {
          "base_uri": "https://localhost:8080/"
        },
        "id": "QsSAVlp2-VQ6",
        "outputId": "95cfea59-5ed5-4d67-f4c3-a20aca7c28c2"
      },
      "outputs": [
        {
          "data": {
            "text/plain": [
              "2"
            ]
          },
          "execution_count": 97,
          "metadata": {},
          "output_type": "execute_result"
        }
      ],
      "source": [
        "l3.count('AI')"
      ]
    },
    {
      "cell_type": "code",
      "execution_count": null,
      "metadata": {
        "colab": {
          "base_uri": "https://localhost:8080/"
        },
        "id": "9V_vhnbF-m2F",
        "outputId": "5960a18c-6346-401e-dbd9-dc5411123f49"
      },
      "outputs": [
        {
          "data": {
            "text/plain": [
              "4"
            ]
          },
          "execution_count": 99,
          "metadata": {},
          "output_type": "execute_result"
        }
      ],
      "source": [
        "#checking the index of the string AI\n",
        "l3.index('AI')"
      ]
    },
    {
      "cell_type": "markdown",
      "metadata": {
        "id": "JGkC8oJx-7KE"
      },
      "source": [
        "### Section 5.1.5: Remove Function\n",
        "\n",
        "Remove the item completely from the list\n",
        "\n",
        "**Difference between remove function and delete function?** </p>\n",
        "delete function only remove the index, but other same item remains </p>\n",
        "but remove function remove all the same name item completely from the list"
      ]
    },
    {
      "cell_type": "code",
      "execution_count": null,
      "metadata": {
        "colab": {
          "base_uri": "https://localhost:8080/"
        },
        "id": "UOl0mIJK--ll",
        "outputId": "9417b627-8349-4040-ee25-2a4e4281bb24"
      },
      "outputs": [
        {
          "data": {
            "text/plain": [
              "[20, 200, 99, 20, 20, 20]"
            ]
          },
          "execution_count": 101,
          "metadata": {},
          "output_type": "execute_result"
        }
      ],
      "source": [
        "#remove\n",
        "l3.remove('AI')\n",
        "\n",
        "l3"
      ]
    },
    {
      "cell_type": "markdown",
      "metadata": {
        "id": "CiAujJlOACkG"
      },
      "source": [
        "### Section 5.1.6: Insert Function\n",
        "\n",
        "Insert function will insert item into the chosen index which different from extend (extend add item to the end of the list)"
      ]
    },
    {
      "cell_type": "code",
      "execution_count": null,
      "metadata": {
        "colab": {
          "base_uri": "https://localhost:8080/"
        },
        "id": "26UrtXef_0sv",
        "outputId": "48f28ee0-fbdd-40e2-d2f3-7358061ed3d4"
      },
      "outputs": [
        {
          "data": {
            "text/plain": [
              "[20, 200, 99, 20, 'AI', 20, 20]"
            ]
          },
          "execution_count": 103,
          "metadata": {},
          "output_type": "execute_result"
        }
      ],
      "source": [
        "#insert\n",
        "#list.insert(index, item)\n",
        "\n",
        "l3. insert(4,'AI')\n",
        "l3"
      ]
    },
    {
      "cell_type": "markdown",
      "metadata": {
        "id": "U6Ysml_pAWAS"
      },
      "source": [
        "### Section 5.1.7: Reverse Function\n",
        "\n",
        "The reverse function will reverse the susunan of the list"
      ]
    },
    {
      "cell_type": "code",
      "execution_count": null,
      "metadata": {
        "colab": {
          "base_uri": "https://localhost:8080/"
        },
        "id": "CaFcKy9q_7jZ",
        "outputId": "96958ef0-3024-4a0e-b3b2-7dce6547192c"
      },
      "outputs": [
        {
          "data": {
            "text/plain": [
              "[20, 20, 'AI', 20, 99, 200, 20]"
            ]
          },
          "execution_count": 104,
          "metadata": {},
          "output_type": "execute_result"
        }
      ],
      "source": [
        "#reverse\n",
        "l3.reverse()\n",
        "l3"
      ]
    },
    {
      "cell_type": "code",
      "execution_count": null,
      "metadata": {
        "colab": {
          "base_uri": "https://localhost:8080/"
        },
        "id": "bVKz05pRAgqq",
        "outputId": "f600115c-a425-47bc-90d1-6ac845a2438c"
      },
      "outputs": [
        {
          "data": {
            "text/plain": [
              "[20, 200, 99, 20, 'AI', 20, 20]"
            ]
          },
          "execution_count": 105,
          "metadata": {},
          "output_type": "execute_result"
        }
      ],
      "source": [
        "#reverse (if you run it again it will reverse the list again)\n",
        "l3.reverse()\n",
        "l3"
      ]
    },
    {
      "cell_type": "markdown",
      "metadata": {
        "id": "TJBuPR1pAtMx"
      },
      "source": [
        "**ERROR ALERT!** </p>\n",
        "\n",
        " The list is a combination of integer and string so it cannot be sorted, ensure the string is remove first before sorting"
      ]
    },
    {
      "cell_type": "code",
      "execution_count": null,
      "metadata": {
        "colab": {
          "base_uri": "https://localhost:8080/",
          "height": 176
        },
        "id": "P0KqDQZaAkj1",
        "outputId": "9a2664be-8bcc-4893-80a7-70827f4d53b5"
      },
      "outputs": [
        {
          "ename": "TypeError",
          "evalue": "'<' not supported between instances of 'str' and 'int'",
          "output_type": "error",
          "traceback": [
            "\u001b[0;31m---------------------------------------------------------------------------\u001b[0m",
            "\u001b[0;31mTypeError\u001b[0m                                 Traceback (most recent call last)",
            "\u001b[0;32m<ipython-input-106-456e1d37693a>\u001b[0m in \u001b[0;36m<cell line: 2>\u001b[0;34m()\u001b[0m\n\u001b[1;32m      1\u001b[0m \u001b[0;31m#Sort\u001b[0m\u001b[0;34m\u001b[0m\u001b[0;34m\u001b[0m\u001b[0m\n\u001b[0;32m----> 2\u001b[0;31m \u001b[0ml3\u001b[0m\u001b[0;34m.\u001b[0m\u001b[0msort\u001b[0m\u001b[0;34m(\u001b[0m\u001b[0;34m)\u001b[0m\u001b[0;34m\u001b[0m\u001b[0;34m\u001b[0m\u001b[0m\n\u001b[0m\u001b[1;32m      3\u001b[0m \u001b[0ml3\u001b[0m\u001b[0;34m\u001b[0m\u001b[0;34m\u001b[0m\u001b[0m\n",
            "\u001b[0;31mTypeError\u001b[0m: '<' not supported between instances of 'str' and 'int'"
          ]
        }
      ],
      "source": [
        "#Sort\n",
        "l3.sort()\n",
        "l3"
      ]
    },
    {
      "cell_type": "code",
      "execution_count": null,
      "metadata": {
        "colab": {
          "base_uri": "https://localhost:8080/"
        },
        "id": "_uVLg0CHAoxk",
        "outputId": "f2410792-6197-4964-e7b5-96c20b9435c1"
      },
      "outputs": [
        {
          "data": {
            "text/plain": [
              "[20, 20, 99, 200, 20, 20]"
            ]
          },
          "execution_count": 107,
          "metadata": {},
          "output_type": "execute_result"
        }
      ],
      "source": [
        "#Removing the string 'AI' from the list\n",
        "l3.remove('AI')\n",
        "l3"
      ]
    },
    {
      "cell_type": "code",
      "execution_count": null,
      "metadata": {
        "colab": {
          "base_uri": "https://localhost:8080/"
        },
        "id": "N8Br2WXkA_ak",
        "outputId": "0e47369d-10f6-43f6-c95c-546d2a98668c"
      },
      "outputs": [
        {
          "data": {
            "text/plain": [
              "[20, 20, 20, 20, 99, 200]"
            ]
          },
          "execution_count": 108,
          "metadata": {},
          "output_type": "execute_result"
        }
      ],
      "source": [
        "#Sort the list\n",
        "l3.sort()\n",
        "l3"
      ]
    },
    {
      "cell_type": "code",
      "execution_count": null,
      "metadata": {
        "colab": {
          "base_uri": "https://localhost:8080/"
        },
        "id": "MAub8N-DBBUf",
        "outputId": "04fda351-ca9f-4f9d-f939-67e7f5e49bef"
      },
      "outputs": [
        {
          "data": {
            "text/plain": [
              "[20, 20, 20, 20, 99, 200]"
            ]
          },
          "execution_count": 110,
          "metadata": {},
          "output_type": "execute_result"
        }
      ],
      "source": [
        "#Reversing the sorting from highest to lowest\n",
        "l3.reverse()\n",
        "l3"
      ]
    },
    {
      "cell_type": "code",
      "execution_count": null,
      "metadata": {
        "colab": {
          "base_uri": "https://localhost:8080/"
        },
        "id": "MVOdqDBMBEN6",
        "outputId": "538799a1-3c92-4cf1-bb4d-54ec1c0bf415"
      },
      "outputs": [
        {
          "data": {
            "text/plain": [
              "6"
            ]
          },
          "execution_count": 111,
          "metadata": {},
          "output_type": "execute_result"
        }
      ],
      "source": [
        "#length (this function help calculate the length of the list)\n",
        "len(l3)"
      ]
    },
    {
      "cell_type": "code",
      "execution_count": null,
      "metadata": {
        "id": "bz-rzN_zBiFr"
      },
      "outputs": [],
      "source": [
        "l4 = [20,0,-5,13,-1,7,4,-3,17,9]\n",
        "\n",
        "#sort l4 in ascending and descending\n",
        "#print the highest value and the lowest value"
      ]
    },
    {
      "cell_type": "code",
      "execution_count": null,
      "metadata": {
        "colab": {
          "base_uri": "https://localhost:8080/"
        },
        "id": "b_DBHvTqCBuU",
        "outputId": "82f94824-f722-43f4-a7ee-4ba1384f3ee7"
      },
      "outputs": [
        {
          "data": {
            "text/plain": [
              "[-5, -3, -1, 0, 4, 7, 9, 13, 17, 20]"
            ]
          },
          "execution_count": 120,
          "metadata": {},
          "output_type": "execute_result"
        }
      ],
      "source": [
        "#sort l4 (ascending)\n",
        "l4.sort()\n",
        "l4"
      ]
    },
    {
      "cell_type": "code",
      "execution_count": null,
      "metadata": {
        "colab": {
          "base_uri": "https://localhost:8080/"
        },
        "id": "AKYlNTywCGf8",
        "outputId": "9442a6b4-d2c3-423f-f8c0-b50b48b11e9e"
      },
      "outputs": [
        {
          "data": {
            "text/plain": [
              "[20, 17, 13, 9, 7, 4, 0, -1, -3, -5]"
            ]
          },
          "execution_count": 126,
          "metadata": {},
          "output_type": "execute_result"
        }
      ],
      "source": [
        "#sort l4 (descending)\n",
        "l4.reverse()\n",
        "l4"
      ]
    },
    {
      "cell_type": "code",
      "execution_count": null,
      "metadata": {
        "colab": {
          "base_uri": "https://localhost:8080/"
        },
        "id": "5HReKsjJCQSX",
        "outputId": "5d2853d7-14fc-421d-e1f0-8c0aa3c5213f"
      },
      "outputs": [
        {
          "name": "stdout",
          "output_type": "stream",
          "text": [
            "[20, -5]\n"
          ]
        }
      ],
      "source": [
        "#print the highest value and the lowest value\n",
        "print([l4[0],l4[-1]])"
      ]
    },
    {
      "cell_type": "code",
      "execution_count": null,
      "metadata": {
        "colab": {
          "base_uri": "https://localhost:8080/"
        },
        "id": "JMTBB6JlDqbN",
        "outputId": "ae89385e-bba2-4ce8-8597-ae1277f88501"
      },
      "outputs": [
        {
          "name": "stdout",
          "output_type": "stream",
          "text": [
            "The highest value is: 20\n",
            "The lowest value is: -5\n"
          ]
        }
      ],
      "source": [
        "print('The highest value is:', l4[0])\n",
        "print('The lowest value is:', l4[-1])"
      ]
    },
    {
      "cell_type": "markdown",
      "metadata": {
        "id": "ZFZyNBDrEwYW"
      },
      "source": [
        "## **Section 5.2: Tuple**"
      ]
    },
    {
      "cell_type": "markdown",
      "metadata": {
        "id": "AbdIpD8bM0Ux"
      },
      "source": [
        "### **Section 5.2.1: Comparison Between list and tuple**\n",
        "\n",
        "**List**\n",
        "* Mutable: You can change the elements (add, remove, or modify) after the list is created.\n",
        "* Syntax: Defined using square brackets []. python my_list = [1, 2, 3]\n",
        "* Performance: Slightly slower due to the flexibility of mutability.\n",
        "* Use Case: Best when you need a collection of items that may change over time.\n",
        "\n",
        "**Tuple**\n",
        "* Immutable: Once created, you cannot change the elements (no adding, removing, or modifying).\n",
        "* Syntax: Defined using parentheses (). python my_tuple = (1, 2, 3)\n",
        "* Performance: Faster than lists due to immutability.\n",
        "* Use Case: Best when you need a collection of items that should not change, ensuring data integrity.\n",
        "* Tuple is slightly faster at processing compared to list\n",
        "\n",
        "### **Key Differences**\n",
        "\n",
        "1. **Mutability:**\n",
        "   - Lists: Mutable\n",
        "   - Tuples: Immutable\n",
        "\n",
        "2. **Syntax:**\n",
        "   - Lists: []\n",
        "   - Tuples: ()\n",
        "\n",
        "3. **Performance:**\n",
        "   - Lists: Slower due to overhead of mutable operations.\n",
        "   - Tuples: Faster due to immutability.\n",
        "\n",
        "4. **Use Cases:**\n",
        "   - Lists: Collections of items that need to be changed or updated.\n",
        "   - Tuples: Fixed collections of items that should not change after creation\n",
        "\n",
        "### **Example**\n",
        "\n",
        "**List**\n",
        "* my_list = [1, 2, 3]\n",
        "* my_list.append(4)\n",
        "* print(my_list)  # Output: [1, 2, 3, 4]\n",
        "\n",
        "**Tuple**\n",
        "* my_tuple = (1, 2, 3)\n",
        "* my_tuple.append(4)  # This will raise an AttributeError\n",
        "* print(my_tuple)  # Output: (1, 2, 3)\n",
        "\n",
        "\n",
        "### **Summary**\n",
        "- Use *lists* when you need a dynamic collection that may change over time.\n",
        "- Use *tuples* when you need a fixed collection of items that should remain constant."
      ]
    },
    {
      "cell_type": "code",
      "execution_count": null,
      "metadata": {
        "colab": {
          "base_uri": "https://localhost:8080/"
        },
        "id": "vx395ev9FZ3T",
        "outputId": "a3411629-1815-48e4-bc26-a9ca89e1bfa2"
      },
      "outputs": [
        {
          "name": "stdout",
          "output_type": "stream",
          "text": [
            "2024\n"
          ]
        }
      ],
      "source": [
        "t1 = (8.8, ' Data Science', 2024, 99, -20)\n",
        "\n",
        "print (t1[2])"
      ]
    },
    {
      "cell_type": "code",
      "execution_count": null,
      "metadata": {
        "colab": {
          "base_uri": "https://localhost:8080/"
        },
        "id": "PzbiuDL6FkfI",
        "outputId": "6f1f0cd1-12ec-47fa-9c4e-969023c5b857"
      },
      "outputs": [
        {
          "name": "stdout",
          "output_type": "stream",
          "text": [
            "99\n"
          ]
        }
      ],
      "source": [
        "#nested tuple\n",
        "\n",
        "t2 = (8.8, 'Data Science',(2024,99),-20)\n",
        "print (t2[-2][-1])"
      ]
    },
    {
      "cell_type": "code",
      "execution_count": null,
      "metadata": {
        "colab": {
          "base_uri": "https://localhost:8080/"
        },
        "id": "VlE_IWlmF9le",
        "outputId": "c8d023dd-6d44-4bee-8638-a217b1bafcdc"
      },
      "outputs": [
        {
          "data": {
            "text/plain": [
              "(8.8, 'Data Science', (2024, 99), -20, 'AI', 'Python')"
            ]
          },
          "execution_count": 136,
          "metadata": {},
          "output_type": "execute_result"
        }
      ],
      "source": [
        "#We can't add item into the existing tuple, so we have to create a new variable to add new item\n",
        "\n",
        "t3 = ('AI','Python')\n",
        "tnew = t2 + t3\n",
        "tnew"
      ]
    },
    {
      "cell_type": "markdown",
      "metadata": {
        "id": "s3MCD8fBHbTc"
      },
      "source": [
        "### Section 5.2.2: Sort Function in Tuple"
      ]
    },
    {
      "cell_type": "code",
      "execution_count": null,
      "metadata": {
        "colab": {
          "base_uri": "https://localhost:8080/"
        },
        "id": "DreOEHBlGYle",
        "outputId": "bd5c45b3-65c8-4bf2-c6c9-4a1b8ca6929c"
      },
      "outputs": [
        {
          "name": "stdout",
          "output_type": "stream",
          "text": [
            "[-20, 0, 5, 5, 8.8, 30, 88, 99]\n"
          ]
        }
      ],
      "source": [
        "t4 = (5,88,-20,99,30,8.8,0,5)\n",
        "\n",
        "#sorted\n",
        "sort_t4= sorted(t4)\n",
        "\n",
        "print(sort_t4)\n",
        "\n",
        "#This function turns the tuple to a list then sorted the list that's the reason why the result have square brackets []"
      ]
    },
    {
      "cell_type": "markdown",
      "metadata": {
        "id": "w3fwxuOPHmpb"
      },
      "source": [
        "### Section 5.2.3: Convert tuple into a list\n",
        "\n",
        "Other method to change tuple into a list instead of using sort function"
      ]
    },
    {
      "cell_type": "code",
      "execution_count": null,
      "metadata": {
        "colab": {
          "base_uri": "https://localhost:8080/"
        },
        "id": "0Is167F_He-F",
        "outputId": "3aa34fe5-a64b-4e36-920e-eaf351b94803"
      },
      "outputs": [
        {
          "data": {
            "text/plain": [
              "[5, 88, -20, 99, 30, 8.8, 0, 5]"
            ]
          },
          "execution_count": 141,
          "metadata": {},
          "output_type": "execute_result"
        }
      ],
      "source": [
        "list_t4 = list(t4)\n",
        "list_t4"
      ]
    },
    {
      "cell_type": "markdown",
      "metadata": {
        "id": "kC1IGxpMH_UX"
      },
      "source": [
        "### Section 5.2.4: Convert list into tuple again"
      ]
    },
    {
      "cell_type": "code",
      "execution_count": null,
      "metadata": {
        "colab": {
          "base_uri": "https://localhost:8080/"
        },
        "id": "xXNtGUKQHWrl",
        "outputId": "4149be7f-510d-44a7-fc29-1fa9f410b6a2"
      },
      "outputs": [
        {
          "data": {
            "text/plain": [
              "(5, 88, -20, 99, 30, 8.8, 0, 5)"
            ]
          },
          "execution_count": 142,
          "metadata": {},
          "output_type": "execute_result"
        }
      ],
      "source": [
        "tuple_list_t4 = tuple(list_t4)\n",
        "tuple_list_t4"
      ]
    },
    {
      "cell_type": "code",
      "execution_count": null,
      "metadata": {
        "id": "c-u-yekUIrt1"
      },
      "outputs": [],
      "source": [
        "t5 = ('AI','Data',2024,'ML')\n",
        "list_new_items = [888, 'Python', 'DL']\n",
        "\n",
        "#create a new tuple of the above tuple and list"
      ]
    },
    {
      "cell_type": "code",
      "execution_count": null,
      "metadata": {
        "colab": {
          "base_uri": "https://localhost:8080/"
        },
        "id": "gEG6a2FEJWLA",
        "outputId": "05e24f2e-36e1-45a9-d8d9-382c81adc81a"
      },
      "outputs": [
        {
          "data": {
            "text/plain": [
              "['AI', 'Data', 2024, 'ML']"
            ]
          },
          "execution_count": 40,
          "metadata": {},
          "output_type": "execute_result"
        }
      ],
      "source": [
        "#convert tuple to list\n",
        "list_t5 = list(t5)\n",
        "list_t5"
      ]
    },
    {
      "cell_type": "code",
      "execution_count": null,
      "metadata": {
        "colab": {
          "base_uri": "https://localhost:8080/"
        },
        "id": "iWY8ja9EJtbd",
        "outputId": "6c5d267c-ca92-4322-d589-1a0ec664e00f"
      },
      "outputs": [
        {
          "data": {
            "text/plain": [
              "['AI', 'Data', 2024, 'ML', 888, 'Python', 'DL']"
            ]
          },
          "execution_count": 41,
          "metadata": {},
          "output_type": "execute_result"
        }
      ],
      "source": [
        "#adding new items\n",
        "list_t5.extend(list_new_items)\n",
        "list_t5"
      ]
    },
    {
      "cell_type": "code",
      "execution_count": null,
      "metadata": {
        "colab": {
          "base_uri": "https://localhost:8080/"
        },
        "id": "BI9obfdMJ0x_",
        "outputId": "2cfbfdc2-c740-4645-8329-1af3c78e3b2c"
      },
      "outputs": [
        {
          "data": {
            "text/plain": [
              "('AI', 'Data', 2024, 'ML', 888, 'Python', 'DL')"
            ]
          },
          "execution_count": 42,
          "metadata": {},
          "output_type": "execute_result"
        }
      ],
      "source": [
        "#converting list back to tuple\n",
        "tuple_list_t5 = tuple(list_t5)\n",
        "tuple_list_t5"
      ]
    },
    {
      "cell_type": "markdown",
      "metadata": {
        "id": "BEmmQRk-A_zt"
      },
      "source": [
        "## **Section 5.3: Set { }**"
      ]
    },
    {
      "cell_type": "markdown",
      "source": [
        "**Set** is similar to a list except, set will sort item in ascending order or sequence"
      ],
      "metadata": {
        "id": "EbygN-Vp4UGZ"
      }
    },
    {
      "cell_type": "markdown",
      "source": [
        "### Section 5.3.1: Defining A Set"
      ],
      "metadata": {
        "id": "-2o7VoLKGEhv"
      }
    },
    {
      "cell_type": "code",
      "execution_count": null,
      "metadata": {
        "colab": {
          "base_uri": "https://localhost:8080/"
        },
        "id": "nSsZUytBBCN2",
        "outputId": "b794d886-0b53-4e45-df5f-d89ce406dd31"
      },
      "outputs": [
        {
          "data": {
            "text/plain": [
              "set"
            ]
          },
          "execution_count": 2,
          "metadata": {},
          "output_type": "execute_result"
        }
      ],
      "source": [
        "s1 = {8,8, 'Data Science', 99, 2.2, 'Python'}\n",
        "type(s1)"
      ]
    },
    {
      "cell_type": "code",
      "execution_count": null,
      "metadata": {
        "colab": {
          "base_uri": "https://localhost:8080/"
        },
        "id": "aeofojHZBT1n",
        "outputId": "eaf02bea-bbb5-46d0-862e-ebb6794a62b0"
      },
      "outputs": [
        {
          "name": "stdout",
          "output_type": "stream",
          "text": [
            "{2.2, 99, 'Python', 8, 'Data Science'}\n"
          ]
        }
      ],
      "source": [
        "print(s1)"
      ]
    },
    {
      "cell_type": "markdown",
      "source": [
        "### Section 5.3.2: Set Removes Duplicates"
      ],
      "metadata": {
        "id": "D8-nFKOe9Mxo"
      }
    },
    {
      "cell_type": "code",
      "execution_count": 29,
      "metadata": {
        "colab": {
          "base_uri": "https://localhost:8080/"
        },
        "id": "oaBcw9vBBfh2",
        "outputId": "77cd8f58-5b75-4158-c043-ad4db2c88513"
      },
      "outputs": [
        {
          "output_type": "stream",
          "name": "stdout",
          "text": [
            "{0, 2.2, 99, 20, 5, -10, 88}\n"
          ]
        }
      ],
      "source": [
        "s2 = {20,-10,0,5,99,-10,20,2.2,88}\n",
        "print(s2)"
      ]
    },
    {
      "cell_type": "markdown",
      "source": [
        "**why is the output 'print(s2)' above different from the output 's2' below?** </p>\n",
        "Answer:\n",
        "* Firstly set will remove duplicates (noticed the duplicates for 20,-10)\n",
        "* Secondly 'print(s2)' will give output in arbitrary order, may appeared unodered\n",
        "* calling the set promp s2 will call it to it's nature in the ascending order"
      ],
      "metadata": {
        "id": "FF2fetrD9l15"
      }
    },
    {
      "cell_type": "code",
      "execution_count": 25,
      "metadata": {
        "colab": {
          "base_uri": "https://localhost:8080/"
        },
        "id": "HoDV1r5fBxDF",
        "outputId": "71e5322e-3cc3-406b-c1e8-d750904daafa"
      },
      "outputs": [
        {
          "output_type": "execute_result",
          "data": {
            "text/plain": [
              "{-10, 0, 2.2, 5, 10, 20, 99}"
            ]
          },
          "metadata": {},
          "execution_count": 25
        }
      ],
      "source": [
        "#Obeserve difference between 'print(s2)' command and just 's2' command\n",
        "s2 #the result is in ascending order"
      ]
    },
    {
      "cell_type": "markdown",
      "source": [
        "### Section 5.3.3: Uppercase and lowercase in Set\n",
        "\n",
        "Set will sort from uppercase alphabet to lowercase in alphabatical order"
      ],
      "metadata": {
        "id": "aTN-brVC_WKg"
      }
    },
    {
      "cell_type": "code",
      "execution_count": 6,
      "metadata": {
        "colab": {
          "base_uri": "https://localhost:8080/"
        },
        "id": "JqjBzynOCAV1",
        "outputId": "20f86529-d6e5-4581-e4ca-19ecd68617f5"
      },
      "outputs": [
        {
          "output_type": "execute_result",
          "data": {
            "text/plain": [
              "{'ML', 'ai', 'big data', 'data', 'python'}"
            ]
          },
          "metadata": {},
          "execution_count": 6
        }
      ],
      "source": [
        "s3 = {'data','ai','ML','python','big data'}\n",
        "s3"
      ]
    },
    {
      "cell_type": "code",
      "source": [
        "s4 = {'data', 'ai', 'ml', 'python', 'big data'}\n",
        "s4"
      ],
      "metadata": {
        "colab": {
          "base_uri": "https://localhost:8080/"
        },
        "id": "MUBt_PEUC3Tv",
        "outputId": "3c209cba-649e-4d21-ad03-89f2243b5f06"
      },
      "execution_count": 7,
      "outputs": [
        {
          "output_type": "execute_result",
          "data": {
            "text/plain": [
              "{'ai', 'big data', 'data', 'ml', 'python'}"
            ]
          },
          "metadata": {},
          "execution_count": 7
        }
      ]
    },
    {
      "cell_type": "code",
      "source": [
        "s5 = {'Data', 'ai', 'ML', 'Python', 'Big data'}\n",
        "s5"
      ],
      "metadata": {
        "colab": {
          "base_uri": "https://localhost:8080/"
        },
        "id": "EfOK_rZ2DNnL",
        "outputId": "848d79c5-6e51-46d7-a58d-8fe33979f323"
      },
      "execution_count": 8,
      "outputs": [
        {
          "output_type": "execute_result",
          "data": {
            "text/plain": [
              "{'Big data', 'Data', 'ML', 'Python', 'ai'}"
            ]
          },
          "metadata": {},
          "execution_count": 8
        }
      ]
    },
    {
      "cell_type": "markdown",
      "source": [
        "### Section 5.3.4: Add Function in A Set"
      ],
      "metadata": {
        "id": "u-EzrF_u5BDr"
      }
    },
    {
      "cell_type": "code",
      "source": [
        "#add function\n",
        "s5.add('deep learning')\n",
        "s5"
      ],
      "metadata": {
        "colab": {
          "base_uri": "https://localhost:8080/"
        },
        "id": "pe8qS_AsDkw5",
        "outputId": "8351fa4c-0890-4ce6-9af1-c7a384e10fba"
      },
      "execution_count": 9,
      "outputs": [
        {
          "output_type": "execute_result",
          "data": {
            "text/plain": [
              "{'Big data', 'Data', 'ML', 'Python', 'ai', 'deep learning'}"
            ]
          },
          "metadata": {},
          "execution_count": 9
        }
      ]
    },
    {
      "cell_type": "code",
      "source": [
        "s2\n",
        "s2.add(10)\n",
        "s2"
      ],
      "metadata": {
        "colab": {
          "base_uri": "https://localhost:8080/"
        },
        "id": "IET9wccPD6ck",
        "outputId": "fed853f6-03b7-4dd8-b7bb-8caa2fadf3dd"
      },
      "execution_count": 11,
      "outputs": [
        {
          "output_type": "execute_result",
          "data": {
            "text/plain": [
              "{-10, 0, 2.2, 5, 10, 20, 88, 99}"
            ]
          },
          "metadata": {},
          "execution_count": 11
        }
      ]
    },
    {
      "cell_type": "markdown",
      "source": [
        "### Section 5.3.5: Remove Function in A Set"
      ],
      "metadata": {
        "id": "E-lV5_F65gEb"
      }
    },
    {
      "cell_type": "code",
      "source": [
        "# Remove function\n",
        "s2.remove(88)\n",
        "s2"
      ],
      "metadata": {
        "colab": {
          "base_uri": "https://localhost:8080/"
        },
        "id": "cwHrdgozEur8",
        "outputId": "86505c4b-feac-4e43-ad8f-17b645ff15ca"
      },
      "execution_count": 13,
      "outputs": [
        {
          "output_type": "execute_result",
          "data": {
            "text/plain": [
              "{-10, 0, 2.2, 5, 10, 20, 99}"
            ]
          },
          "metadata": {},
          "execution_count": 13
        }
      ]
    },
    {
      "cell_type": "markdown",
      "source": [
        "### Section 5.3.6: Intersection in a set\n",
        "\n",
        "Intersection in a set is used to find common elements between two sets."
      ],
      "metadata": {
        "id": "xzeCmLy95rk_"
      }
    },
    {
      "cell_type": "code",
      "source": [
        "#intersection\n",
        "#common item in 2 sets\n",
        "\n",
        "set_a = {1,3,5,7,8,9,10,11,12,13,14}  #actual result\n",
        "set_b = {1,2,3,4,5,6,7,8,9,10,11}  #predicted result\n",
        "\n",
        "set_a.intersection(set_b)"
      ],
      "metadata": {
        "colab": {
          "base_uri": "https://localhost:8080/"
        },
        "id": "iqv7K0KwFh01",
        "outputId": "e45180bf-514e-4a2e-cb42-bad0d7675ead"
      },
      "execution_count": 21,
      "outputs": [
        {
          "output_type": "execute_result",
          "data": {
            "text/plain": [
              "{1, 3, 5, 7, 8, 9, 10, 11}"
            ]
          },
          "metadata": {},
          "execution_count": 21
        }
      ]
    },
    {
      "cell_type": "markdown",
      "source": [
        "### Section 5.3.7: Union Function in a set\n",
        "\n",
        "Combining two sets"
      ],
      "metadata": {
        "id": "ZwOi6vQn6ZDc"
      }
    },
    {
      "cell_type": "code",
      "source": [
        "#union\n",
        "\n",
        "set_a.union(set_b)\n"
      ],
      "metadata": {
        "colab": {
          "base_uri": "https://localhost:8080/"
        },
        "id": "MzIJoxRKG0VG",
        "outputId": "51fe4d3f-ed78-4dd7-98c3-5cca315a4dd6"
      },
      "execution_count": null,
      "outputs": [
        {
          "output_type": "execute_result",
          "data": {
            "text/plain": [
              "{1, 2, 3, 4, 5, 6, 7, 8, 9, 10, 11, 12, 13, 14}"
            ]
          },
          "metadata": {},
          "execution_count": 37
        }
      ]
    },
    {
      "cell_type": "markdown",
      "source": [
        "### Section 5.3.8: Converting a set into a list"
      ],
      "metadata": {
        "id": "Yl9ptbjm6xPs"
      }
    },
    {
      "cell_type": "code",
      "source": [
        "list_a = [1,2,3,4,1,2,5]\n",
        "set_list_a = set(list_a)\n",
        "set_list_a"
      ],
      "metadata": {
        "colab": {
          "base_uri": "https://localhost:8080/"
        },
        "id": "82MwvwpBH__m",
        "outputId": "2a4b90e2-f46d-4c89-969c-886342f94a1e"
      },
      "execution_count": null,
      "outputs": [
        {
          "output_type": "execute_result",
          "data": {
            "text/plain": [
              "{1, 2, 3, 4, 5}"
            ]
          },
          "metadata": {},
          "execution_count": 38
        }
      ]
    },
    {
      "cell_type": "code",
      "source": [
        "#write a code to find the highest value in a set of numbers by using set only\n",
        "\n",
        "list_b = [100,-99, 101, 88, 55.6, 0]\n",
        "set_list_b = set(list_b) #Converting list into a set\n",
        "set_list_b"
      ],
      "metadata": {
        "colab": {
          "base_uri": "https://localhost:8080/"
        },
        "id": "pUXDE5MTISPz",
        "outputId": "45b6f686-b9c4-43f7-dffc-e36f016a3b17"
      },
      "execution_count": 17,
      "outputs": [
        {
          "output_type": "execute_result",
          "data": {
            "text/plain": [
              "{-99, 0, 55.6, 88, 100, 101}"
            ]
          },
          "metadata": {},
          "execution_count": 17
        }
      ]
    },
    {
      "cell_type": "code",
      "source": [
        "print(max(set_list_b)) #Finding the highest value in the set"
      ],
      "metadata": {
        "colab": {
          "base_uri": "https://localhost:8080/"
        },
        "id": "1RNF-Zs_Lg0D",
        "outputId": "64ec9a48-64fd-4012-f655-e92a80ada0c2"
      },
      "execution_count": 18,
      "outputs": [
        {
          "output_type": "stream",
          "name": "stdout",
          "text": [
            "101\n"
          ]
        }
      ]
    },
    {
      "cell_type": "markdown",
      "source": [
        "### Section 5.3.9: Difference Function in a set\n",
        "\n",
        "The difference or symbol '-' function for sets is used to find the elements that are present in one set but not in another. It returns a new set containing the difference between two or more sets."
      ],
      "metadata": {
        "id": "JC7alQQ17eQ0"
      }
    },
    {
      "cell_type": "markdown",
      "source": [
        "**Method 1: Using '-' symbol to find difference between a set**"
      ],
      "metadata": {
        "id": "-HdHQ9v78ELm"
      }
    },
    {
      "cell_type": "code",
      "source": [
        "difference_set = set_a - set_b\n",
        "print(difference_set)"
      ],
      "metadata": {
        "colab": {
          "base_uri": "https://localhost:8080/"
        },
        "id": "xoGY-Fau7vlO",
        "outputId": "1fb4deec-ebe9-49b4-c43c-fe75f88534f3"
      },
      "execution_count": 23,
      "outputs": [
        {
          "output_type": "stream",
          "name": "stdout",
          "text": [
            "{12, 13, 14}\n"
          ]
        }
      ]
    },
    {
      "cell_type": "markdown",
      "source": [
        "**Method 2: using '.difference' function to find difference between a set**"
      ],
      "metadata": {
        "id": "aNaq6qEv8LIn"
      }
    },
    {
      "cell_type": "code",
      "source": [
        "print(set_a)\n",
        "print(set_b)"
      ],
      "metadata": {
        "colab": {
          "base_uri": "https://localhost:8080/"
        },
        "id": "YA0Pd3tgAqxN",
        "outputId": "8ae03643-feb6-4fbb-cf2e-d6a05d6252aa"
      },
      "execution_count": 33,
      "outputs": [
        {
          "output_type": "stream",
          "name": "stdout",
          "text": [
            "{1, 3, 5, 7, 8, 9, 10, 11, 12, 13, 14}\n",
            "{1, 2, 3, 4, 5, 6, 7, 8, 9, 10, 11}\n"
          ]
        }
      ]
    },
    {
      "cell_type": "markdown",
      "source": [
        "**Difference also use to identify misprediction** </p>\n",
        "\n",
        "set_a = represents the actual results </p>\n",
        "set_b = represents the predicted results"
      ],
      "metadata": {
        "id": "7AyoGRqyBQnh"
      }
    },
    {
      "cell_type": "markdown",
      "source": [
        "**Finding Misprediction:** </p>\n",
        "\n",
        "set_a.difference(set_b) will find items that are in set_a but not in set_b. These items are considered mispredictions because they are actual results that the model failed to recognize."
      ],
      "metadata": {
        "id": "_dK_Bg5ZBlXY"
      }
    },
    {
      "cell_type": "code",
      "source": [
        "#items in set a but not in set b  is considered misprediction\n",
        "\n",
        "set_a.difference(set_b)  #actual result but, model cant recognize the result"
      ],
      "metadata": {
        "colab": {
          "base_uri": "https://localhost:8080/"
        },
        "id": "8yooXmhgMlHK",
        "outputId": "08507b41-cfcd-40e0-bb2e-3231d2c54969"
      },
      "execution_count": 30,
      "outputs": [
        {
          "output_type": "execute_result",
          "data": {
            "text/plain": [
              "{12, 13, 14}"
            ]
          },
          "metadata": {},
          "execution_count": 30
        }
      ]
    },
    {
      "cell_type": "markdown",
      "source": [
        "**Irrelevant Difference:** </p>\n",
        "\n",
        "set_b.difference(set_a) finds items that are in set_b but not in set_a. These items are not relevant to identifying mispredictions of the actual results, as they indicate predictions made by the model that are not present in the actual results."
      ],
      "metadata": {
        "id": "RT7sbXxDBxHe"
      }
    },
    {
      "cell_type": "code",
      "source": [
        "set_b.difference(set_a)  #not related to actual result and not correctly predicted"
      ],
      "metadata": {
        "colab": {
          "base_uri": "https://localhost:8080/"
        },
        "id": "h6H2FN4bMpeG",
        "outputId": "c7adb467-5389-469c-963b-991cae3a3a57"
      },
      "execution_count": null,
      "outputs": [
        {
          "output_type": "execute_result",
          "data": {
            "text/plain": [
              "{2, 4, 6}"
            ]
          },
          "metadata": {},
          "execution_count": 49
        }
      ]
    },
    {
      "cell_type": "markdown",
      "source": [
        "##**Section 5.4: Dictionary {Key:Value}**\n",
        "\n",
        "\n"
      ],
      "metadata": {
        "id": "Oo-04bKhONHS"
      }
    },
    {
      "cell_type": "markdown",
      "source": [
        "* Each item represent 2 things, {key:value}.\n",
        "* Dictionary: {key1:value1, key2;value2,.... keyn:valuen}\n",
        "* Function: items refer to other item. data can present other data.\n",
        "* Example - name: mobile number\n",
        "* Index of the item for dictionary is the key(unique value)"
      ],
      "metadata": {
        "id": "3m-wHgZVCZyr"
      }
    },
    {
      "cell_type": "markdown",
      "source": [
        "### Section 5.4.1: Defining the dictionary"
      ],
      "metadata": {
        "id": "MTtt30lfDjO1"
      }
    },
    {
      "cell_type": "code",
      "source": [
        "#Defining d1\n",
        "d1 = {'AI':99, 8.8:['ML', 'DL'], (1,2,3):['Big Data']}\n",
        "d1"
      ],
      "metadata": {
        "colab": {
          "base_uri": "https://localhost:8080/"
        },
        "id": "Zy-0bNHrNCiX",
        "outputId": "708af9d1-6511-4242-8ca2-74fc14dc0b39"
      },
      "execution_count": 36,
      "outputs": [
        {
          "output_type": "execute_result",
          "data": {
            "text/plain": [
              "{'AI': 99, 8.8: ['ML', 'DL'], (1, 2, 3): ['Big Data']}"
            ]
          },
          "metadata": {},
          "execution_count": 36
        }
      ]
    },
    {
      "cell_type": "code",
      "source": [
        "type(d1)"
      ],
      "metadata": {
        "colab": {
          "base_uri": "https://localhost:8080/"
        },
        "id": "o82IQJuRPhkY",
        "outputId": "439d6fd9-12b0-49d5-f7f9-e5f4cf30521d"
      },
      "execution_count": null,
      "outputs": [
        {
          "output_type": "execute_result",
          "data": {
            "text/plain": [
              "dict"
            ]
          },
          "metadata": {},
          "execution_count": 51
        }
      ]
    },
    {
      "cell_type": "markdown",
      "source": [
        "### Section 5.4.2: Finding value of the key"
      ],
      "metadata": {
        "id": "UZ4xDtgoDLVP"
      }
    },
    {
      "cell_type": "code",
      "source": [
        "#Finding the value of the key\n",
        "d1[(1,2,3)]"
      ],
      "metadata": {
        "colab": {
          "base_uri": "https://localhost:8080/"
        },
        "id": "QQbIXgPWPj8X",
        "outputId": "0e9daaab-b368-4f56-87b4-83c062a2263d"
      },
      "execution_count": null,
      "outputs": [
        {
          "output_type": "execute_result",
          "data": {
            "text/plain": [
              "['Big Data']"
            ]
          },
          "metadata": {},
          "execution_count": 57
        }
      ]
    },
    {
      "cell_type": "code",
      "source": [
        "#calling the values of the keys\n",
        "d1.values()"
      ],
      "metadata": {
        "colab": {
          "base_uri": "https://localhost:8080/"
        },
        "id": "Ld_DBF9jQoUL",
        "outputId": "c4608501-6b7d-4d28-e51b-92105a4fdb01"
      },
      "execution_count": null,
      "outputs": [
        {
          "output_type": "execute_result",
          "data": {
            "text/plain": [
              "dict_values([99, ['ML', 'DL'], ['Big Data']])"
            ]
          },
          "metadata": {},
          "execution_count": 56
        }
      ]
    },
    {
      "cell_type": "markdown",
      "source": [
        "### Section 5.4.3: Finding the key name"
      ],
      "metadata": {
        "id": "FqAAuAg1DPpD"
      }
    },
    {
      "cell_type": "code",
      "source": [
        "#calling the keys\n",
        "d1.keys()"
      ],
      "metadata": {
        "colab": {
          "base_uri": "https://localhost:8080/"
        },
        "id": "j0asDjk9QdCm",
        "outputId": "731d5c09-97e5-44b6-918f-fa4133e3a66d"
      },
      "execution_count": null,
      "outputs": [
        {
          "output_type": "execute_result",
          "data": {
            "text/plain": [
              "dict_keys(['AI', 8.8, (1, 2, 3)])"
            ]
          },
          "metadata": {},
          "execution_count": 55
        }
      ]
    },
    {
      "cell_type": "markdown",
      "source": [
        "### Section 5.4.4: Updating Value of A Key"
      ],
      "metadata": {
        "id": "Z_qfuot7Dv6Y"
      }
    },
    {
      "cell_type": "code",
      "source": [
        "#change value of a key\n",
        "\n",
        "d1['AI'] = -10 #updated key\n",
        "d1"
      ],
      "metadata": {
        "colab": {
          "base_uri": "https://localhost:8080/"
        },
        "id": "fW9Td1DfQ1ae",
        "outputId": "af43bfa9-37a7-4698-97be-1f6418f4f861"
      },
      "execution_count": null,
      "outputs": [
        {
          "output_type": "execute_result",
          "data": {
            "text/plain": [
              "{'AI': -10, 8.8: ['ML', 'DL'], (1, 2, 3): ['Big Data']}"
            ]
          },
          "metadata": {},
          "execution_count": 59
        }
      ]
    },
    {
      "cell_type": "markdown",
      "source": [
        "### Section 5.4.5: Delete function in dictionary (.pop)"
      ],
      "metadata": {
        "id": "h_UhiehWC47J"
      }
    },
    {
      "cell_type": "code",
      "source": [
        "#delete an item.\n",
        "\n",
        "d1.pop((1, 2, 3))\n",
        "d1"
      ],
      "metadata": {
        "colab": {
          "base_uri": "https://localhost:8080/"
        },
        "id": "jEvBwLzORduc",
        "outputId": "b6eeb4a6-db2e-4f75-9e10-73b15a336618"
      },
      "execution_count": null,
      "outputs": [
        {
          "output_type": "execute_result",
          "data": {
            "text/plain": [
              "{'AI': -10, 8.8: ['ML', 'DL']}"
            ]
          },
          "metadata": {},
          "execution_count": 60
        }
      ]
    },
    {
      "cell_type": "markdown",
      "source": [
        "### Section 5.4.6: Key is Unique"
      ],
      "metadata": {
        "id": "ooo3zEOKF0DE"
      }
    },
    {
      "cell_type": "code",
      "source": [],
      "metadata": {
        "id": "dZG0n61AHXSx"
      },
      "execution_count": null,
      "outputs": []
    },
    {
      "cell_type": "markdown",
      "source": [
        "**ERROR ALERT!!!**\n",
        "\n",
        "* Key must be unique (immutable)\n",
        "* Here we can see that d2 defines a list [ ] as a key -- { [1,2] :99} (WRONG)\n",
        "* Where it should have been a tuple ( ) (because tuple is immutable) -- {(1,2):99] (CORRECT)"
      ],
      "metadata": {
        "id": "JOCVCdypERqp"
      }
    },
    {
      "cell_type": "code",
      "source": [
        "d2 = {[1,2]:99, (100,200):['maryam']}\n",
        "d2\n",
        "\n",
        "#error: because list is mutable. it is not unique. key must be unique"
      ],
      "metadata": {
        "colab": {
          "base_uri": "https://localhost:8080/",
          "height": 193
        },
        "id": "frt427XxRubq",
        "outputId": "97ff6eda-eadc-4533-dd1d-f444ce2c28dd"
      },
      "execution_count": 38,
      "outputs": [
        {
          "output_type": "error",
          "ename": "TypeError",
          "evalue": "unhashable type: 'list'",
          "traceback": [
            "\u001b[0;31m---------------------------------------------------------------------------\u001b[0m",
            "\u001b[0;31mTypeError\u001b[0m                                 Traceback (most recent call last)",
            "\u001b[0;32m<ipython-input-38-340e4f865167>\u001b[0m in \u001b[0;36m<cell line: 1>\u001b[0;34m()\u001b[0m\n\u001b[0;32m----> 1\u001b[0;31m \u001b[0md2\u001b[0m \u001b[0;34m=\u001b[0m \u001b[0;34m{\u001b[0m\u001b[0;34m[\u001b[0m\u001b[0;36m1\u001b[0m\u001b[0;34m,\u001b[0m\u001b[0;36m2\u001b[0m\u001b[0;34m]\u001b[0m\u001b[0;34m:\u001b[0m\u001b[0;36m99\u001b[0m\u001b[0;34m,\u001b[0m \u001b[0;34m(\u001b[0m\u001b[0;36m100\u001b[0m\u001b[0;34m,\u001b[0m\u001b[0;36m200\u001b[0m\u001b[0;34m)\u001b[0m\u001b[0;34m:\u001b[0m\u001b[0;34m[\u001b[0m\u001b[0;34m'maryam'\u001b[0m\u001b[0;34m]\u001b[0m\u001b[0;34m}\u001b[0m\u001b[0;34m\u001b[0m\u001b[0;34m\u001b[0m\u001b[0m\n\u001b[0m\u001b[1;32m      2\u001b[0m \u001b[0md2\u001b[0m\u001b[0;34m\u001b[0m\u001b[0;34m\u001b[0m\u001b[0m\n\u001b[1;32m      3\u001b[0m \u001b[0;34m\u001b[0m\u001b[0m\n\u001b[1;32m      4\u001b[0m \u001b[0;31m#error: because list is mutable. it is not unique. key must be unique\u001b[0m\u001b[0;34m\u001b[0m\u001b[0;34m\u001b[0m\u001b[0m\n",
            "\u001b[0;31mTypeError\u001b[0m: unhashable type: 'list'"
          ]
        }
      ]
    },
    {
      "cell_type": "markdown",
      "source": [
        "**The correct way to define a key:**"
      ],
      "metadata": {
        "id": "gk5P7PRWFCml"
      }
    },
    {
      "cell_type": "code",
      "source": [
        "d3 = {(1,2):99, (100,200):['maryam']}\n",
        "d3"
      ],
      "metadata": {
        "colab": {
          "base_uri": "https://localhost:8080/"
        },
        "id": "dXs---wnSJ8x",
        "outputId": "67f384d4-1fb9-402e-e538-fbe783d59749"
      },
      "execution_count": 39,
      "outputs": [
        {
          "output_type": "execute_result",
          "data": {
            "text/plain": [
              "{(1, 2): 99, (100, 200): ['maryam']}"
            ]
          },
          "metadata": {},
          "execution_count": 39
        }
      ]
    }
  ],
  "metadata": {
    "colab": {
      "provenance": [],
      "collapsed_sections": [
        "XZQYrvECjmnr",
        "TIiNt4sknHI4",
        "gedrznFUrpGV",
        "ZFZyNBDrEwYW",
        "-2o7VoLKGEhv",
        "D8-nFKOe9Mxo",
        "aTN-brVC_WKg",
        "u-EzrF_u5BDr",
        "E-lV5_F65gEb",
        "xzeCmLy95rk_",
        "ZwOi6vQn6ZDc",
        "Yl9ptbjm6xPs",
        "MTtt30lfDjO1",
        "UZ4xDtgoDLVP",
        "FqAAuAg1DPpD",
        "Z_qfuot7Dv6Y",
        "h_UhiehWC47J",
        "ooo3zEOKF0DE"
      ],
      "authorship_tag": "ABX9TyMqePYSIiXA/njrdDtDO71a"
    },
    "kernelspec": {
      "display_name": "Python 3",
      "name": "python3"
    },
    "language_info": {
      "name": "python"
    }
  },
  "nbformat": 4,
  "nbformat_minor": 0
}
