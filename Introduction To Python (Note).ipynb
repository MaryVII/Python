{
  "nbformat": 4,
  "nbformat_minor": 0,
  "metadata": {
    "colab": {
      "provenance": []
    },
    "kernelspec": {
      "name": "python3",
      "display_name": "Python 3"
    },
    "language_info": {
      "name": "python"
    }
  },
  "cells": [
    {
      "cell_type": "markdown",
      "source": [
        "#Introduction To Python"
      ],
      "metadata": {
        "id": "HBAgCmkzIAG8"
      }
    },
    {
      "cell_type": "markdown",
      "source": [
        "## Table of Contents\n",
        "- [Section 1: Pandas Library](#section1)\n",
        "  - [Subsection 1.1: How to import Pandas library](#subsection1.1)\n",
        "  - [Subsection 1.2: How to read .csv file](#subsection1.2)\n",
        "  - [Subsection 1.3: How to read first 5 rows](#subsection1.3)\n",
        "  - [Subsection 1.4: How to first 10 rows](#subsection1.4)\n",
        "  -[Subsection 1.5: How to read last 10 rows](#subsection1.5)\n",
        "  - [Subsection 1.6: Discovering how many rows and columns](#subsection1.6)\n",
        "- [Section 2: Data Types](#section2)\n",
        "  - [Subsection 2.1: Python Data Types](#subsection2.1)\n",
        "  - [Subsection 2.2: Boolena Data Types](#subsection2.2)\n",
        "- [Section 3: Expressions, Variables, Conditions](#section3)\n",
        "  - [Subsection 3.1: Expressions](#subsection3.1)\n",
        "  - [Subsection 3.2: Variables](#subsection3.2)\n",
        "  - [Subsection 3.3: Conditions](#subsection3.3)"
      ],
      "metadata": {
        "id": "CSClGN-TTxb9"
      }
    },
    {
      "cell_type": "markdown",
      "source": [
        "# <a id='section1'></a> Section 1: Pandas Library"
      ],
      "metadata": {
        "id": "YrwUbtsLR5rv"
      }
    },
    {
      "cell_type": "markdown",
      "source": [
        "### <a id='section1.1'></a> Section 1.1: How to import Pandas libary"
      ],
      "metadata": {
        "id": "w9qISx0hSENd"
      }
    },
    {
      "cell_type": "code",
      "source": [
        "import pandas as pd"
      ],
      "metadata": {
        "id": "TTQt5FiBCN3o"
      },
      "execution_count": null,
      "outputs": []
    },
    {
      "cell_type": "markdown",
      "source": [
        "### <a id='section1.2'></a> Section 1.2: How to read .csv file"
      ],
      "metadata": {
        "id": "yyG8MsHxSuIW"
      }
    },
    {
      "cell_type": "code",
      "source": [
        "df=pd.read_csv('NFLX.csv')"
      ],
      "metadata": {
        "id": "f3xjizBHS29M"
      },
      "execution_count": null,
      "outputs": []
    },
    {
      "cell_type": "markdown",
      "source": [
        "### <a id='section1.3'></a> Section 1.3: How to read first 5 rows"
      ],
      "metadata": {
        "id": "iUHC84N2Im45"
      }
    },
    {
      "cell_type": "code",
      "source": [
        "df.head()"
      ],
      "metadata": {
        "colab": {
          "base_uri": "https://localhost:8080/",
          "height": 206
        },
        "id": "TgJ_C5g1IsBV",
        "outputId": "d3abde4a-750d-4ac6-d6d5-557cb3a3c009"
      },
      "execution_count": null,
      "outputs": [
        {
          "output_type": "execute_result",
          "data": {
            "text/plain": [
              "         Date        Open        High         Low       Close   Adj Close  \\\n",
              "0  2015-12-16  119.800003  123.000000  118.089996  122.639999  122.639999   \n",
              "1  2015-12-17  123.970001  126.349998  122.419998  122.510002  122.510002   \n",
              "2  2015-12-18  120.849998  122.190002  117.919998  118.019997  118.019997   \n",
              "3  2015-12-21  119.510002  119.589996  115.660004  116.629997  116.629997   \n",
              "4  2015-12-22  117.300003  117.430000  114.860001  116.239998  116.239998   \n",
              "\n",
              "     Volume  \n",
              "0  13181000  \n",
              "1  17284900  \n",
              "2  17948100  \n",
              "3  11670000  \n",
              "4   9689000  "
            ],
            "text/html": [
              "\n",
              "  <div id=\"df-d0d2c3e1-3317-4b69-8255-37f10e44aced\" class=\"colab-df-container\">\n",
              "    <div>\n",
              "<style scoped>\n",
              "    .dataframe tbody tr th:only-of-type {\n",
              "        vertical-align: middle;\n",
              "    }\n",
              "\n",
              "    .dataframe tbody tr th {\n",
              "        vertical-align: top;\n",
              "    }\n",
              "\n",
              "    .dataframe thead th {\n",
              "        text-align: right;\n",
              "    }\n",
              "</style>\n",
              "<table border=\"1\" class=\"dataframe\">\n",
              "  <thead>\n",
              "    <tr style=\"text-align: right;\">\n",
              "      <th></th>\n",
              "      <th>Date</th>\n",
              "      <th>Open</th>\n",
              "      <th>High</th>\n",
              "      <th>Low</th>\n",
              "      <th>Close</th>\n",
              "      <th>Adj Close</th>\n",
              "      <th>Volume</th>\n",
              "    </tr>\n",
              "  </thead>\n",
              "  <tbody>\n",
              "    <tr>\n",
              "      <th>0</th>\n",
              "      <td>2015-12-16</td>\n",
              "      <td>119.800003</td>\n",
              "      <td>123.000000</td>\n",
              "      <td>118.089996</td>\n",
              "      <td>122.639999</td>\n",
              "      <td>122.639999</td>\n",
              "      <td>13181000</td>\n",
              "    </tr>\n",
              "    <tr>\n",
              "      <th>1</th>\n",
              "      <td>2015-12-17</td>\n",
              "      <td>123.970001</td>\n",
              "      <td>126.349998</td>\n",
              "      <td>122.419998</td>\n",
              "      <td>122.510002</td>\n",
              "      <td>122.510002</td>\n",
              "      <td>17284900</td>\n",
              "    </tr>\n",
              "    <tr>\n",
              "      <th>2</th>\n",
              "      <td>2015-12-18</td>\n",
              "      <td>120.849998</td>\n",
              "      <td>122.190002</td>\n",
              "      <td>117.919998</td>\n",
              "      <td>118.019997</td>\n",
              "      <td>118.019997</td>\n",
              "      <td>17948100</td>\n",
              "    </tr>\n",
              "    <tr>\n",
              "      <th>3</th>\n",
              "      <td>2015-12-21</td>\n",
              "      <td>119.510002</td>\n",
              "      <td>119.589996</td>\n",
              "      <td>115.660004</td>\n",
              "      <td>116.629997</td>\n",
              "      <td>116.629997</td>\n",
              "      <td>11670000</td>\n",
              "    </tr>\n",
              "    <tr>\n",
              "      <th>4</th>\n",
              "      <td>2015-12-22</td>\n",
              "      <td>117.300003</td>\n",
              "      <td>117.430000</td>\n",
              "      <td>114.860001</td>\n",
              "      <td>116.239998</td>\n",
              "      <td>116.239998</td>\n",
              "      <td>9689000</td>\n",
              "    </tr>\n",
              "  </tbody>\n",
              "</table>\n",
              "</div>\n",
              "    <div class=\"colab-df-buttons\">\n",
              "\n",
              "  <div class=\"colab-df-container\">\n",
              "    <button class=\"colab-df-convert\" onclick=\"convertToInteractive('df-d0d2c3e1-3317-4b69-8255-37f10e44aced')\"\n",
              "            title=\"Convert this dataframe to an interactive table.\"\n",
              "            style=\"display:none;\">\n",
              "\n",
              "  <svg xmlns=\"http://www.w3.org/2000/svg\" height=\"24px\" viewBox=\"0 -960 960 960\">\n",
              "    <path d=\"M120-120v-720h720v720H120Zm60-500h600v-160H180v160Zm220 220h160v-160H400v160Zm0 220h160v-160H400v160ZM180-400h160v-160H180v160Zm440 0h160v-160H620v160ZM180-180h160v-160H180v160Zm440 0h160v-160H620v160Z\"/>\n",
              "  </svg>\n",
              "    </button>\n",
              "\n",
              "  <style>\n",
              "    .colab-df-container {\n",
              "      display:flex;\n",
              "      gap: 12px;\n",
              "    }\n",
              "\n",
              "    .colab-df-convert {\n",
              "      background-color: #E8F0FE;\n",
              "      border: none;\n",
              "      border-radius: 50%;\n",
              "      cursor: pointer;\n",
              "      display: none;\n",
              "      fill: #1967D2;\n",
              "      height: 32px;\n",
              "      padding: 0 0 0 0;\n",
              "      width: 32px;\n",
              "    }\n",
              "\n",
              "    .colab-df-convert:hover {\n",
              "      background-color: #E2EBFA;\n",
              "      box-shadow: 0px 1px 2px rgba(60, 64, 67, 0.3), 0px 1px 3px 1px rgba(60, 64, 67, 0.15);\n",
              "      fill: #174EA6;\n",
              "    }\n",
              "\n",
              "    .colab-df-buttons div {\n",
              "      margin-bottom: 4px;\n",
              "    }\n",
              "\n",
              "    [theme=dark] .colab-df-convert {\n",
              "      background-color: #3B4455;\n",
              "      fill: #D2E3FC;\n",
              "    }\n",
              "\n",
              "    [theme=dark] .colab-df-convert:hover {\n",
              "      background-color: #434B5C;\n",
              "      box-shadow: 0px 1px 3px 1px rgba(0, 0, 0, 0.15);\n",
              "      filter: drop-shadow(0px 1px 2px rgba(0, 0, 0, 0.3));\n",
              "      fill: #FFFFFF;\n",
              "    }\n",
              "  </style>\n",
              "\n",
              "    <script>\n",
              "      const buttonEl =\n",
              "        document.querySelector('#df-d0d2c3e1-3317-4b69-8255-37f10e44aced button.colab-df-convert');\n",
              "      buttonEl.style.display =\n",
              "        google.colab.kernel.accessAllowed ? 'block' : 'none';\n",
              "\n",
              "      async function convertToInteractive(key) {\n",
              "        const element = document.querySelector('#df-d0d2c3e1-3317-4b69-8255-37f10e44aced');\n",
              "        const dataTable =\n",
              "          await google.colab.kernel.invokeFunction('convertToInteractive',\n",
              "                                                    [key], {});\n",
              "        if (!dataTable) return;\n",
              "\n",
              "        const docLinkHtml = 'Like what you see? Visit the ' +\n",
              "          '<a target=\"_blank\" href=https://colab.research.google.com/notebooks/data_table.ipynb>data table notebook</a>'\n",
              "          + ' to learn more about interactive tables.';\n",
              "        element.innerHTML = '';\n",
              "        dataTable['output_type'] = 'display_data';\n",
              "        await google.colab.output.renderOutput(dataTable, element);\n",
              "        const docLink = document.createElement('div');\n",
              "        docLink.innerHTML = docLinkHtml;\n",
              "        element.appendChild(docLink);\n",
              "      }\n",
              "    </script>\n",
              "  </div>\n",
              "\n",
              "\n",
              "<div id=\"df-b31f2f44-30e5-4536-accc-4f811013bb63\">\n",
              "  <button class=\"colab-df-quickchart\" onclick=\"quickchart('df-b31f2f44-30e5-4536-accc-4f811013bb63')\"\n",
              "            title=\"Suggest charts\"\n",
              "            style=\"display:none;\">\n",
              "\n",
              "<svg xmlns=\"http://www.w3.org/2000/svg\" height=\"24px\"viewBox=\"0 0 24 24\"\n",
              "     width=\"24px\">\n",
              "    <g>\n",
              "        <path d=\"M19 3H5c-1.1 0-2 .9-2 2v14c0 1.1.9 2 2 2h14c1.1 0 2-.9 2-2V5c0-1.1-.9-2-2-2zM9 17H7v-7h2v7zm4 0h-2V7h2v10zm4 0h-2v-4h2v4z\"/>\n",
              "    </g>\n",
              "</svg>\n",
              "  </button>\n",
              "\n",
              "<style>\n",
              "  .colab-df-quickchart {\n",
              "      --bg-color: #E8F0FE;\n",
              "      --fill-color: #1967D2;\n",
              "      --hover-bg-color: #E2EBFA;\n",
              "      --hover-fill-color: #174EA6;\n",
              "      --disabled-fill-color: #AAA;\n",
              "      --disabled-bg-color: #DDD;\n",
              "  }\n",
              "\n",
              "  [theme=dark] .colab-df-quickchart {\n",
              "      --bg-color: #3B4455;\n",
              "      --fill-color: #D2E3FC;\n",
              "      --hover-bg-color: #434B5C;\n",
              "      --hover-fill-color: #FFFFFF;\n",
              "      --disabled-bg-color: #3B4455;\n",
              "      --disabled-fill-color: #666;\n",
              "  }\n",
              "\n",
              "  .colab-df-quickchart {\n",
              "    background-color: var(--bg-color);\n",
              "    border: none;\n",
              "    border-radius: 50%;\n",
              "    cursor: pointer;\n",
              "    display: none;\n",
              "    fill: var(--fill-color);\n",
              "    height: 32px;\n",
              "    padding: 0;\n",
              "    width: 32px;\n",
              "  }\n",
              "\n",
              "  .colab-df-quickchart:hover {\n",
              "    background-color: var(--hover-bg-color);\n",
              "    box-shadow: 0 1px 2px rgba(60, 64, 67, 0.3), 0 1px 3px 1px rgba(60, 64, 67, 0.15);\n",
              "    fill: var(--button-hover-fill-color);\n",
              "  }\n",
              "\n",
              "  .colab-df-quickchart-complete:disabled,\n",
              "  .colab-df-quickchart-complete:disabled:hover {\n",
              "    background-color: var(--disabled-bg-color);\n",
              "    fill: var(--disabled-fill-color);\n",
              "    box-shadow: none;\n",
              "  }\n",
              "\n",
              "  .colab-df-spinner {\n",
              "    border: 2px solid var(--fill-color);\n",
              "    border-color: transparent;\n",
              "    border-bottom-color: var(--fill-color);\n",
              "    animation:\n",
              "      spin 1s steps(1) infinite;\n",
              "  }\n",
              "\n",
              "  @keyframes spin {\n",
              "    0% {\n",
              "      border-color: transparent;\n",
              "      border-bottom-color: var(--fill-color);\n",
              "      border-left-color: var(--fill-color);\n",
              "    }\n",
              "    20% {\n",
              "      border-color: transparent;\n",
              "      border-left-color: var(--fill-color);\n",
              "      border-top-color: var(--fill-color);\n",
              "    }\n",
              "    30% {\n",
              "      border-color: transparent;\n",
              "      border-left-color: var(--fill-color);\n",
              "      border-top-color: var(--fill-color);\n",
              "      border-right-color: var(--fill-color);\n",
              "    }\n",
              "    40% {\n",
              "      border-color: transparent;\n",
              "      border-right-color: var(--fill-color);\n",
              "      border-top-color: var(--fill-color);\n",
              "    }\n",
              "    60% {\n",
              "      border-color: transparent;\n",
              "      border-right-color: var(--fill-color);\n",
              "    }\n",
              "    80% {\n",
              "      border-color: transparent;\n",
              "      border-right-color: var(--fill-color);\n",
              "      border-bottom-color: var(--fill-color);\n",
              "    }\n",
              "    90% {\n",
              "      border-color: transparent;\n",
              "      border-bottom-color: var(--fill-color);\n",
              "    }\n",
              "  }\n",
              "</style>\n",
              "\n",
              "  <script>\n",
              "    async function quickchart(key) {\n",
              "      const quickchartButtonEl =\n",
              "        document.querySelector('#' + key + ' button');\n",
              "      quickchartButtonEl.disabled = true;  // To prevent multiple clicks.\n",
              "      quickchartButtonEl.classList.add('colab-df-spinner');\n",
              "      try {\n",
              "        const charts = await google.colab.kernel.invokeFunction(\n",
              "            'suggestCharts', [key], {});\n",
              "      } catch (error) {\n",
              "        console.error('Error during call to suggestCharts:', error);\n",
              "      }\n",
              "      quickchartButtonEl.classList.remove('colab-df-spinner');\n",
              "      quickchartButtonEl.classList.add('colab-df-quickchart-complete');\n",
              "    }\n",
              "    (() => {\n",
              "      let quickchartButtonEl =\n",
              "        document.querySelector('#df-b31f2f44-30e5-4536-accc-4f811013bb63 button');\n",
              "      quickchartButtonEl.style.display =\n",
              "        google.colab.kernel.accessAllowed ? 'block' : 'none';\n",
              "    })();\n",
              "  </script>\n",
              "</div>\n",
              "\n",
              "    </div>\n",
              "  </div>\n"
            ],
            "application/vnd.google.colaboratory.intrinsic+json": {
              "type": "dataframe",
              "variable_name": "df",
              "summary": "{\n  \"name\": \"df\",\n  \"rows\": 1007,\n  \"fields\": [\n    {\n      \"column\": \"Date\",\n      \"properties\": {\n        \"dtype\": \"object\",\n        \"num_unique_values\": 1007,\n        \"samples\": [\n          \"2019-08-23\",\n          \"2018-06-19\",\n          \"2018-08-31\"\n        ],\n        \"semantic_type\": \"\",\n        \"description\": \"\"\n      }\n    },\n    {\n      \"column\": \"Open\",\n      \"properties\": {\n        \"dtype\": \"number\",\n        \"std\": 103.3054224736868,\n        \"min\": 80.57,\n        \"max\": 421.380005,\n        \"num_unique_values\": 965,\n        \"samples\": [\n          295.23999,\n          196.649994,\n          97.330002\n        ],\n        \"semantic_type\": \"\",\n        \"description\": \"\"\n      }\n    },\n    {\n      \"column\": \"High\",\n      \"properties\": {\n        \"dtype\": \"number\",\n        \"std\": 104.85134917606165,\n        \"min\": 84.699997,\n        \"max\": 423.209991,\n        \"num_unique_values\": 973,\n        \"samples\": [\n          122.449997,\n          331.440002,\n          100.190002\n        ],\n        \"semantic_type\": \"\",\n        \"description\": \"\"\n      }\n    },\n    {\n      \"column\": \"Low\",\n      \"properties\": {\n        \"dtype\": \"number\",\n        \"std\": 101.45861102484218,\n        \"min\": 79.949997,\n        \"max\": 413.079987,\n        \"num_unique_values\": 975,\n        \"samples\": [\n          121.059998,\n          358.890015,\n          95.709999\n        ],\n        \"semantic_type\": \"\",\n        \"description\": \"\"\n      }\n    },\n    {\n      \"column\": \"Close\",\n      \"properties\": {\n        \"dtype\": \"number\",\n        \"std\": 103.20378485652908,\n        \"min\": 82.790001,\n        \"max\": 418.970001,\n        \"num_unique_values\": 979,\n        \"samples\": [\n          99.5,\n          321.160004,\n          97.379997\n        ],\n        \"semantic_type\": \"\",\n        \"description\": \"\"\n      }\n    },\n    {\n      \"column\": \"Adj Close\",\n      \"properties\": {\n        \"dtype\": \"number\",\n        \"std\": 103.20378485652908,\n        \"min\": 82.790001,\n        \"max\": 418.970001,\n        \"num_unique_values\": 979,\n        \"samples\": [\n          99.5,\n          321.160004,\n          97.379997\n        ],\n        \"semantic_type\": \"\",\n        \"description\": \"\"\n      }\n    },\n    {\n      \"column\": \"Volume\",\n      \"properties\": {\n        \"dtype\": \"number\",\n        \"std\": 6398966,\n        \"min\": 1616300,\n        \"max\": 58410400,\n        \"num_unique_values\": 1004,\n        \"samples\": [\n          6309400,\n          16494600,\n          7605200\n        ],\n        \"semantic_type\": \"\",\n        \"description\": \"\"\n      }\n    }\n  ]\n}"
            }
          },
          "metadata": {},
          "execution_count": 27
        }
      ]
    },
    {
      "cell_type": "markdown",
      "source": [
        "### <a id='section1.4'></a> Section 1.4: How to first 10 rows\n",
        "Just add a number into the Parentheses or bracket () depending on the number of rows you want"
      ],
      "metadata": {
        "id": "IDzNe14MIy0i"
      }
    },
    {
      "cell_type": "code",
      "source": [
        "df.head(10)"
      ],
      "metadata": {
        "colab": {
          "base_uri": "https://localhost:8080/",
          "height": 363
        },
        "id": "NJgmogguEuFs",
        "outputId": "0a658de2-ae86-4435-a973-233480bc1239"
      },
      "execution_count": null,
      "outputs": [
        {
          "output_type": "execute_result",
          "data": {
            "text/plain": [
              "         Date        Open        High         Low       Close   Adj Close  \\\n",
              "0  2015-12-16  119.800003  123.000000  118.089996  122.639999  122.639999   \n",
              "1  2015-12-17  123.970001  126.349998  122.419998  122.510002  122.510002   \n",
              "2  2015-12-18  120.849998  122.190002  117.919998  118.019997  118.019997   \n",
              "3  2015-12-21  119.510002  119.589996  115.660004  116.629997  116.629997   \n",
              "4  2015-12-22  117.300003  117.430000  114.860001  116.239998  116.239998   \n",
              "5  2015-12-23  116.910004  118.559998  115.779999  118.160004  118.160004   \n",
              "6  2015-12-24  118.220001  118.800003  117.300003  117.330002  117.330002   \n",
              "7  2015-12-28  117.260002  117.349998  113.849998  117.110001  117.110001   \n",
              "8  2015-12-29  118.190002  119.599998  116.919998  119.120003  119.120003   \n",
              "9  2015-12-30  118.949997  119.019997  116.430000  116.709999  116.709999   \n",
              "\n",
              "     Volume  \n",
              "0  13181000  \n",
              "1  17284900  \n",
              "2  17948100  \n",
              "3  11670000  \n",
              "4   9689000  \n",
              "5   9324300  \n",
              "6   3531300  \n",
              "7   8424300  \n",
              "8   8159200  \n",
              "9   8149700  "
            ],
            "text/html": [
              "\n",
              "  <div id=\"df-6ce34bd9-ae9b-40e6-a3f3-11ffb3595c1b\" class=\"colab-df-container\">\n",
              "    <div>\n",
              "<style scoped>\n",
              "    .dataframe tbody tr th:only-of-type {\n",
              "        vertical-align: middle;\n",
              "    }\n",
              "\n",
              "    .dataframe tbody tr th {\n",
              "        vertical-align: top;\n",
              "    }\n",
              "\n",
              "    .dataframe thead th {\n",
              "        text-align: right;\n",
              "    }\n",
              "</style>\n",
              "<table border=\"1\" class=\"dataframe\">\n",
              "  <thead>\n",
              "    <tr style=\"text-align: right;\">\n",
              "      <th></th>\n",
              "      <th>Date</th>\n",
              "      <th>Open</th>\n",
              "      <th>High</th>\n",
              "      <th>Low</th>\n",
              "      <th>Close</th>\n",
              "      <th>Adj Close</th>\n",
              "      <th>Volume</th>\n",
              "    </tr>\n",
              "  </thead>\n",
              "  <tbody>\n",
              "    <tr>\n",
              "      <th>0</th>\n",
              "      <td>2015-12-16</td>\n",
              "      <td>119.800003</td>\n",
              "      <td>123.000000</td>\n",
              "      <td>118.089996</td>\n",
              "      <td>122.639999</td>\n",
              "      <td>122.639999</td>\n",
              "      <td>13181000</td>\n",
              "    </tr>\n",
              "    <tr>\n",
              "      <th>1</th>\n",
              "      <td>2015-12-17</td>\n",
              "      <td>123.970001</td>\n",
              "      <td>126.349998</td>\n",
              "      <td>122.419998</td>\n",
              "      <td>122.510002</td>\n",
              "      <td>122.510002</td>\n",
              "      <td>17284900</td>\n",
              "    </tr>\n",
              "    <tr>\n",
              "      <th>2</th>\n",
              "      <td>2015-12-18</td>\n",
              "      <td>120.849998</td>\n",
              "      <td>122.190002</td>\n",
              "      <td>117.919998</td>\n",
              "      <td>118.019997</td>\n",
              "      <td>118.019997</td>\n",
              "      <td>17948100</td>\n",
              "    </tr>\n",
              "    <tr>\n",
              "      <th>3</th>\n",
              "      <td>2015-12-21</td>\n",
              "      <td>119.510002</td>\n",
              "      <td>119.589996</td>\n",
              "      <td>115.660004</td>\n",
              "      <td>116.629997</td>\n",
              "      <td>116.629997</td>\n",
              "      <td>11670000</td>\n",
              "    </tr>\n",
              "    <tr>\n",
              "      <th>4</th>\n",
              "      <td>2015-12-22</td>\n",
              "      <td>117.300003</td>\n",
              "      <td>117.430000</td>\n",
              "      <td>114.860001</td>\n",
              "      <td>116.239998</td>\n",
              "      <td>116.239998</td>\n",
              "      <td>9689000</td>\n",
              "    </tr>\n",
              "    <tr>\n",
              "      <th>5</th>\n",
              "      <td>2015-12-23</td>\n",
              "      <td>116.910004</td>\n",
              "      <td>118.559998</td>\n",
              "      <td>115.779999</td>\n",
              "      <td>118.160004</td>\n",
              "      <td>118.160004</td>\n",
              "      <td>9324300</td>\n",
              "    </tr>\n",
              "    <tr>\n",
              "      <th>6</th>\n",
              "      <td>2015-12-24</td>\n",
              "      <td>118.220001</td>\n",
              "      <td>118.800003</td>\n",
              "      <td>117.300003</td>\n",
              "      <td>117.330002</td>\n",
              "      <td>117.330002</td>\n",
              "      <td>3531300</td>\n",
              "    </tr>\n",
              "    <tr>\n",
              "      <th>7</th>\n",
              "      <td>2015-12-28</td>\n",
              "      <td>117.260002</td>\n",
              "      <td>117.349998</td>\n",
              "      <td>113.849998</td>\n",
              "      <td>117.110001</td>\n",
              "      <td>117.110001</td>\n",
              "      <td>8424300</td>\n",
              "    </tr>\n",
              "    <tr>\n",
              "      <th>8</th>\n",
              "      <td>2015-12-29</td>\n",
              "      <td>118.190002</td>\n",
              "      <td>119.599998</td>\n",
              "      <td>116.919998</td>\n",
              "      <td>119.120003</td>\n",
              "      <td>119.120003</td>\n",
              "      <td>8159200</td>\n",
              "    </tr>\n",
              "    <tr>\n",
              "      <th>9</th>\n",
              "      <td>2015-12-30</td>\n",
              "      <td>118.949997</td>\n",
              "      <td>119.019997</td>\n",
              "      <td>116.430000</td>\n",
              "      <td>116.709999</td>\n",
              "      <td>116.709999</td>\n",
              "      <td>8149700</td>\n",
              "    </tr>\n",
              "  </tbody>\n",
              "</table>\n",
              "</div>\n",
              "    <div class=\"colab-df-buttons\">\n",
              "\n",
              "  <div class=\"colab-df-container\">\n",
              "    <button class=\"colab-df-convert\" onclick=\"convertToInteractive('df-6ce34bd9-ae9b-40e6-a3f3-11ffb3595c1b')\"\n",
              "            title=\"Convert this dataframe to an interactive table.\"\n",
              "            style=\"display:none;\">\n",
              "\n",
              "  <svg xmlns=\"http://www.w3.org/2000/svg\" height=\"24px\" viewBox=\"0 -960 960 960\">\n",
              "    <path d=\"M120-120v-720h720v720H120Zm60-500h600v-160H180v160Zm220 220h160v-160H400v160Zm0 220h160v-160H400v160ZM180-400h160v-160H180v160Zm440 0h160v-160H620v160ZM180-180h160v-160H180v160Zm440 0h160v-160H620v160Z\"/>\n",
              "  </svg>\n",
              "    </button>\n",
              "\n",
              "  <style>\n",
              "    .colab-df-container {\n",
              "      display:flex;\n",
              "      gap: 12px;\n",
              "    }\n",
              "\n",
              "    .colab-df-convert {\n",
              "      background-color: #E8F0FE;\n",
              "      border: none;\n",
              "      border-radius: 50%;\n",
              "      cursor: pointer;\n",
              "      display: none;\n",
              "      fill: #1967D2;\n",
              "      height: 32px;\n",
              "      padding: 0 0 0 0;\n",
              "      width: 32px;\n",
              "    }\n",
              "\n",
              "    .colab-df-convert:hover {\n",
              "      background-color: #E2EBFA;\n",
              "      box-shadow: 0px 1px 2px rgba(60, 64, 67, 0.3), 0px 1px 3px 1px rgba(60, 64, 67, 0.15);\n",
              "      fill: #174EA6;\n",
              "    }\n",
              "\n",
              "    .colab-df-buttons div {\n",
              "      margin-bottom: 4px;\n",
              "    }\n",
              "\n",
              "    [theme=dark] .colab-df-convert {\n",
              "      background-color: #3B4455;\n",
              "      fill: #D2E3FC;\n",
              "    }\n",
              "\n",
              "    [theme=dark] .colab-df-convert:hover {\n",
              "      background-color: #434B5C;\n",
              "      box-shadow: 0px 1px 3px 1px rgba(0, 0, 0, 0.15);\n",
              "      filter: drop-shadow(0px 1px 2px rgba(0, 0, 0, 0.3));\n",
              "      fill: #FFFFFF;\n",
              "    }\n",
              "  </style>\n",
              "\n",
              "    <script>\n",
              "      const buttonEl =\n",
              "        document.querySelector('#df-6ce34bd9-ae9b-40e6-a3f3-11ffb3595c1b button.colab-df-convert');\n",
              "      buttonEl.style.display =\n",
              "        google.colab.kernel.accessAllowed ? 'block' : 'none';\n",
              "\n",
              "      async function convertToInteractive(key) {\n",
              "        const element = document.querySelector('#df-6ce34bd9-ae9b-40e6-a3f3-11ffb3595c1b');\n",
              "        const dataTable =\n",
              "          await google.colab.kernel.invokeFunction('convertToInteractive',\n",
              "                                                    [key], {});\n",
              "        if (!dataTable) return;\n",
              "\n",
              "        const docLinkHtml = 'Like what you see? Visit the ' +\n",
              "          '<a target=\"_blank\" href=https://colab.research.google.com/notebooks/data_table.ipynb>data table notebook</a>'\n",
              "          + ' to learn more about interactive tables.';\n",
              "        element.innerHTML = '';\n",
              "        dataTable['output_type'] = 'display_data';\n",
              "        await google.colab.output.renderOutput(dataTable, element);\n",
              "        const docLink = document.createElement('div');\n",
              "        docLink.innerHTML = docLinkHtml;\n",
              "        element.appendChild(docLink);\n",
              "      }\n",
              "    </script>\n",
              "  </div>\n",
              "\n",
              "\n",
              "<div id=\"df-33bcd769-bd75-4e13-bd30-dbcb204b6bd1\">\n",
              "  <button class=\"colab-df-quickchart\" onclick=\"quickchart('df-33bcd769-bd75-4e13-bd30-dbcb204b6bd1')\"\n",
              "            title=\"Suggest charts\"\n",
              "            style=\"display:none;\">\n",
              "\n",
              "<svg xmlns=\"http://www.w3.org/2000/svg\" height=\"24px\"viewBox=\"0 0 24 24\"\n",
              "     width=\"24px\">\n",
              "    <g>\n",
              "        <path d=\"M19 3H5c-1.1 0-2 .9-2 2v14c0 1.1.9 2 2 2h14c1.1 0 2-.9 2-2V5c0-1.1-.9-2-2-2zM9 17H7v-7h2v7zm4 0h-2V7h2v10zm4 0h-2v-4h2v4z\"/>\n",
              "    </g>\n",
              "</svg>\n",
              "  </button>\n",
              "\n",
              "<style>\n",
              "  .colab-df-quickchart {\n",
              "      --bg-color: #E8F0FE;\n",
              "      --fill-color: #1967D2;\n",
              "      --hover-bg-color: #E2EBFA;\n",
              "      --hover-fill-color: #174EA6;\n",
              "      --disabled-fill-color: #AAA;\n",
              "      --disabled-bg-color: #DDD;\n",
              "  }\n",
              "\n",
              "  [theme=dark] .colab-df-quickchart {\n",
              "      --bg-color: #3B4455;\n",
              "      --fill-color: #D2E3FC;\n",
              "      --hover-bg-color: #434B5C;\n",
              "      --hover-fill-color: #FFFFFF;\n",
              "      --disabled-bg-color: #3B4455;\n",
              "      --disabled-fill-color: #666;\n",
              "  }\n",
              "\n",
              "  .colab-df-quickchart {\n",
              "    background-color: var(--bg-color);\n",
              "    border: none;\n",
              "    border-radius: 50%;\n",
              "    cursor: pointer;\n",
              "    display: none;\n",
              "    fill: var(--fill-color);\n",
              "    height: 32px;\n",
              "    padding: 0;\n",
              "    width: 32px;\n",
              "  }\n",
              "\n",
              "  .colab-df-quickchart:hover {\n",
              "    background-color: var(--hover-bg-color);\n",
              "    box-shadow: 0 1px 2px rgba(60, 64, 67, 0.3), 0 1px 3px 1px rgba(60, 64, 67, 0.15);\n",
              "    fill: var(--button-hover-fill-color);\n",
              "  }\n",
              "\n",
              "  .colab-df-quickchart-complete:disabled,\n",
              "  .colab-df-quickchart-complete:disabled:hover {\n",
              "    background-color: var(--disabled-bg-color);\n",
              "    fill: var(--disabled-fill-color);\n",
              "    box-shadow: none;\n",
              "  }\n",
              "\n",
              "  .colab-df-spinner {\n",
              "    border: 2px solid var(--fill-color);\n",
              "    border-color: transparent;\n",
              "    border-bottom-color: var(--fill-color);\n",
              "    animation:\n",
              "      spin 1s steps(1) infinite;\n",
              "  }\n",
              "\n",
              "  @keyframes spin {\n",
              "    0% {\n",
              "      border-color: transparent;\n",
              "      border-bottom-color: var(--fill-color);\n",
              "      border-left-color: var(--fill-color);\n",
              "    }\n",
              "    20% {\n",
              "      border-color: transparent;\n",
              "      border-left-color: var(--fill-color);\n",
              "      border-top-color: var(--fill-color);\n",
              "    }\n",
              "    30% {\n",
              "      border-color: transparent;\n",
              "      border-left-color: var(--fill-color);\n",
              "      border-top-color: var(--fill-color);\n",
              "      border-right-color: var(--fill-color);\n",
              "    }\n",
              "    40% {\n",
              "      border-color: transparent;\n",
              "      border-right-color: var(--fill-color);\n",
              "      border-top-color: var(--fill-color);\n",
              "    }\n",
              "    60% {\n",
              "      border-color: transparent;\n",
              "      border-right-color: var(--fill-color);\n",
              "    }\n",
              "    80% {\n",
              "      border-color: transparent;\n",
              "      border-right-color: var(--fill-color);\n",
              "      border-bottom-color: var(--fill-color);\n",
              "    }\n",
              "    90% {\n",
              "      border-color: transparent;\n",
              "      border-bottom-color: var(--fill-color);\n",
              "    }\n",
              "  }\n",
              "</style>\n",
              "\n",
              "  <script>\n",
              "    async function quickchart(key) {\n",
              "      const quickchartButtonEl =\n",
              "        document.querySelector('#' + key + ' button');\n",
              "      quickchartButtonEl.disabled = true;  // To prevent multiple clicks.\n",
              "      quickchartButtonEl.classList.add('colab-df-spinner');\n",
              "      try {\n",
              "        const charts = await google.colab.kernel.invokeFunction(\n",
              "            'suggestCharts', [key], {});\n",
              "      } catch (error) {\n",
              "        console.error('Error during call to suggestCharts:', error);\n",
              "      }\n",
              "      quickchartButtonEl.classList.remove('colab-df-spinner');\n",
              "      quickchartButtonEl.classList.add('colab-df-quickchart-complete');\n",
              "    }\n",
              "    (() => {\n",
              "      let quickchartButtonEl =\n",
              "        document.querySelector('#df-33bcd769-bd75-4e13-bd30-dbcb204b6bd1 button');\n",
              "      quickchartButtonEl.style.display =\n",
              "        google.colab.kernel.accessAllowed ? 'block' : 'none';\n",
              "    })();\n",
              "  </script>\n",
              "</div>\n",
              "\n",
              "    </div>\n",
              "  </div>\n"
            ],
            "application/vnd.google.colaboratory.intrinsic+json": {
              "type": "dataframe",
              "variable_name": "df",
              "summary": "{\n  \"name\": \"df\",\n  \"rows\": 1007,\n  \"fields\": [\n    {\n      \"column\": \"Date\",\n      \"properties\": {\n        \"dtype\": \"object\",\n        \"num_unique_values\": 1007,\n        \"samples\": [\n          \"2019-08-23\",\n          \"2018-06-19\",\n          \"2018-08-31\"\n        ],\n        \"semantic_type\": \"\",\n        \"description\": \"\"\n      }\n    },\n    {\n      \"column\": \"Open\",\n      \"properties\": {\n        \"dtype\": \"number\",\n        \"std\": 103.3054224736868,\n        \"min\": 80.57,\n        \"max\": 421.380005,\n        \"num_unique_values\": 965,\n        \"samples\": [\n          295.23999,\n          196.649994,\n          97.330002\n        ],\n        \"semantic_type\": \"\",\n        \"description\": \"\"\n      }\n    },\n    {\n      \"column\": \"High\",\n      \"properties\": {\n        \"dtype\": \"number\",\n        \"std\": 104.85134917606165,\n        \"min\": 84.699997,\n        \"max\": 423.209991,\n        \"num_unique_values\": 973,\n        \"samples\": [\n          122.449997,\n          331.440002,\n          100.190002\n        ],\n        \"semantic_type\": \"\",\n        \"description\": \"\"\n      }\n    },\n    {\n      \"column\": \"Low\",\n      \"properties\": {\n        \"dtype\": \"number\",\n        \"std\": 101.45861102484218,\n        \"min\": 79.949997,\n        \"max\": 413.079987,\n        \"num_unique_values\": 975,\n        \"samples\": [\n          121.059998,\n          358.890015,\n          95.709999\n        ],\n        \"semantic_type\": \"\",\n        \"description\": \"\"\n      }\n    },\n    {\n      \"column\": \"Close\",\n      \"properties\": {\n        \"dtype\": \"number\",\n        \"std\": 103.20378485652908,\n        \"min\": 82.790001,\n        \"max\": 418.970001,\n        \"num_unique_values\": 979,\n        \"samples\": [\n          99.5,\n          321.160004,\n          97.379997\n        ],\n        \"semantic_type\": \"\",\n        \"description\": \"\"\n      }\n    },\n    {\n      \"column\": \"Adj Close\",\n      \"properties\": {\n        \"dtype\": \"number\",\n        \"std\": 103.20378485652908,\n        \"min\": 82.790001,\n        \"max\": 418.970001,\n        \"num_unique_values\": 979,\n        \"samples\": [\n          99.5,\n          321.160004,\n          97.379997\n        ],\n        \"semantic_type\": \"\",\n        \"description\": \"\"\n      }\n    },\n    {\n      \"column\": \"Volume\",\n      \"properties\": {\n        \"dtype\": \"number\",\n        \"std\": 6398966,\n        \"min\": 1616300,\n        \"max\": 58410400,\n        \"num_unique_values\": 1004,\n        \"samples\": [\n          6309400,\n          16494600,\n          7605200\n        ],\n        \"semantic_type\": \"\",\n        \"description\": \"\"\n      }\n    }\n  ]\n}"
            }
          },
          "metadata": {},
          "execution_count": 16
        }
      ]
    },
    {
      "cell_type": "markdown",
      "source": [
        "### <a id='section1.5'></a> Section 1.5: How to read last 10 rows"
      ],
      "metadata": {
        "id": "b2tC1pcPI5lv"
      }
    },
    {
      "cell_type": "code",
      "source": [
        "df.tail(10)"
      ],
      "metadata": {
        "colab": {
          "base_uri": "https://localhost:8080/",
          "height": 363
        },
        "id": "i27ehzGhF3EO",
        "outputId": "27633a66-cbf7-494c-962c-b13255423b44"
      },
      "execution_count": null,
      "outputs": [
        {
          "output_type": "execute_result",
          "data": {
            "text/plain": [
              "            Date        Open        High         Low       Close   Adj Close  \\\n",
              "997   2019-12-03  302.220001  307.359985  301.880005  306.160004  306.160004   \n",
              "998   2019-12-04  308.429993  308.429993  303.269989  304.320007  304.320007   \n",
              "999   2019-12-05  305.269989  306.480011  298.809998  302.859985  302.859985   \n",
              "1000  2019-12-06  304.700012  307.850006  302.600006  307.350006  307.350006   \n",
              "1001  2019-12-09  307.350006  311.489990  302.440002  302.500000  302.500000   \n",
              "1002  2019-12-10  296.119995  298.940002  292.019989  293.119995  293.119995   \n",
              "1003  2019-12-11  294.489990  299.429993  294.200012  298.929993  298.929993   \n",
              "1004  2019-12-12  295.670013  299.170013  295.059998  298.440002  298.440002   \n",
              "1005  2019-12-13  298.500000  301.799988  297.250000  298.500000  298.500000   \n",
              "1006  2019-12-16  300.850006  305.709991  298.630005  304.209991  304.209991   \n",
              "\n",
              "        Volume  \n",
              "997    4992800  \n",
              "998    3512100  \n",
              "999    4615500  \n",
              "1000   4457800  \n",
              "1001   5748400  \n",
              "1002  10476100  \n",
              "1003   5589800  \n",
              "1004   4766600  \n",
              "1005   3879700  \n",
              "1006   4658900  "
            ],
            "text/html": [
              "\n",
              "  <div id=\"df-13cbe82b-b3b1-44a9-9351-27756a821d0b\" class=\"colab-df-container\">\n",
              "    <div>\n",
              "<style scoped>\n",
              "    .dataframe tbody tr th:only-of-type {\n",
              "        vertical-align: middle;\n",
              "    }\n",
              "\n",
              "    .dataframe tbody tr th {\n",
              "        vertical-align: top;\n",
              "    }\n",
              "\n",
              "    .dataframe thead th {\n",
              "        text-align: right;\n",
              "    }\n",
              "</style>\n",
              "<table border=\"1\" class=\"dataframe\">\n",
              "  <thead>\n",
              "    <tr style=\"text-align: right;\">\n",
              "      <th></th>\n",
              "      <th>Date</th>\n",
              "      <th>Open</th>\n",
              "      <th>High</th>\n",
              "      <th>Low</th>\n",
              "      <th>Close</th>\n",
              "      <th>Adj Close</th>\n",
              "      <th>Volume</th>\n",
              "    </tr>\n",
              "  </thead>\n",
              "  <tbody>\n",
              "    <tr>\n",
              "      <th>997</th>\n",
              "      <td>2019-12-03</td>\n",
              "      <td>302.220001</td>\n",
              "      <td>307.359985</td>\n",
              "      <td>301.880005</td>\n",
              "      <td>306.160004</td>\n",
              "      <td>306.160004</td>\n",
              "      <td>4992800</td>\n",
              "    </tr>\n",
              "    <tr>\n",
              "      <th>998</th>\n",
              "      <td>2019-12-04</td>\n",
              "      <td>308.429993</td>\n",
              "      <td>308.429993</td>\n",
              "      <td>303.269989</td>\n",
              "      <td>304.320007</td>\n",
              "      <td>304.320007</td>\n",
              "      <td>3512100</td>\n",
              "    </tr>\n",
              "    <tr>\n",
              "      <th>999</th>\n",
              "      <td>2019-12-05</td>\n",
              "      <td>305.269989</td>\n",
              "      <td>306.480011</td>\n",
              "      <td>298.809998</td>\n",
              "      <td>302.859985</td>\n",
              "      <td>302.859985</td>\n",
              "      <td>4615500</td>\n",
              "    </tr>\n",
              "    <tr>\n",
              "      <th>1000</th>\n",
              "      <td>2019-12-06</td>\n",
              "      <td>304.700012</td>\n",
              "      <td>307.850006</td>\n",
              "      <td>302.600006</td>\n",
              "      <td>307.350006</td>\n",
              "      <td>307.350006</td>\n",
              "      <td>4457800</td>\n",
              "    </tr>\n",
              "    <tr>\n",
              "      <th>1001</th>\n",
              "      <td>2019-12-09</td>\n",
              "      <td>307.350006</td>\n",
              "      <td>311.489990</td>\n",
              "      <td>302.440002</td>\n",
              "      <td>302.500000</td>\n",
              "      <td>302.500000</td>\n",
              "      <td>5748400</td>\n",
              "    </tr>\n",
              "    <tr>\n",
              "      <th>1002</th>\n",
              "      <td>2019-12-10</td>\n",
              "      <td>296.119995</td>\n",
              "      <td>298.940002</td>\n",
              "      <td>292.019989</td>\n",
              "      <td>293.119995</td>\n",
              "      <td>293.119995</td>\n",
              "      <td>10476100</td>\n",
              "    </tr>\n",
              "    <tr>\n",
              "      <th>1003</th>\n",
              "      <td>2019-12-11</td>\n",
              "      <td>294.489990</td>\n",
              "      <td>299.429993</td>\n",
              "      <td>294.200012</td>\n",
              "      <td>298.929993</td>\n",
              "      <td>298.929993</td>\n",
              "      <td>5589800</td>\n",
              "    </tr>\n",
              "    <tr>\n",
              "      <th>1004</th>\n",
              "      <td>2019-12-12</td>\n",
              "      <td>295.670013</td>\n",
              "      <td>299.170013</td>\n",
              "      <td>295.059998</td>\n",
              "      <td>298.440002</td>\n",
              "      <td>298.440002</td>\n",
              "      <td>4766600</td>\n",
              "    </tr>\n",
              "    <tr>\n",
              "      <th>1005</th>\n",
              "      <td>2019-12-13</td>\n",
              "      <td>298.500000</td>\n",
              "      <td>301.799988</td>\n",
              "      <td>297.250000</td>\n",
              "      <td>298.500000</td>\n",
              "      <td>298.500000</td>\n",
              "      <td>3879700</td>\n",
              "    </tr>\n",
              "    <tr>\n",
              "      <th>1006</th>\n",
              "      <td>2019-12-16</td>\n",
              "      <td>300.850006</td>\n",
              "      <td>305.709991</td>\n",
              "      <td>298.630005</td>\n",
              "      <td>304.209991</td>\n",
              "      <td>304.209991</td>\n",
              "      <td>4658900</td>\n",
              "    </tr>\n",
              "  </tbody>\n",
              "</table>\n",
              "</div>\n",
              "    <div class=\"colab-df-buttons\">\n",
              "\n",
              "  <div class=\"colab-df-container\">\n",
              "    <button class=\"colab-df-convert\" onclick=\"convertToInteractive('df-13cbe82b-b3b1-44a9-9351-27756a821d0b')\"\n",
              "            title=\"Convert this dataframe to an interactive table.\"\n",
              "            style=\"display:none;\">\n",
              "\n",
              "  <svg xmlns=\"http://www.w3.org/2000/svg\" height=\"24px\" viewBox=\"0 -960 960 960\">\n",
              "    <path d=\"M120-120v-720h720v720H120Zm60-500h600v-160H180v160Zm220 220h160v-160H400v160Zm0 220h160v-160H400v160ZM180-400h160v-160H180v160Zm440 0h160v-160H620v160ZM180-180h160v-160H180v160Zm440 0h160v-160H620v160Z\"/>\n",
              "  </svg>\n",
              "    </button>\n",
              "\n",
              "  <style>\n",
              "    .colab-df-container {\n",
              "      display:flex;\n",
              "      gap: 12px;\n",
              "    }\n",
              "\n",
              "    .colab-df-convert {\n",
              "      background-color: #E8F0FE;\n",
              "      border: none;\n",
              "      border-radius: 50%;\n",
              "      cursor: pointer;\n",
              "      display: none;\n",
              "      fill: #1967D2;\n",
              "      height: 32px;\n",
              "      padding: 0 0 0 0;\n",
              "      width: 32px;\n",
              "    }\n",
              "\n",
              "    .colab-df-convert:hover {\n",
              "      background-color: #E2EBFA;\n",
              "      box-shadow: 0px 1px 2px rgba(60, 64, 67, 0.3), 0px 1px 3px 1px rgba(60, 64, 67, 0.15);\n",
              "      fill: #174EA6;\n",
              "    }\n",
              "\n",
              "    .colab-df-buttons div {\n",
              "      margin-bottom: 4px;\n",
              "    }\n",
              "\n",
              "    [theme=dark] .colab-df-convert {\n",
              "      background-color: #3B4455;\n",
              "      fill: #D2E3FC;\n",
              "    }\n",
              "\n",
              "    [theme=dark] .colab-df-convert:hover {\n",
              "      background-color: #434B5C;\n",
              "      box-shadow: 0px 1px 3px 1px rgba(0, 0, 0, 0.15);\n",
              "      filter: drop-shadow(0px 1px 2px rgba(0, 0, 0, 0.3));\n",
              "      fill: #FFFFFF;\n",
              "    }\n",
              "  </style>\n",
              "\n",
              "    <script>\n",
              "      const buttonEl =\n",
              "        document.querySelector('#df-13cbe82b-b3b1-44a9-9351-27756a821d0b button.colab-df-convert');\n",
              "      buttonEl.style.display =\n",
              "        google.colab.kernel.accessAllowed ? 'block' : 'none';\n",
              "\n",
              "      async function convertToInteractive(key) {\n",
              "        const element = document.querySelector('#df-13cbe82b-b3b1-44a9-9351-27756a821d0b');\n",
              "        const dataTable =\n",
              "          await google.colab.kernel.invokeFunction('convertToInteractive',\n",
              "                                                    [key], {});\n",
              "        if (!dataTable) return;\n",
              "\n",
              "        const docLinkHtml = 'Like what you see? Visit the ' +\n",
              "          '<a target=\"_blank\" href=https://colab.research.google.com/notebooks/data_table.ipynb>data table notebook</a>'\n",
              "          + ' to learn more about interactive tables.';\n",
              "        element.innerHTML = '';\n",
              "        dataTable['output_type'] = 'display_data';\n",
              "        await google.colab.output.renderOutput(dataTable, element);\n",
              "        const docLink = document.createElement('div');\n",
              "        docLink.innerHTML = docLinkHtml;\n",
              "        element.appendChild(docLink);\n",
              "      }\n",
              "    </script>\n",
              "  </div>\n",
              "\n",
              "\n",
              "<div id=\"df-3e48a11a-fb65-490e-bd89-31b6e8b6a932\">\n",
              "  <button class=\"colab-df-quickchart\" onclick=\"quickchart('df-3e48a11a-fb65-490e-bd89-31b6e8b6a932')\"\n",
              "            title=\"Suggest charts\"\n",
              "            style=\"display:none;\">\n",
              "\n",
              "<svg xmlns=\"http://www.w3.org/2000/svg\" height=\"24px\"viewBox=\"0 0 24 24\"\n",
              "     width=\"24px\">\n",
              "    <g>\n",
              "        <path d=\"M19 3H5c-1.1 0-2 .9-2 2v14c0 1.1.9 2 2 2h14c1.1 0 2-.9 2-2V5c0-1.1-.9-2-2-2zM9 17H7v-7h2v7zm4 0h-2V7h2v10zm4 0h-2v-4h2v4z\"/>\n",
              "    </g>\n",
              "</svg>\n",
              "  </button>\n",
              "\n",
              "<style>\n",
              "  .colab-df-quickchart {\n",
              "      --bg-color: #E8F0FE;\n",
              "      --fill-color: #1967D2;\n",
              "      --hover-bg-color: #E2EBFA;\n",
              "      --hover-fill-color: #174EA6;\n",
              "      --disabled-fill-color: #AAA;\n",
              "      --disabled-bg-color: #DDD;\n",
              "  }\n",
              "\n",
              "  [theme=dark] .colab-df-quickchart {\n",
              "      --bg-color: #3B4455;\n",
              "      --fill-color: #D2E3FC;\n",
              "      --hover-bg-color: #434B5C;\n",
              "      --hover-fill-color: #FFFFFF;\n",
              "      --disabled-bg-color: #3B4455;\n",
              "      --disabled-fill-color: #666;\n",
              "  }\n",
              "\n",
              "  .colab-df-quickchart {\n",
              "    background-color: var(--bg-color);\n",
              "    border: none;\n",
              "    border-radius: 50%;\n",
              "    cursor: pointer;\n",
              "    display: none;\n",
              "    fill: var(--fill-color);\n",
              "    height: 32px;\n",
              "    padding: 0;\n",
              "    width: 32px;\n",
              "  }\n",
              "\n",
              "  .colab-df-quickchart:hover {\n",
              "    background-color: var(--hover-bg-color);\n",
              "    box-shadow: 0 1px 2px rgba(60, 64, 67, 0.3), 0 1px 3px 1px rgba(60, 64, 67, 0.15);\n",
              "    fill: var(--button-hover-fill-color);\n",
              "  }\n",
              "\n",
              "  .colab-df-quickchart-complete:disabled,\n",
              "  .colab-df-quickchart-complete:disabled:hover {\n",
              "    background-color: var(--disabled-bg-color);\n",
              "    fill: var(--disabled-fill-color);\n",
              "    box-shadow: none;\n",
              "  }\n",
              "\n",
              "  .colab-df-spinner {\n",
              "    border: 2px solid var(--fill-color);\n",
              "    border-color: transparent;\n",
              "    border-bottom-color: var(--fill-color);\n",
              "    animation:\n",
              "      spin 1s steps(1) infinite;\n",
              "  }\n",
              "\n",
              "  @keyframes spin {\n",
              "    0% {\n",
              "      border-color: transparent;\n",
              "      border-bottom-color: var(--fill-color);\n",
              "      border-left-color: var(--fill-color);\n",
              "    }\n",
              "    20% {\n",
              "      border-color: transparent;\n",
              "      border-left-color: var(--fill-color);\n",
              "      border-top-color: var(--fill-color);\n",
              "    }\n",
              "    30% {\n",
              "      border-color: transparent;\n",
              "      border-left-color: var(--fill-color);\n",
              "      border-top-color: var(--fill-color);\n",
              "      border-right-color: var(--fill-color);\n",
              "    }\n",
              "    40% {\n",
              "      border-color: transparent;\n",
              "      border-right-color: var(--fill-color);\n",
              "      border-top-color: var(--fill-color);\n",
              "    }\n",
              "    60% {\n",
              "      border-color: transparent;\n",
              "      border-right-color: var(--fill-color);\n",
              "    }\n",
              "    80% {\n",
              "      border-color: transparent;\n",
              "      border-right-color: var(--fill-color);\n",
              "      border-bottom-color: var(--fill-color);\n",
              "    }\n",
              "    90% {\n",
              "      border-color: transparent;\n",
              "      border-bottom-color: var(--fill-color);\n",
              "    }\n",
              "  }\n",
              "</style>\n",
              "\n",
              "  <script>\n",
              "    async function quickchart(key) {\n",
              "      const quickchartButtonEl =\n",
              "        document.querySelector('#' + key + ' button');\n",
              "      quickchartButtonEl.disabled = true;  // To prevent multiple clicks.\n",
              "      quickchartButtonEl.classList.add('colab-df-spinner');\n",
              "      try {\n",
              "        const charts = await google.colab.kernel.invokeFunction(\n",
              "            'suggestCharts', [key], {});\n",
              "      } catch (error) {\n",
              "        console.error('Error during call to suggestCharts:', error);\n",
              "      }\n",
              "      quickchartButtonEl.classList.remove('colab-df-spinner');\n",
              "      quickchartButtonEl.classList.add('colab-df-quickchart-complete');\n",
              "    }\n",
              "    (() => {\n",
              "      let quickchartButtonEl =\n",
              "        document.querySelector('#df-3e48a11a-fb65-490e-bd89-31b6e8b6a932 button');\n",
              "      quickchartButtonEl.style.display =\n",
              "        google.colab.kernel.accessAllowed ? 'block' : 'none';\n",
              "    })();\n",
              "  </script>\n",
              "</div>\n",
              "\n",
              "    </div>\n",
              "  </div>\n"
            ],
            "application/vnd.google.colaboratory.intrinsic+json": {
              "type": "dataframe",
              "repr_error": "0"
            }
          },
          "metadata": {},
          "execution_count": 18
        }
      ]
    },
    {
      "cell_type": "markdown",
      "source": [
        "### <a id='section1.6'></a> Section 1.6: Check how many rows and columns in the data set\n",
        "Read: (no. of columns, no. of rows)"
      ],
      "metadata": {
        "id": "-vQyY4pTI_4i"
      }
    },
    {
      "cell_type": "code",
      "source": [
        "df.shape"
      ],
      "metadata": {
        "colab": {
          "base_uri": "https://localhost:8080/"
        },
        "id": "hVXIA3YpF5LQ",
        "outputId": "f0b27c43-7bf3-4532-b5d4-bade7bbc6162"
      },
      "execution_count": null,
      "outputs": [
        {
          "output_type": "execute_result",
          "data": {
            "text/plain": [
              "(1007, 7)"
            ]
          },
          "metadata": {},
          "execution_count": 21
        }
      ]
    },
    {
      "cell_type": "markdown",
      "source": [
        "\n",
        "# <a id='section2'></a> Section 2: Data Types"
      ],
      "metadata": {
        "id": "kU-1K43J12H-"
      }
    },
    {
      "cell_type": "markdown",
      "source": [
        "## <a id='section2.1'></a> Section 2.1: Python Data Types\n",
        "\n",
        "* String: words or anything in single quotes (') or double quotes (\")\n",
        "* Integer: Whole numbers without a decimal point.\n",
        "* Float: Real numbers with a fractional component (decimal point)"
      ],
      "metadata": {
        "id": "KuwQE7ehzfcX"
      }
    },
    {
      "cell_type": "code",
      "source": [
        "'Data Science'\n",
        "\n",
        "8.8\n",
        "\n",
        "2024"
      ],
      "metadata": {
        "colab": {
          "base_uri": "https://localhost:8080/"
        },
        "id": "3a9QXw6uzl7b",
        "outputId": "cb7028c1-95a6-4c16-9f1d-83d20b603cbf"
      },
      "execution_count": null,
      "outputs": [
        {
          "output_type": "execute_result",
          "data": {
            "text/plain": [
              "2024"
            ]
          },
          "metadata": {},
          "execution_count": 29
        }
      ]
    },
    {
      "cell_type": "code",
      "source": [
        "type('Data Science')"
      ],
      "metadata": {
        "colab": {
          "base_uri": "https://localhost:8080/"
        },
        "id": "cUjZx9yu0HKa",
        "outputId": "5b4e6a56-d5e1-46ea-ea34-d2167b0f4e77"
      },
      "execution_count": null,
      "outputs": [
        {
          "output_type": "execute_result",
          "data": {
            "text/plain": [
              "str"
            ]
          },
          "metadata": {},
          "execution_count": 30
        }
      ]
    },
    {
      "cell_type": "code",
      "source": [
        "type(8.8)"
      ],
      "metadata": {
        "colab": {
          "base_uri": "https://localhost:8080/"
        },
        "id": "rSmz7PN40Jt1",
        "outputId": "a3c430ac-7f95-4bd3-87db-867b18d51567"
      },
      "execution_count": null,
      "outputs": [
        {
          "output_type": "execute_result",
          "data": {
            "text/plain": [
              "float"
            ]
          },
          "metadata": {},
          "execution_count": 31
        }
      ]
    },
    {
      "cell_type": "code",
      "source": [
        "type(2024)"
      ],
      "metadata": {
        "colab": {
          "base_uri": "https://localhost:8080/"
        },
        "id": "MLu3G0ah0MRD",
        "outputId": "30ef633c-e642-4362-bafb-3b0cc904f9b4"
      },
      "execution_count": null,
      "outputs": [
        {
          "output_type": "execute_result",
          "data": {
            "text/plain": [
              "int"
            ]
          },
          "metadata": {},
          "execution_count": 32
        }
      ]
    },
    {
      "cell_type": "markdown",
      "source": [
        "**int,float,complex**"
      ],
      "metadata": {
        "id": "aMaz9IGR0bBQ"
      }
    },
    {
      "cell_type": "code",
      "source": [
        "#complex\n",
        "\n",
        "A = 3+5*b\n",
        "\n",
        "b = 2"
      ],
      "metadata": {
        "id": "H6YN9YBF0dKI"
      },
      "execution_count": null,
      "outputs": []
    },
    {
      "cell_type": "code",
      "source": [
        "!python --version"
      ],
      "metadata": {
        "colab": {
          "base_uri": "https://localhost:8080/"
        },
        "id": "BmAcDKhH0ieX",
        "outputId": "029c8159-8ae4-4504-a2aa-bf74e4a5c405"
      },
      "execution_count": null,
      "outputs": [
        {
          "output_type": "stream",
          "name": "stdout",
          "text": [
            "Python 3.10.12\n"
          ]
        }
      ]
    },
    {
      "cell_type": "code",
      "source": [
        "type('2024')"
      ],
      "metadata": {
        "colab": {
          "base_uri": "https://localhost:8080/"
        },
        "id": "5__eZUQw1sNU",
        "outputId": "3bfa52db-c328-406e-eabb-a8012daa0d6b"
      },
      "execution_count": null,
      "outputs": [
        {
          "output_type": "execute_result",
          "data": {
            "text/plain": [
              "str"
            ]
          },
          "metadata": {},
          "execution_count": 36
        }
      ]
    },
    {
      "cell_type": "markdown",
      "source": [
        "## <a id='section2.2'></a> Section 2.2: Boolean Data Types\n",
        "\n",
        "* True\n",
        "* False\n",
        "\n",
        "*Is boolean data types considered as python data types? No,</p>\n",
        "because all programming languange use boolean data types*"
      ],
      "metadata": {
        "id": "1RxLOE2D2GiT"
      }
    },
    {
      "cell_type": "code",
      "source": [
        "type(True)"
      ],
      "metadata": {
        "colab": {
          "base_uri": "https://localhost:8080/"
        },
        "id": "4WluW0bf2W91",
        "outputId": "15baff8d-90e5-4169-cded-32379d81b7c9"
      },
      "execution_count": null,
      "outputs": [
        {
          "output_type": "execute_result",
          "data": {
            "text/plain": [
              "bool"
            ]
          },
          "metadata": {},
          "execution_count": 41
        }
      ]
    },
    {
      "cell_type": "code",
      "source": [
        "type(False)"
      ],
      "metadata": {
        "colab": {
          "base_uri": "https://localhost:8080/"
        },
        "id": "hQFqUnxj2fmZ",
        "outputId": "3f8adb00-1e07-4102-b8dc-da922a4e1edf"
      },
      "execution_count": null,
      "outputs": [
        {
          "output_type": "execute_result",
          "data": {
            "text/plain": [
              "bool"
            ]
          },
          "metadata": {},
          "execution_count": 39
        }
      ]
    },
    {
      "cell_type": "markdown",
      "source": [
        "###ERROR ALERT!\n",
        "\n",
        "Python is considered a CASE sensitive language </p>\n",
        "**REMEMBER! ** to check the upper case in True/ False </p>\n",
        "If you write in first word lowercase true/false then it will be an error"
      ],
      "metadata": {
        "id": "l7ssQeC72yio"
      }
    },
    {
      "cell_type": "code",
      "source": [
        "type(true)"
      ],
      "metadata": {
        "colab": {
          "base_uri": "https://localhost:8080/",
          "height": 141
        },
        "id": "EQ7MyJgn2kI5",
        "outputId": "b65d42db-4074-4481-b5bf-9539079ad832"
      },
      "execution_count": null,
      "outputs": [
        {
          "output_type": "error",
          "ename": "NameError",
          "evalue": "name 'true' is not defined",
          "traceback": [
            "\u001b[0;31m---------------------------------------------------------------------------\u001b[0m",
            "\u001b[0;31mNameError\u001b[0m                                 Traceback (most recent call last)",
            "\u001b[0;32m<ipython-input-42-6f4d8242c3d0>\u001b[0m in \u001b[0;36m<cell line: 1>\u001b[0;34m()\u001b[0m\n\u001b[0;32m----> 1\u001b[0;31m \u001b[0mtype\u001b[0m\u001b[0;34m(\u001b[0m\u001b[0mtrue\u001b[0m\u001b[0;34m)\u001b[0m\u001b[0;34m\u001b[0m\u001b[0;34m\u001b[0m\u001b[0m\n\u001b[0m",
            "\u001b[0;31mNameError\u001b[0m: name 'true' is not defined"
          ]
        }
      ]
    },
    {
      "cell_type": "markdown",
      "source": [
        "# <a id='section3'></a> Section 3: Expressions, Variables, Conditions\n"
      ],
      "metadata": {
        "id": "pwd9Abg43vqg"
      }
    },
    {
      "cell_type": "markdown",
      "source": [
        "<ul>\n",
        "    <li>subtraction: <b>-</b></li>\n",
        "    <li>addition: <b>+</b></li>\n",
        "    <li>division: <b>/</b></li>\n",
        "    <li>floor division <b>//</b></li>\n",
        "    <li>multiplication: <b>*</b></li>\n",
        "    <li>modulus: <b>%</b></li>\n",
        "    <li>exponent: <b>**</b></li>\n",
        "</ul>"
      ],
      "metadata": {
        "id": "kCvGtdvacoYU"
      }
    },
    {
      "cell_type": "markdown",
      "source": [
        "## **<a id='section3.1'></a> Section 3.1: Expressions**\n",
        "\n",
        "Definition:</p>\n",
        "* Components: An expression can include literals (constant values), variables, operators, and function calls.\n",
        "* Evaluation: When an expression is evaluated, it produces a value.\n",
        "* Use Cases: Expressions are used in assignments, conditional statements, loops, and function arguments."
      ],
      "metadata": {
        "id": "XfL_X6JZ4FrX"
      }
    },
    {
      "cell_type": "markdown",
      "source": [
        "### Example how similar code gave out different data types"
      ],
      "metadata": {
        "id": "JGStzinrZzJ-"
      }
    },
    {
      "cell_type": "code",
      "source": [
        "x = 8\n",
        "z = 2\n",
        "\n",
        "y = x / z\n",
        "\n",
        "y"
      ],
      "metadata": {
        "colab": {
          "base_uri": "https://localhost:8080/"
        },
        "id": "3PDodDOd4DIq",
        "outputId": "9e4313bf-df3a-4be0-ce9e-a9bed90dbfe7"
      },
      "execution_count": null,
      "outputs": [
        {
          "output_type": "execute_result",
          "data": {
            "text/plain": [
              "4.0"
            ]
          },
          "metadata": {},
          "execution_count": 44
        }
      ]
    },
    {
      "cell_type": "code",
      "source": [
        "type(y)"
      ],
      "metadata": {
        "colab": {
          "base_uri": "https://localhost:8080/"
        },
        "id": "nVGHIl5U4Mfu",
        "outputId": "ace2a6d3-730f-4f04-a73f-62fcc819e2b3"
      },
      "execution_count": null,
      "outputs": [
        {
          "output_type": "execute_result",
          "data": {
            "text/plain": [
              "float"
            ]
          },
          "metadata": {},
          "execution_count": 45
        }
      ]
    },
    {
      "cell_type": "markdown",
      "source": [
        "The result above is considered as float while the result below considered as an interger because remember that python read the last code"
      ],
      "metadata": {
        "id": "wrocYuhE5KIO"
      }
    },
    {
      "cell_type": "code",
      "source": [
        "y = x // z"
      ],
      "metadata": {
        "id": "Hc-sTe0Y4qJl"
      },
      "execution_count": null,
      "outputs": []
    },
    {
      "cell_type": "code",
      "source": [
        "y"
      ],
      "metadata": {
        "colab": {
          "base_uri": "https://localhost:8080/"
        },
        "id": "t7J5sSbc44E4",
        "outputId": "26ee2772-f1fd-4187-fa44-b664a71d8ae8"
      },
      "execution_count": null,
      "outputs": [
        {
          "output_type": "execute_result",
          "data": {
            "text/plain": [
              "4"
            ]
          },
          "metadata": {},
          "execution_count": 51
        }
      ]
    },
    {
      "cell_type": "code",
      "source": [
        "type(y)"
      ],
      "metadata": {
        "colab": {
          "base_uri": "https://localhost:8080/"
        },
        "id": "po2_lXzt45AK",
        "outputId": "7c2e486d-f8fe-4938-b089-6fa2e491c269"
      },
      "execution_count": null,
      "outputs": [
        {
          "output_type": "execute_result",
          "data": {
            "text/plain": [
              "int"
            ]
          },
          "metadata": {},
          "execution_count": 52
        }
      ]
    },
    {
      "cell_type": "markdown",
      "source": [
        "### **Why is the same formula gave out different data type?**\n",
        "### Explanation\n",
        "The difference in data types arises because of how these operators work:\n",
        "\n",
        "/ (Division): Always returns a float. </p>\n",
        "// (Floor Division): Returns an integer if both operands are integers. If either operand is a float, the result is a float."
      ],
      "metadata": {
        "id": "sMMoV8Ga7ZUx"
      }
    },
    {
      "cell_type": "markdown",
      "source": [
        "### **The modulus operator (%)**\n",
        "\n",
        "The modulus operator (%) in Python is used to find the remainder of the division of one number by another. It is a part of arithmetic expressions and plays a significant role in various programming scenarios.\n",
        "\n",
        "* Function: Computes the remainder of the division of two numbers.\n",
        "* Syntax: a % b returns the remainder when a is divided by b.\n",
        "* Use Cases: To determine if a number is even or odd."
      ],
      "metadata": {
        "id": "_rrRNiSMbD7E"
      }
    },
    {
      "cell_type": "code",
      "source": [
        "b1 = 10%3\n",
        "b2 = 10%2\n",
        "b3 = 11%2\n",
        "b4 = 11%3\n",
        "\n",
        "print(b1)\n",
        "print(b2)\n",
        "print(b3)\n",
        "print(b4)"
      ],
      "metadata": {
        "colab": {
          "base_uri": "https://localhost:8080/"
        },
        "id": "2smapSzh5qGO",
        "outputId": "906f7857-f78d-4571-b88b-ff1adc149bb8"
      },
      "execution_count": null,
      "outputs": [
        {
          "output_type": "stream",
          "name": "stdout",
          "text": [
            "1\n",
            "0\n",
            "1\n",
            "2\n"
          ]
        }
      ]
    },
    {
      "cell_type": "markdown",
      "source": [
        "### **Explanation** *(This part can be a bit confusing)*\n",
        "The modulus operator % returns the remainder of a division operation. Let's break down each calculation:\n",
        "\n",
        "b1 = 10 % 3\n",
        "Divide 10 by 3.\n",
        "The quotient is 3 (because 3 * 3 = 9, which is the largest multiple of 3 that is less than or equal to 10).\n",
        "The remainder is\n",
        "10−9=1.\n",
        "Therefore, b1 = 1.\n",
        "\n",
        "b2 = 10 % 2\n",
        "Divide 10 by 2.\n",
        "The quotient is 5 (because 5 * 2 = 10).\n",
        "The remainder is\n",
        "10−10=0.\n",
        "Therefore, b2 = 0.\n",
        "\n",
        "b3 = 11 % 2\n",
        "Divide 11 by 2.\n",
        "The quotient is 5 (because 5 * 2 = 10, which is the largest multiple of 2 that is less than or equal to 11).\n",
        "The remainder is\n",
        "11−10=1.\n",
        "Therefore, b3 = 1.\n",
        "\n",
        "b4 = 11 % 3\n",
        "Divide 11 by 3.\n",
        "The quotient is 3 (because 3 * 3 = 9, which is the largest multiple of 3 that is less than or equal to 11).\n",
        "The remainder is\n",
        "11−9=2.\n",
        "Therefore, b4 = 2."
      ],
      "metadata": {
        "id": "JYS_LiUQ8gec"
      }
    },
    {
      "cell_type": "markdown",
      "source": [
        "## **<a id='section3.2'></a> Section 3.2: Variables**\n",
        "\n",
        "**Definition:** </p>\n",
        "\n",
        "\n",
        "* Naming: Variables have names that should be descriptive to indicate what kind of data they store.\n",
        "i.e a,b,c,x,y,z, orange, apple, data, df\n",
        "* Assignment: The = operator is used to assign a value to a variable.\n",
        "* Dynamic Typing: In Python, the type of a variable is determined by the value assigned to it, and it can change type over time."
      ],
      "metadata": {
        "id": "eZhae0-E8q0V"
      }
    },
    {
      "cell_type": "markdown",
      "source": [
        "**\" %whos \" command to check all your variables**"
      ],
      "metadata": {
        "id": "Y2YkgPuy8-n9"
      }
    },
    {
      "cell_type": "code",
      "source": [
        "%whos"
      ],
      "metadata": {
        "colab": {
          "base_uri": "https://localhost:8080/"
        },
        "id": "QaeDDdLj8sBn",
        "outputId": "ce61c22f-fc93-4cae-87aa-47f8303da4e1"
      },
      "execution_count": null,
      "outputs": [
        {
          "output_type": "stream",
          "name": "stdout",
          "text": [
            "Variable   Type         Data/Info\n",
            "---------------------------------\n",
            "A          int          103\n",
            "a          int          10\n",
            "b          int          20\n",
            "b1         int          1\n",
            "b2         int          0\n",
            "b3         int          1\n",
            "b4         int          2\n",
            "c          int          30\n",
            "data       dict         n=2\n",
            "df         DataFrame                Date        O<...>\\n[1007 rows x 7 columns]\n",
            "np         module       <module 'numpy' from '/us<...>kages/numpy/__init__.py'>\n",
            "pd         module       <module 'pandas' from '/u<...>ages/pandas/__init__.py'>\n",
            "plt        module       <module 'matplotlib.pyplo<...>es/matplotlib/pyplot.py'>\n",
            "x          int          8\n",
            "y          int          4\n",
            "z          int          2\n"
          ]
        }
      ]
    },
    {
      "cell_type": "markdown",
      "source": [
        "**Note:** If you add more variables later on in the coding process, the %whos command will automatically add the new variables and generate the variables in alphabetical order"
      ],
      "metadata": {
        "id": "NHPhHh5I9kop"
      }
    },
    {
      "cell_type": "code",
      "source": [
        "Abc = 123"
      ],
      "metadata": {
        "id": "tNUlCy5W8w5e"
      },
      "execution_count": null,
      "outputs": []
    },
    {
      "cell_type": "code",
      "source": [
        "type (Abc)"
      ],
      "metadata": {
        "colab": {
          "base_uri": "https://localhost:8080/"
        },
        "id": "KtMoB4QA920Z",
        "outputId": "a57d8e7b-7751-414c-b3a2-2c463c1f482d"
      },
      "execution_count": null,
      "outputs": [
        {
          "output_type": "execute_result",
          "data": {
            "text/plain": [
              "int"
            ]
          },
          "metadata": {},
          "execution_count": 59
        }
      ]
    },
    {
      "cell_type": "markdown",
      "source": [
        "#### **Now Recheck the Variable using \" %whos \" command**\n",
        "\n",
        "you will see the variable Abc (int) is added to the new list"
      ],
      "metadata": {
        "id": "jTiTt5ab-Aam"
      }
    },
    {
      "cell_type": "code",
      "source": [
        "%whos"
      ],
      "metadata": {
        "colab": {
          "base_uri": "https://localhost:8080/"
        },
        "id": "ZTUzHrie95MQ",
        "outputId": "f98e1574-1fba-4d31-ff6d-d0da4447ec63"
      },
      "execution_count": null,
      "outputs": [
        {
          "output_type": "stream",
          "name": "stdout",
          "text": [
            "Variable   Type         Data/Info\n",
            "---------------------------------\n",
            "A          int          103\n",
            "Abc        int          123\n",
            "a          int          10\n",
            "b          int          20\n",
            "b1         int          1\n",
            "b2         int          0\n",
            "b3         int          1\n",
            "b4         int          2\n",
            "c          int          30\n",
            "data       dict         n=2\n",
            "df         DataFrame                Date        O<...>\\n[1007 rows x 7 columns]\n",
            "np         module       <module 'numpy' from '/us<...>kages/numpy/__init__.py'>\n",
            "pd         module       <module 'pandas' from '/u<...>ages/pandas/__init__.py'>\n",
            "plt        module       <module 'matplotlib.pyplo<...>es/matplotlib/pyplot.py'>\n",
            "x          int          8\n",
            "y          int          4\n",
            "z          int          2\n"
          ]
        }
      ]
    },
    {
      "cell_type": "markdown",
      "source": [
        "## **<a id='section3.3'></a> Section 3.3: Conditions**\n",
        "\n",
        "<ul>\n",
        "    <li>equal: <b>==</b></li>\n",
        "    <li>not equal: <b>!=</b></li>\n",
        "    <li>greater than: <b>></b></li>\n",
        "    <li>less than: <b>&lt;</b></li>\n",
        "    <li>greater than or equal to: <b>>=</b></li>\n",
        "    <li>less than or equal to: <b>&lt;=</b></li>\n",
        "</ul>"
      ],
      "metadata": {
        "id": "NA1SWkEL-gMb"
      }
    },
    {
      "cell_type": "markdown",
      "source": [
        "### Difference between one \" = \" sign and double \" == \" sign\n",
        "\n",
        "In Python, = and == serve different purposes and are used in different contexts. Here’s a detailed explanation\n",
        "\n",
        "**Assignment Operator (=)** </p>\n",
        "The single equals sign = is the assignment operator. It is used to assign a value to a variable. </p>\n",
        "i.e: t = 5, t is a variable\n",
        "\n",
        "**Equality Operator (==)** </p>\n",
        "The double equals sign == is the equality operator. It is used to compare two values and check if they are equal. The result of this comparison is a boolean value (True or False)."
      ],
      "metadata": {
        "id": "SEHBqE6ATSHq"
      }
    },
    {
      "cell_type": "code",
      "source": [
        "year = 2024\n",
        "\n",
        "year == 2024"
      ],
      "metadata": {
        "colab": {
          "base_uri": "https://localhost:8080/"
        },
        "id": "TVW2x5xs-mSW",
        "outputId": "fd0832ab-aec2-4029-b7cf-009f5386561b"
      },
      "execution_count": 1,
      "outputs": [
        {
          "output_type": "execute_result",
          "data": {
            "text/plain": [
              "True"
            ]
          },
          "metadata": {},
          "execution_count": 1
        }
      ]
    },
    {
      "cell_type": "code",
      "source": [
        "year != 2025"
      ],
      "metadata": {
        "colab": {
          "base_uri": "https://localhost:8080/"
        },
        "id": "IpP0t1WJ-voz",
        "outputId": "4a1edee7-52a4-4ed9-cb4b-929c775f3804"
      },
      "execution_count": null,
      "outputs": [
        {
          "output_type": "execute_result",
          "data": {
            "text/plain": [
              "True"
            ]
          },
          "metadata": {},
          "execution_count": 64
        }
      ]
    },
    {
      "cell_type": "code",
      "source": [
        "year == 2026"
      ],
      "metadata": {
        "id": "848piOAh-4RT",
        "outputId": "19c4e3d1-fa0a-42cd-a996-7d2dc6fec4a7",
        "colab": {
          "base_uri": "https://localhost:8080/"
        }
      },
      "execution_count": null,
      "outputs": [
        {
          "output_type": "execute_result",
          "data": {
            "text/plain": [
              "False"
            ]
          },
          "metadata": {},
          "execution_count": 65
        }
      ]
    }
  ]
}