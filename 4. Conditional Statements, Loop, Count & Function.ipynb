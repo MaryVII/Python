{
  "nbformat": 4,
  "nbformat_minor": 0,
  "metadata": {
    "colab": {
      "provenance": [],
      "collapsed_sections": [
        "aXCVV1B9uyK5",
        "UjmKG-Uru43e",
        "CbkeXEAhvDzM",
        "pdhAcFTJviYm",
        "Awe9FmsJwd7_",
        "6jjgRU0ejDR_",
        "NodX1evajIvS",
        "rbe19zps0XY2",
        "dVHeRHLr-vTP",
        "TJR0tBfz_N90",
        "Dk16YqNDqfJb",
        "6L6SwnDM4FfZ",
        "vK6vYbz_EmCl",
        "C6YEmojSNZIq",
        "IU9yVBte_xvR",
        "TuNJkFj3EJ2Z",
        "P8wsJHHDBls5",
        "nU6zCdjkBecS"
      ],
      "authorship_tag": "ABX9TyNA3ql/mo/9QscrMaQNg+VD"
    },
    "kernelspec": {
      "name": "python3",
      "display_name": "Python 3"
    },
    "language_info": {
      "name": "python"
    }
  },
  "cells": [
    {
      "cell_type": "markdown",
      "source": [
        "#**Conditional Statements, Loop, Count & Function**"
      ],
      "metadata": {
        "id": "jLhLmMAVTX_c"
      }
    },
    {
      "cell_type": "markdown",
      "source": [
        "## Table of Contents\n",
        "- [Section 6: The 'if, elif, and else' Function](#section6)\n",
        "  - [section 6.1: The if Statement](#subsection6.1)\n",
        "  - [section 6.2: The else Statement](#subsection6.2)\n",
        "  - [section 6.3: The elif Statement](#subsection6.3)\n",
        "  - [section 6.4: section 6.4: if-elif-else Ladder](#subsection6.4)\n",
        "  - [section 6.5: section 6.5: 'and' and 'or' Operators](#subsection6.5)\n",
        "  - [section 6.6: Input Function In Conditional Statements](#subsection6.6)\n",
        "  - [section 6.7: Nested Statements](#subsection6.7)\n",
        "- [Section 7: Loop Function](#section7)\n",
        "  - [section 7.1: The Importance of Loop Function](#subsection7.1)\n",
        "  - [section 7.2: 'for' Loop Function](#subsection7.2)\n",
        "  - [section 7.3: 'while' Loop Function](#subsection7.3)\n",
        "  - [section 7.4: Nested Loop](#subsection7.4)\n",
        "- [Section 8: Count Function](#section8)\n",
        "  - [section 8.1: Count Occurrences of a Specific Element](#subsection8.1)\n",
        "  - [section 8.2: Count Even Numbers in A List](#subsection8.2)\n",
        "  - [section 8.3: Count Vowels in A String](#subsection8.3)\n",
        "- [Section 9: Function](#subsection8.4)\n",
        "  - [section 9.1: Defining A Function](#subsection8.5)\n",
        "- [Exercise](#subsection)\n",
        "\n",
        "\n",
        "\n",
        "\n",
        "\n",
        "\n",
        "\n",
        "\n",
        "\n",
        "\n",
        "\n",
        "\n",
        "\n",
        "\n",
        "\n",
        "\n",
        "\n",
        "\n",
        "\n",
        "\n",
        "\n"
      ],
      "metadata": {
        "id": "XlX2cIjXcaV-"
      }
    },
    {
      "cell_type": "markdown",
      "source": [
        "## **Section 6: The 'if, elif, and else' Functions**"
      ],
      "metadata": {
        "id": "drcLr-PVmpfE"
      }
    },
    {
      "cell_type": "markdown",
      "source": [
        "### Section 6.1: The if Statement"
      ],
      "metadata": {
        "id": "aXCVV1B9uyK5"
      }
    },
    {
      "cell_type": "code",
      "source": [
        "country = 'Malaysia'\n",
        "if country == 'Malaysia': #True\n",
        "  print ('Country is Malaysia')"
      ],
      "metadata": {
        "id": "ebFahNoFTdr9",
        "outputId": "575e4b1a-5cfd-4bef-f184-9f32eeab7ebb",
        "colab": {
          "base_uri": "https://localhost:8080/"
        }
      },
      "execution_count": null,
      "outputs": [
        {
          "output_type": "stream",
          "name": "stdout",
          "text": [
            "Country is Malaysia\n"
          ]
        }
      ]
    },
    {
      "cell_type": "code",
      "source": [
        "country = 'Malaysia'\n",
        "if country == 'Singapore': #False\n",
        "  print ('Country is Singapore')"
      ],
      "metadata": {
        "id": "Wj_ODgayUB86"
      },
      "execution_count": null,
      "outputs": []
    },
    {
      "cell_type": "markdown",
      "source": [
        "### Section 6.2: The else Statement"
      ],
      "metadata": {
        "id": "UjmKG-Uru43e"
      }
    },
    {
      "cell_type": "code",
      "source": [
        "country = 'Malaysia'\n",
        "if country == 'Singapore': #False\n",
        "  print ('Country is Singapore')\n",
        "\n",
        "else: #Else will always work because else is like the worst case result\n",
        "  print ('Country is Malaysia')"
      ],
      "metadata": {
        "id": "DG5ulf-rUZ30",
        "outputId": "81aef2a6-ef29-4daf-9f51-911b830eee3f",
        "colab": {
          "base_uri": "https://localhost:8080/"
        }
      },
      "execution_count": null,
      "outputs": [
        {
          "output_type": "stream",
          "name": "stdout",
          "text": [
            "Country is Malaysia\n"
          ]
        }
      ]
    },
    {
      "cell_type": "markdown",
      "source": [
        "### Section 6.3: The elif Statement"
      ],
      "metadata": {
        "id": "CbkeXEAhvDzM"
      }
    },
    {
      "cell_type": "code",
      "source": [
        "country = 'Malaysia'\n",
        "if country == 'Singapore': #False\n",
        "  print ('Country is Singapore')\n",
        "\n",
        "elif country == 'Thailand': #False\n",
        "  print ('Country is Thailand')\n",
        "\n",
        "else: #Else will always work because else is like the worst case result\n",
        "  print ('Country is Malaysia')"
      ],
      "metadata": {
        "id": "GnZhDsRxV991",
        "outputId": "49ff80f3-5365-45a2-c786-8e85a9df1651",
        "colab": {
          "base_uri": "https://localhost:8080/"
        }
      },
      "execution_count": null,
      "outputs": [
        {
          "output_type": "stream",
          "name": "stdout",
          "text": [
            "Country is Malaysia\n"
          ]
        }
      ]
    },
    {
      "cell_type": "markdown",
      "source": [
        "### Section 6.4 if-elif-else Ladder"
      ],
      "metadata": {
        "id": "pdhAcFTJviYm"
      }
    },
    {
      "cell_type": "markdown",
      "source": [
        "The if-elif-else ladder is used when you have multiple conditions to check in sequence. Only one block of code will be executed, and as soon as a true condition is found, the subsequent elif and else statements are not checked."
      ],
      "metadata": {
        "id": "nMcE3XkLwBRC"
      }
    },
    {
      "cell_type": "code",
      "source": [
        "if condition1:\n",
        "    # Code to execute if condition1 is true\n",
        "elif condition2:\n",
        "    # Code to execute if condition1 is false and condition2 is true\n",
        "elif condition3:\n",
        "    # Code to execute if condition1 and condition2 are false and condition3 is true\n",
        "else:\n",
        "    # Code to execute if all the above conditions are false"
      ],
      "metadata": {
        "id": "i7UUvv1swMUM"
      },
      "execution_count": null,
      "outputs": []
    },
    {
      "cell_type": "markdown",
      "source": [
        "**Example of if-elif-else ladder**"
      ],
      "metadata": {
        "id": "29CrPaYmwR3q"
      }
    },
    {
      "cell_type": "code",
      "source": [
        "country = 'Malaysia'\n",
        "if country == 'Singapore': #False\n",
        "  print ('Country is Singapore')\n",
        "\n",
        "elif country == 'Thailand': #False\n",
        "  print ('Country is Thailand')\n",
        "\n",
        "elif country != 'Singapore': #True\n",
        "  print ('Country is Unknown')\n",
        "\n",
        "else: #Else will always work because else is like the worst case result\n",
        "  print ('Country is Malaysia')"
      ],
      "metadata": {
        "id": "xOWo3yYkWDjl",
        "outputId": "f643258e-64e1-4eac-86f3-e0f9b53f03b8",
        "colab": {
          "base_uri": "https://localhost:8080/"
        }
      },
      "execution_count": null,
      "outputs": [
        {
          "output_type": "stream",
          "name": "stdout",
          "text": [
            "Country is Unknown\n"
          ]
        }
      ]
    },
    {
      "cell_type": "markdown",
      "source": [
        "### Section 6.5: 'and' and 'or' Operators"
      ],
      "metadata": {
        "id": "Awe9FmsJwd7_"
      }
    },
    {
      "cell_type": "markdown",
      "source": [
        " 'and' and 'or' are used to combine multiple conditions in a single if, elif, or else statement."
      ],
      "metadata": {
        "id": "mStXqwuDwks_"
      }
    },
    {
      "cell_type": "markdown",
      "source": [
        "<img src=\"https://s3-api.us-geo.objectstorage.softlayer.net/cf-courses-data/CognitiveClass/PY0101EN/Chapter%203/Images/CondsTable.png\" width=\"650\" />"
      ],
      "metadata": {
        "id": "LWKoPwIvWkq4"
      }
    },
    {
      "cell_type": "markdown",
      "source": [
        "**Section 6.5.1: 'and' Operator** </p>\n",
        "* **Purpose:** To combine two or more conditions\n",
        "* **Rules:** ALL conditions must be TRUE for the combined condition to be TRUE"
      ],
      "metadata": {
        "id": "imEUTIGxwwhP"
      }
    },
    {
      "cell_type": "code",
      "source": [
        "country = 'Malaysia'\n",
        "year = 2024\n",
        "\n",
        "if country == 'Malaysia' and year == 2020: #false (one is false then the answer will always be false)\n",
        "  print ('Country is Malaysia and year is 2020')"
      ],
      "metadata": {
        "id": "sjuHEj1AWlF-"
      },
      "execution_count": null,
      "outputs": []
    },
    {
      "cell_type": "markdown",
      "source": [
        "**Section 6.5.2: 'or' Operator** </p>\n",
        "* **Purpose:** To combine two or more conditions\n",
        "* **Rules:** At least ONE condition must be TURE for the combined condition to be TRUE"
      ],
      "metadata": {
        "id": "V6nCrKEcxTjH"
      }
    },
    {
      "cell_type": "code",
      "source": [
        "country = 'Malaysia'\n",
        "year = 2024\n",
        "\n",
        "if country == 'Malaysia' or year == 2020: #(either one is true, then it is considered TRUE)\n",
        "\n",
        "  print ('Country is Malaysia and year is 2020')"
      ],
      "metadata": {
        "colab": {
          "base_uri": "https://localhost:8080/"
        },
        "id": "qt825904Yw52",
        "outputId": "a7db1b44-7cd5-4c43-bb7f-d26d52d52bab"
      },
      "execution_count": null,
      "outputs": [
        {
          "output_type": "stream",
          "name": "stdout",
          "text": [
            "Country is Malaysia and year is 2020\n"
          ]
        }
      ]
    },
    {
      "cell_type": "markdown",
      "source": [
        "**Note: Not Equal To Symbol** </p>\n",
        "* != symbol in Python is the \"not equal to\" operator\n",
        "* It is used to compare two values to check if they are different from each other\n",
        "* If the values are not equal, the operator returns True; otherwise, it returns False."
      ],
      "metadata": {
        "id": "3sUgMxWWx5ZH"
      }
    },
    {
      "cell_type": "code",
      "source": [
        "country = 'Malaysia'\n",
        "year = 2024\n",
        "\n",
        "if country == 'Malaysia' or year != 2020: #True\n",
        "\n",
        "  print ('Country is Malaysia and year is 2020')"
      ],
      "metadata": {
        "colab": {
          "base_uri": "https://localhost:8080/"
        },
        "id": "25aj4LhsXPMg",
        "outputId": "f3875218-6de9-40b9-b586-1fbafae704d7"
      },
      "execution_count": null,
      "outputs": [
        {
          "output_type": "stream",
          "name": "stdout",
          "text": [
            "Country is Malaysia and year is 2020\n"
          ]
        }
      ]
    },
    {
      "cell_type": "code",
      "source": [
        "country = 'Malaysia'\n",
        "year = 2024\n",
        "\n",
        "if country == 'Malaysia' and year > 2020: #true\n",
        "\n",
        "  print ('Country is Malaysia and year is 2020')"
      ],
      "metadata": {
        "colab": {
          "base_uri": "https://localhost:8080/"
        },
        "id": "W0J1yfCUXjBG",
        "outputId": "16580a3a-f48f-44ce-9d11-e77f36a9b6d3"
      },
      "execution_count": null,
      "outputs": [
        {
          "output_type": "stream",
          "name": "stdout",
          "text": [
            "Country is Malaysia and year is 2020\n"
          ]
        }
      ]
    },
    {
      "cell_type": "code",
      "source": [
        "country = 'Malaysia'\n",
        "year = 2024\n",
        "\n",
        "if country == 'Malaysia' and year == 2020: #False\n",
        "  print ('Country is Malaysia and year is 2020')\n",
        "\n",
        "elif country == 'Malaysia' and year > 2020: #True\n",
        "    print ('Country is Malaysia and year is earlier than 2020')"
      ],
      "metadata": {
        "colab": {
          "base_uri": "https://localhost:8080/"
        },
        "id": "4nOJSN1ZYKPW",
        "outputId": "a4964a17-aa8f-45b6-8394-192fa4a097d6"
      },
      "execution_count": null,
      "outputs": [
        {
          "output_type": "stream",
          "name": "stdout",
          "text": [
            "Country is Malaysia and year is earlier than 2020\n"
          ]
        }
      ]
    },
    {
      "cell_type": "code",
      "source": [
        "#Write a code for finding the even and odd numbers\n",
        "num = 11\n",
        "if num %2 == 0:\n",
        "  print ('The number is even')\n",
        "else:\n",
        "  print (' The number is Odd')"
      ],
      "metadata": {
        "colab": {
          "base_uri": "https://localhost:8080/"
        },
        "id": "PtN7Jq4fh0Ke",
        "outputId": "abf85b26-9316-4a9b-cfb0-6d5373246785"
      },
      "execution_count": null,
      "outputs": [
        {
          "output_type": "stream",
          "name": "stdout",
          "text": [
            " The number is Odd\n"
          ]
        }
      ]
    },
    {
      "cell_type": "markdown",
      "source": [
        "### Section 6.6: Input Function In Conditional Statements"
      ],
      "metadata": {
        "id": "6jjgRU0ejDR_"
      }
    },
    {
      "cell_type": "code",
      "source": [
        "input_num = input ('Enter a number: ')\n",
        "input_num = int(input_num)\n",
        "if input_num %2 == 0:\n",
        "  print ('The number is even')\n",
        "else:\n",
        "  print (' The number is Odd')"
      ],
      "metadata": {
        "colab": {
          "base_uri": "https://localhost:8080/"
        },
        "id": "68AtGJNviW4U",
        "outputId": "bbda1bd6-c7ce-4092-e07b-b8ee60f54a6b"
      },
      "execution_count": null,
      "outputs": [
        {
          "output_type": "stream",
          "name": "stdout",
          "text": [
            "Enter a number: 12\n",
            "The number is even\n"
          ]
        }
      ]
    },
    {
      "cell_type": "markdown",
      "source": [
        "### Section 6.7: Nested Statements (if, elif, else)"
      ],
      "metadata": {
        "id": "NodX1evajIvS"
      }
    },
    {
      "cell_type": "markdown",
      "source": [
        "Nested if Statements: Allows for more complex conditions by nesting if, elif, and else statements within each other"
      ],
      "metadata": {
        "id": "42pctOxolZUR"
      }
    },
    {
      "cell_type": "code",
      "source": [
        "price = 1000\n",
        "car = 'Proton'\n",
        "\n",
        "if price > 500: #TRUE\n",
        "  if price == 700: #FALSE\n",
        "    print ('The price is more than 700')\n",
        "\n",
        "  else:\n",
        "    if price == 100 or car == 'Proton': #TRUE\n",
        "      print ('Car is Proton')\n",
        "\n",
        "    else:\n",
        "      print ('Price and Car are unknown')"
      ],
      "metadata": {
        "colab": {
          "base_uri": "https://localhost:8080/"
        },
        "id": "OuHQFSSgjKFq",
        "outputId": "813a0d73-3349-4bd8-acaa-21e3ac99a880"
      },
      "execution_count": null,
      "outputs": [
        {
          "output_type": "stream",
          "name": "stdout",
          "text": [
            "Car is Proton\n"
          ]
        }
      ]
    },
    {
      "cell_type": "markdown",
      "source": [
        "**ERROR ALERT!!**\n",
        "\n",
        "Make sure the **indentation** (empty space) is correct </p>\n",
        "This is a nested statment, so the statement should be inside the statement </p>\n",
        "The syntax error currently shows that line 12 is wrong and should be nested inside the above statements"
      ],
      "metadata": {
        "id": "RUKLurxTlB97"
      }
    },
    {
      "cell_type": "code",
      "source": [
        "price = 1000\n",
        "car = 'Proton'\n",
        "\n",
        "if price > 500: #TRUE\n",
        "  if price == 700: #FALSE\n",
        "    print ('The price is more than 700')\n",
        "\n",
        "  else:\n",
        "    if price == 100 or car == 'Proton': #TRUE\n",
        "      print ('Car is Proton')\n",
        "\n",
        "  else:\n",
        "    print ('Price and Car are unknown')"
      ],
      "metadata": {
        "colab": {
          "base_uri": "https://localhost:8080/",
          "height": 106
        },
        "id": "wqceQTDck7SE",
        "outputId": "de6b807f-4120-4047-f5a9-0d49a5049ae5"
      },
      "execution_count": null,
      "outputs": [
        {
          "output_type": "error",
          "ename": "SyntaxError",
          "evalue": "invalid syntax (<ipython-input-47-14a926bbaa4a>, line 12)",
          "traceback": [
            "\u001b[0;36m  File \u001b[0;32m\"<ipython-input-47-14a926bbaa4a>\"\u001b[0;36m, line \u001b[0;32m12\u001b[0m\n\u001b[0;31m    else:\u001b[0m\n\u001b[0m    ^\u001b[0m\n\u001b[0;31mSyntaxError\u001b[0m\u001b[0;31m:\u001b[0m invalid syntax\n"
          ]
        }
      ]
    },
    {
      "cell_type": "markdown",
      "source": [
        "## **Section 7: Loop Function**"
      ],
      "metadata": {
        "id": "rbe19zps0XY2"
      }
    },
    {
      "cell_type": "markdown",
      "source": [
        " Using a loop makes it much more practical and efficient to perform repetitive tasks like printing the elements of a list"
      ],
      "metadata": {
        "id": "FY-XMjUH1ZVG"
      }
    },
    {
      "cell_type": "markdown",
      "source": [
        "### Section 7.1: The Importance of loop function"
      ],
      "metadata": {
        "id": "dVHeRHLr-vTP"
      }
    },
    {
      "cell_type": "markdown",
      "source": [
        "**Below is an example of not the best way to write a code** </p>\n",
        "\n",
        "* Repeating the code might increase risk of error\n",
        "* When the same code is repeated in multiple places, maintaining and updating the code becomes more challenging."
      ],
      "metadata": {
        "id": "B8u1sj7G0dNA"
      }
    },
    {
      "cell_type": "code",
      "source": [
        "list_num = [100, 200, 300, 400, 500]\n",
        "\n",
        "print (list_num[0])\n",
        "print (list_num[1])\n",
        "print (list_num[2])\n",
        "print (list_num[3])\n",
        "print (list_num[4])"
      ],
      "metadata": {
        "colab": {
          "base_uri": "https://localhost:8080/"
        },
        "id": "c41-p00Pl4xt",
        "outputId": "c87e033b-2346-4b43-dde9-81ce52d26ef6"
      },
      "execution_count": null,
      "outputs": [
        {
          "output_type": "stream",
          "name": "stdout",
          "text": [
            "100\n",
            "200\n",
            "300\n",
            "400\n",
            "500\n"
          ]
        }
      ]
    },
    {
      "cell_type": "markdown",
      "source": [
        "### Section 7.2: 'for' Loop Function"
      ],
      "metadata": {
        "id": "TJR0tBfz_N90"
      }
    },
    {
      "cell_type": "markdown",
      "source": [
        "A 'for' loop is ideal for iterating over the elements of a list."
      ],
      "metadata": {
        "id": "eqXBYODRo_5v"
      }
    },
    {
      "cell_type": "code",
      "source": [
        "list_num"
      ],
      "metadata": {
        "colab": {
          "base_uri": "https://localhost:8080/"
        },
        "id": "cOAY4wlepEjP",
        "outputId": "b8b1b4fb-80a9-4219-9ba3-db3a593af658"
      },
      "execution_count": null,
      "outputs": [
        {
          "output_type": "execute_result",
          "data": {
            "text/plain": [
              "[100, 200, 300, 400, 500]"
            ]
          },
          "metadata": {},
          "execution_count": 52
        }
      ]
    },
    {
      "cell_type": "markdown",
      "source": [
        "**Ways to write 'for' loop function:**\n",
        "\n",
        "* **for** *(name a counter variable-can use any alphabet, usually python use the alphabet i)* **in list_name**"
      ],
      "metadata": {
        "id": "LoM_jqblpQct"
      }
    },
    {
      "cell_type": "code",
      "source": [
        "for i in list_num: #first round will execute 100, then loop, second round will execute 200, then loop until list is done\n",
        "  print (i)"
      ],
      "metadata": {
        "colab": {
          "base_uri": "https://localhost:8080/"
        },
        "id": "40_UjCWkpGB8",
        "outputId": "8cca9778-ad55-4f10-8e7e-9d5812ea0323"
      },
      "execution_count": null,
      "outputs": [
        {
          "output_type": "stream",
          "name": "stdout",
          "text": [
            "100\n",
            "200\n",
            "300\n",
            "400\n",
            "500\n"
          ]
        }
      ]
    },
    {
      "cell_type": "markdown",
      "source": [
        "### Section 7.2.1: 'for' Loop With 'range' Function\n",
        "\n",
        "The range function generates a sequence of numbers, which is useful for iterating over a sequence of numbers."
      ],
      "metadata": {
        "id": "Dk16YqNDqfJb"
      }
    },
    {
      "cell_type": "markdown",
      "source": [
        "* Explanation: This loop will print numbers from 1 to 9.\n",
        "* So the range is set to \"*range(1,10)*\" generates the sequence [0, 1, 2, 3, 4, 5, 6, 7, 8, 9]"
      ],
      "metadata": {
        "id": "ElIqqQZp3NjX"
      }
    },
    {
      "cell_type": "code",
      "source": [
        "for num in range(1,10): #this code will loop and print (start,end) except the last number\n",
        "  print(num)"
      ],
      "metadata": {
        "colab": {
          "base_uri": "https://localhost:8080/"
        },
        "id": "zW9U62U9qb53",
        "outputId": "46114662-004a-4ba0-f28a-46befa8150ab"
      },
      "execution_count": null,
      "outputs": [
        {
          "output_type": "stream",
          "name": "stdout",
          "text": [
            "1\n",
            "2\n",
            "3\n",
            "4\n",
            "5\n",
            "6\n",
            "7\n",
            "8\n",
            "9\n"
          ]
        }
      ]
    },
    {
      "cell_type": "markdown",
      "source": [
        "### **Exercise**"
      ],
      "metadata": {
        "id": "6L6SwnDM4FfZ"
      }
    },
    {
      "cell_type": "code",
      "source": [
        "numbers = [1,2,3,4,5,6]\n",
        "\n",
        "#Write a code to print all the numbers below 5\n",
        "for num in numbers:\n",
        "  if num < 5:\n",
        "    print (num)"
      ],
      "metadata": {
        "colab": {
          "base_uri": "https://localhost:8080/"
        },
        "id": "UfUKWbbjquxC",
        "outputId": "efbf5eba-1cbc-4509-dc80-efdee8764438"
      },
      "execution_count": null,
      "outputs": [
        {
          "output_type": "stream",
          "name": "stdout",
          "text": [
            "1\n",
            "2\n",
            "3\n",
            "4\n"
          ]
        }
      ]
    },
    {
      "cell_type": "code",
      "source": [
        "numbers1 = [-1,2,1,3,5,4,0]\n",
        "\n",
        "#write a code to print all the numbers below 5\n",
        "for i in numbers1:\n",
        "  if i < 5:\n",
        "    print (i)"
      ],
      "metadata": {
        "colab": {
          "base_uri": "https://localhost:8080/"
        },
        "id": "MgH_dlETBmFl",
        "outputId": "3f9302e9-d4f1-47eb-8650-6d6b50440ce8"
      },
      "execution_count": null,
      "outputs": [
        {
          "output_type": "stream",
          "name": "stdout",
          "text": [
            "-1\n",
            "2\n",
            "1\n",
            "3\n",
            "4\n",
            "0\n"
          ]
        }
      ]
    },
    {
      "cell_type": "code",
      "source": [
        "d1 = {'A1': -10, 8.8: ['ML','DL']}"
      ],
      "metadata": {
        "id": "JBd-7Jc3DQE-"
      },
      "execution_count": null,
      "outputs": []
    },
    {
      "cell_type": "code",
      "source": [
        "for i in d1:\n",
        "  print (i)"
      ],
      "metadata": {
        "colab": {
          "base_uri": "https://localhost:8080/"
        },
        "id": "N3iMOlJAC5T3",
        "outputId": "f45c27ad-d499-4853-df7f-6e37a87e1a76"
      },
      "execution_count": null,
      "outputs": [
        {
          "output_type": "stream",
          "name": "stdout",
          "text": [
            "A1\n",
            "8.8\n"
          ]
        }
      ]
    },
    {
      "cell_type": "code",
      "source": [
        "for i in d1.values():\n",
        "  print (i)"
      ],
      "metadata": {
        "colab": {
          "base_uri": "https://localhost:8080/"
        },
        "id": "tVh_vQVGBshi",
        "outputId": "0bd57c81-b267-4208-c1c5-358684998230"
      },
      "execution_count": null,
      "outputs": [
        {
          "output_type": "stream",
          "name": "stdout",
          "text": [
            "-10\n",
            "['ML', 'DL']\n"
          ]
        }
      ]
    },
    {
      "cell_type": "markdown",
      "source": [
        "### Section 7.3: 'while' Loop Function"
      ],
      "metadata": {
        "id": "vK6vYbz_EmCl"
      }
    },
    {
      "cell_type": "code",
      "source": [
        "numbers = [1,2,3,4,5,6]\n",
        "\n",
        "#Write a code to print all the numbers below 5 by using while loop\n",
        "\n",
        "i = 0 #1 #2 #3 #4 #5\n",
        "num = None  #1 #2 #3 #4 #5\n",
        "\n",
        "while (num!=4): #True #True #True #True #False\n",
        "  num = numbers[i] # equals to 1\n",
        "  i = i + 1\n",
        "  print (num)"
      ],
      "metadata": {
        "colab": {
          "base_uri": "https://localhost:8080/"
        },
        "id": "EPmwhJRpCjRj",
        "outputId": "3f0db09e-ee6c-4fac-bf5e-f20344e24168"
      },
      "execution_count": null,
      "outputs": [
        {
          "output_type": "stream",
          "name": "stdout",
          "text": [
            "1\n",
            "2\n",
            "3\n",
            "4\n"
          ]
        }
      ]
    },
    {
      "cell_type": "markdown",
      "source": [
        "### Section 7.4: Nested Loop\n",
        "\n",
        "For loop to run inside a loop"
      ],
      "metadata": {
        "id": "C6YEmojSNZIq"
      }
    },
    {
      "cell_type": "code",
      "source": [
        "#nested loop\n",
        "\n",
        "names = ['Mohammed','Noor', 'Chyrel']\n",
        "\n",
        "for a in names:\n",
        "  print (a) #outputs Mohammed\n",
        "\n",
        "  for b in (a): #outputs 'M' 'o' 'h' etc\n",
        "    print (b)\n",
        "\n",
        "  print ('') #outputs a blank line."
      ],
      "metadata": {
        "colab": {
          "base_uri": "https://localhost:8080/"
        },
        "id": "1kKL-xklErnT",
        "outputId": "e217ae17-a9f3-4516-e16f-e07e33243f5c"
      },
      "execution_count": null,
      "outputs": [
        {
          "output_type": "stream",
          "name": "stdout",
          "text": [
            "Mohammed\n",
            "M\n",
            "o\n",
            "h\n",
            "a\n",
            "m\n",
            "m\n",
            "e\n",
            "d\n",
            "\n",
            "Noor\n",
            "N\n",
            "o\n",
            "o\n",
            "r\n",
            "\n",
            "Chyrel\n",
            "C\n",
            "h\n",
            "y\n",
            "r\n",
            "e\n",
            "l\n",
            "\n"
          ]
        }
      ]
    },
    {
      "cell_type": "code",
      "source": [
        "#write a a code to print only the even numbers in range of numbers 20\n",
        "\n",
        "for i in range(21):\n",
        "  if i %2 == 0:  #modulus %2 helps get even number\n",
        "    print (i)"
      ],
      "metadata": {
        "colab": {
          "base_uri": "https://localhost:8080/"
        },
        "id": "hMtGGTw0KVts",
        "outputId": "becd2aea-60a3-4d35-ff65-997554e4b4fa"
      },
      "execution_count": null,
      "outputs": [
        {
          "output_type": "stream",
          "name": "stdout",
          "text": [
            "0\n",
            "2\n",
            "4\n",
            "6\n",
            "8\n",
            "10\n",
            "12\n",
            "14\n",
            "16\n",
            "18\n",
            "20\n"
          ]
        }
      ]
    },
    {
      "cell_type": "markdown",
      "source": [
        "### Section 7.4.1: How Important the Indentation in Nested Loop\n",
        "\n",
        "* Observe the positon of the 'print' command and how it can affect the outcome"
      ],
      "metadata": {
        "id": "IU9yVBte_xvR"
      }
    },
    {
      "cell_type": "code",
      "source": [
        "#create a list of those even numbers in the range of 20\n",
        "\n",
        "list_even= []\n",
        "\n",
        "for i in range(21):\n",
        "  if i %2 == 0:\n",
        "    list_even.append(i)\n",
        "\n",
        "  print (list_even) #The print code is within the nested loop"
      ],
      "metadata": {
        "colab": {
          "base_uri": "https://localhost:8080/"
        },
        "id": "Fu-H7Li0NpFp",
        "outputId": "67cc9aa1-4185-4670-a465-ad2d85ebcbe8"
      },
      "execution_count": null,
      "outputs": [
        {
          "output_type": "stream",
          "name": "stdout",
          "text": [
            "[0]\n",
            "[0]\n",
            "[0, 2]\n",
            "[0, 2]\n",
            "[0, 2, 4]\n",
            "[0, 2, 4]\n",
            "[0, 2, 4, 6]\n",
            "[0, 2, 4, 6]\n",
            "[0, 2, 4, 6, 8]\n",
            "[0, 2, 4, 6, 8]\n",
            "[0, 2, 4, 6, 8, 10]\n",
            "[0, 2, 4, 6, 8, 10]\n",
            "[0, 2, 4, 6, 8, 10, 12]\n",
            "[0, 2, 4, 6, 8, 10, 12]\n",
            "[0, 2, 4, 6, 8, 10, 12, 14]\n",
            "[0, 2, 4, 6, 8, 10, 12, 14]\n",
            "[0, 2, 4, 6, 8, 10, 12, 14, 16]\n",
            "[0, 2, 4, 6, 8, 10, 12, 14, 16]\n",
            "[0, 2, 4, 6, 8, 10, 12, 14, 16, 18]\n",
            "[0, 2, 4, 6, 8, 10, 12, 14, 16, 18]\n",
            "[0, 2, 4, 6, 8, 10, 12, 14, 16, 18, 20]\n"
          ]
        }
      ]
    },
    {
      "cell_type": "markdown",
      "source": [
        "**Note:** Below is the same code as above but the 'print' command is outside the nested loop"
      ],
      "metadata": {
        "id": "5rtzgtIYAPoP"
      }
    },
    {
      "cell_type": "code",
      "source": [
        "list_even= []\n",
        "\n",
        "for i in range(21):\n",
        "  if i %2 == 0:\n",
        "    list_even.append(i)\n",
        "\n",
        "print (list_even) #The print code is outside the nested loop so the list will only be print when the loop is done (reach 21)"
      ],
      "metadata": {
        "colab": {
          "base_uri": "https://localhost:8080/"
        },
        "id": "Nzb_znEWP8WV",
        "outputId": "af9104e5-23f5-4036-ff2c-c4652880cae2"
      },
      "execution_count": null,
      "outputs": [
        {
          "output_type": "stream",
          "name": "stdout",
          "text": [
            "[0, 2, 4, 6, 8, 10, 12, 14, 16, 18, 20]\n"
          ]
        }
      ]
    },
    {
      "cell_type": "markdown",
      "source": [
        "**Given a list of numbers, write a code to calculate the sum of even numbers in that list**"
      ],
      "metadata": {
        "id": "cYjvvxzdQ_Kj"
      }
    },
    {
      "cell_type": "code",
      "source": [
        "#Given a list of numbers, write a code to calculate the sum of even numbers in that list\n",
        "\n",
        "list_even= []\n",
        "\n",
        "for i in range(21):\n",
        "  if i %2 == 0:\n",
        "    list_even.append(i)\n",
        "\n",
        "print (sum(list_even))"
      ],
      "metadata": {
        "colab": {
          "base_uri": "https://localhost:8080/"
        },
        "id": "c4asW3wyQdlo",
        "outputId": "c78c5658-4834-4a0d-a013-775540ed089e"
      },
      "execution_count": null,
      "outputs": [
        {
          "output_type": "stream",
          "name": "stdout",
          "text": [
            "110\n"
          ]
        }
      ]
    },
    {
      "cell_type": "markdown",
      "source": [
        "## **Section 8: Count Function**"
      ],
      "metadata": {
        "id": "T0Alcao5V2hz"
      }
    },
    {
      "cell_type": "markdown",
      "source": [
        "* To define a function named count that can count occurrences of elements in an iterable (like a list or string), we need to specify what exactly we want to count.\n",
        "* count = 0 (*depends on scenarios we can define 'count' as something else*)\n",
        "\n",
        "**Examples:**\n",
        "* sum_even = 0\n",
        "* sum_vowels = 0"
      ],
      "metadata": {
        "id": "NtpbaQqGBJvv"
      }
    },
    {
      "cell_type": "markdown",
      "source": [
        "### Section 8.1: Count Occurrences of a Specific Element"
      ],
      "metadata": {
        "id": "TuNJkFj3EJ2Z"
      }
    },
    {
      "cell_type": "code",
      "source": [
        "list3 = [1, 2, 3, 2, 4, 2, 5]\n",
        "count = 0  # Initialize count variable\n",
        "for i in list3:\n",
        "  if i == 2:\n",
        "    count += +1\n",
        "\n",
        "print(count) #how many occurance of '2' from the list"
      ],
      "metadata": {
        "colab": {
          "base_uri": "https://localhost:8080/"
        },
        "id": "k6sjBcY8DQbH",
        "outputId": "e4fec895-bf73-4cb9-9b0a-7f13c3a55903"
      },
      "execution_count": 11,
      "outputs": [
        {
          "output_type": "stream",
          "name": "stdout",
          "text": [
            "3\n"
          ]
        }
      ]
    },
    {
      "cell_type": "markdown",
      "source": [
        "### Section 8.2: Count Even Numbers in a List"
      ],
      "metadata": {
        "id": "P8wsJHHDBls5"
      }
    },
    {
      "cell_type": "code",
      "source": [
        "#Count sum of even number in a list\n",
        "\n",
        "list_num = range(10)\n",
        "\n",
        "sum_even = 0\n",
        "\n",
        "for i in list_num:\n",
        "  if i % 2 == 0:\n",
        "    sum_even = sum_even + i\n",
        "\n",
        "print (sum_even)\n"
      ],
      "metadata": {
        "colab": {
          "base_uri": "https://localhost:8080/"
        },
        "id": "RRTKjM66Rhcz",
        "outputId": "eb8c68a7-eb7b-4f2b-c3a9-6c395c6211ae"
      },
      "execution_count": 4,
      "outputs": [
        {
          "output_type": "stream",
          "name": "stdout",
          "text": [
            "20\n"
          ]
        }
      ]
    },
    {
      "cell_type": "code",
      "source": [
        "#Dr Obay's code:\n",
        "\n",
        "sum_even = 0\n",
        "\n",
        "for i in range(10):\n",
        "  if i % 2 == 0:\n",
        "    sum_even = sum_even + i\n",
        "\n",
        "print ('The sum of all even numbers are:',sum_even)"
      ],
      "metadata": {
        "colab": {
          "base_uri": "https://localhost:8080/"
        },
        "id": "IOPrpI8iTAyw",
        "outputId": "f080ed64-0c00-40d0-cdb1-62d2d4b5a18e"
      },
      "execution_count": 3,
      "outputs": [
        {
          "output_type": "stream",
          "name": "stdout",
          "text": [
            "The sum of all even numbers are: 20\n"
          ]
        }
      ]
    },
    {
      "cell_type": "markdown",
      "source": [
        "### Section 8.3: Count Vowels in a String"
      ],
      "metadata": {
        "id": "nU6zCdjkBecS"
      }
    },
    {
      "cell_type": "markdown",
      "source": [
        "Given a string, write a code to calculate the number of vowels (a,e,i,o,u) in the string.\n",
        "\n",
        "The string is: 'Hello World'"
      ],
      "metadata": {
        "id": "gC8Iv4WzUSKw"
      }
    },
    {
      "cell_type": "code",
      "source": [
        "string = 'Hello World'\n",
        "\n",
        "vowels = ['a','e','i','o','u']\n",
        "\n",
        "sum_vowels = 0\n",
        "\n",
        "for i in string:\n",
        "  if i in vowels:\n",
        "    sum_vowels = sum_vowels + 1\n",
        "\n",
        "print (sum_vowels)"
      ],
      "metadata": {
        "colab": {
          "base_uri": "https://localhost:8080/"
        },
        "id": "ty8T43I7T6uz",
        "outputId": "4601e1bb-853a-4d85-e715-cb44f47f09aa"
      },
      "execution_count": null,
      "outputs": [
        {
          "output_type": "stream",
          "name": "stdout",
          "text": [
            "3\n"
          ]
        }
      ]
    },
    {
      "cell_type": "code",
      "source": [
        "#Jawapan Dr:\n",
        "\n",
        "string = 'Hello World'\n",
        "\n",
        "vowels = ['a','e','i','o','u']\n",
        "\n",
        "count_vowels = 0\n",
        "\n",
        "for vow in string.lower(): #noticed how we used string.lower\n",
        "  if vow in 'a,e,i,ou':\n",
        "    count_vowels += 1 #this mean count_vowels+1\n",
        "\n",
        "print ('The number of vowels are:',count_vowels)"
      ],
      "metadata": {
        "colab": {
          "base_uri": "https://localhost:8080/"
        },
        "id": "wvG6n0WTUvFc",
        "outputId": "42f01400-3236-4beb-b6d4-5af910c5a92e"
      },
      "execution_count": null,
      "outputs": [
        {
          "output_type": "stream",
          "name": "stdout",
          "text": [
            "The number of vowels are: 3\n"
          ]
        }
      ]
    },
    {
      "cell_type": "markdown",
      "source": [
        "**ALERT!!!** </p>\n",
        "\n",
        "string.lower is used because python is case sensitive, so uppercase letter is not counted,</p>\n",
        "so string.lower will convert the string to become lowercase then it will be countred"
      ],
      "metadata": {
        "id": "2etXFobLZtIY"
      }
    },
    {
      "cell_type": "code",
      "source": [
        "string = 'Artificial Intelligence'\n",
        "\n",
        "vowels = ['a','e','i','o','u']\n",
        "\n",
        "count_vowels = 0\n",
        "\n",
        "for vow in string:\n",
        "  if vow in 'a,e,i,ou':\n",
        "    count_vowels += 1 #can also write as (count_vowels + 1)\n",
        "\n",
        "print ('The number of vowels are:',count_vowels)"
      ],
      "metadata": {
        "colab": {
          "base_uri": "https://localhost:8080/"
        },
        "id": "wAmrX9kJXyLB",
        "outputId": "7cef14ca-9cd8-41a1-89d5-5baf772cdff3"
      },
      "execution_count": null,
      "outputs": [
        {
          "output_type": "stream",
          "name": "stdout",
          "text": [
            "The number of vowels are: 8\n"
          ]
        }
      ]
    },
    {
      "cell_type": "markdown",
      "source": [
        "## **Section 9: Function**"
      ],
      "metadata": {
        "id": "sURGQKjhXmQ3"
      }
    },
    {
      "cell_type": "markdown",
      "source": [
        "### Section 9.1: Defining A Function"
      ],
      "metadata": {
        "id": "R3Z9L9SoFoQn"
      }
    },
    {
      "cell_type": "markdown",
      "source": [
        "To define a **function** in Python, follow these steps:\n",
        "\n",
        "* Use the def keyword.\n",
        "* Write the function name.\n",
        "* Add parentheses () which can include parameters.\n",
        "* End the line with a colon :.\n",
        "* Indent the body of the function and write the code to be executed.\n",
        "* You can also include a docstring (enclosed in triple quotes ''') to describe the function.\n",
        "* Python ignores anything written within the docstring, but it is useful for documentation."
      ],
      "metadata": {
        "id": "ddTL1xwbXt_F"
      }
    },
    {
      "cell_type": "code",
      "source": [
        "#Basic Syntax\n",
        "def funcname(arguments):\n",
        "    '''\n",
        "    This is a docstring.\n",
        "    Describe what the function does here.\n",
        "    '''\n",
        "    # Body of the function\n",
        "    # Your code goes here"
      ],
      "metadata": {
        "id": "GOMxbnO7FO7v"
      },
      "execution_count": 12,
      "outputs": []
    },
    {
      "cell_type": "markdown",
      "source": [
        "**Example:**"
      ],
      "metadata": {
        "id": "BWK5S7URFWSR"
      }
    },
    {
      "cell_type": "code",
      "source": [
        "def first_fun():\n",
        "  '''\n",
        "This is my first function\n",
        "  '''\n",
        "print ('This is my first function')"
      ],
      "metadata": {
        "colab": {
          "base_uri": "https://localhost:8080/"
        },
        "id": "VcKj5v8CXqb2",
        "outputId": "5aeed299-cfda-4f21-f072-4fdfb4aadeea"
      },
      "execution_count": null,
      "outputs": [
        {
          "output_type": "stream",
          "name": "stdout",
          "text": [
            "This is my first function\n"
          ]
        }
      ]
    },
    {
      "cell_type": "code",
      "source": [
        "def sum_num(a,b):\n",
        "  ''' this function is about summing two numbers'''\n",
        "\n",
        "  c = a +b\n",
        "  print (c)"
      ],
      "metadata": {
        "id": "AUrEnYq6iyEi"
      },
      "execution_count": null,
      "outputs": []
    },
    {
      "cell_type": "code",
      "source": [
        "sum_num(10,5)"
      ],
      "metadata": {
        "colab": {
          "base_uri": "https://localhost:8080/"
        },
        "id": "vz3xOt5aiz_c",
        "outputId": "13cf5428-6a58-4105-96bf-2400b0a906d9"
      },
      "execution_count": null,
      "outputs": [
        {
          "output_type": "stream",
          "name": "stdout",
          "text": [
            "15\n"
          ]
        }
      ]
    },
    {
      "cell_type": "markdown",
      "source": [
        "**ERROR ALERT!!** </p>\n",
        "\n",
        "Know the function that you wrote **sum_num(a,b)** so the below command is an error because there is no second input"
      ],
      "metadata": {
        "id": "3cB6zRdFkNjk"
      }
    },
    {
      "cell_type": "code",
      "source": [
        "sum_num(10)"
      ],
      "metadata": {
        "colab": {
          "base_uri": "https://localhost:8080/",
          "height": 141
        },
        "id": "d6-naet1kLHw",
        "outputId": "4e236ea7-807d-4a39-b3fe-c8b41ac09e56"
      },
      "execution_count": null,
      "outputs": [
        {
          "output_type": "error",
          "ename": "TypeError",
          "evalue": "sum_num() missing 1 required positional argument: 'b'",
          "traceback": [
            "\u001b[0;31m---------------------------------------------------------------------------\u001b[0m",
            "\u001b[0;31mTypeError\u001b[0m                                 Traceback (most recent call last)",
            "\u001b[0;32m<ipython-input-157-451b247b9ccf>\u001b[0m in \u001b[0;36m<cell line: 1>\u001b[0;34m()\u001b[0m\n\u001b[0;32m----> 1\u001b[0;31m \u001b[0msum_num\u001b[0m\u001b[0;34m(\u001b[0m\u001b[0;36m10\u001b[0m\u001b[0;34m)\u001b[0m\u001b[0;34m\u001b[0m\u001b[0;34m\u001b[0m\u001b[0m\n\u001b[0m",
            "\u001b[0;31mTypeError\u001b[0m: sum_num() missing 1 required positional argument: 'b'"
          ]
        }
      ]
    },
    {
      "cell_type": "markdown",
      "source": [
        "**Note: Since we did not define the type of variable 'a' and 'b'**\n",
        "* so it can be a str, int, float"
      ],
      "metadata": {
        "id": "AMaPKQMGGFxP"
      }
    },
    {
      "cell_type": "code",
      "source": [
        "sum_num('Big','Data')"
      ],
      "metadata": {
        "colab": {
          "base_uri": "https://localhost:8080/"
        },
        "id": "BeAf-Irfk0KH",
        "outputId": "7f8c04fc-1f0a-41f9-d053-c080b3d080f4"
      },
      "execution_count": null,
      "outputs": [
        {
          "output_type": "stream",
          "name": "stdout",
          "text": [
            "BigData\n"
          ]
        }
      ]
    },
    {
      "cell_type": "code",
      "source": [
        "def sum_num2(a,b):\n",
        "  ''' this function is about summing two numbers'''\n",
        "  c = float(a)+ float(b)\n",
        "  print (c)"
      ],
      "metadata": {
        "id": "qecxsSwukMr4"
      },
      "execution_count": 14,
      "outputs": []
    },
    {
      "cell_type": "code",
      "source": [
        "sum_num2(10.2,13.5)"
      ],
      "metadata": {
        "colab": {
          "base_uri": "https://localhost:8080/"
        },
        "id": "WGWDewDTmm5p",
        "outputId": "4f7a3cb4-ded7-4c6f-82c3-addea58671e3"
      },
      "execution_count": 15,
      "outputs": [
        {
          "output_type": "stream",
          "name": "stdout",
          "text": [
            "23.7\n"
          ]
        }
      ]
    },
    {
      "cell_type": "markdown",
      "source": [
        "**ERROR ALERT!!**</p>\n",
        "\n",
        "* Now that we defined the type of variable for **'a' and 'b'** as float.\n",
        "* Then we need to input a float, the sum_num2 can't output string"
      ],
      "metadata": {
        "id": "xQTRidpImT4m"
      }
    },
    {
      "cell_type": "code",
      "source": [
        "sum_num2('Big','Data')"
      ],
      "metadata": {
        "colab": {
          "base_uri": "https://localhost:8080/",
          "height": 245
        },
        "id": "QAtv-HsPkvbH",
        "outputId": "6971e623-2299-4218-cd5a-037a6de222cc"
      },
      "execution_count": 16,
      "outputs": [
        {
          "output_type": "error",
          "ename": "ValueError",
          "evalue": "could not convert string to float: 'Big'",
          "traceback": [
            "\u001b[0;31m---------------------------------------------------------------------------\u001b[0m",
            "\u001b[0;31mValueError\u001b[0m                                Traceback (most recent call last)",
            "\u001b[0;32m<ipython-input-16-ca45adb39aa1>\u001b[0m in \u001b[0;36m<cell line: 1>\u001b[0;34m()\u001b[0m\n\u001b[0;32m----> 1\u001b[0;31m \u001b[0msum_num2\u001b[0m\u001b[0;34m(\u001b[0m\u001b[0;34m'Big'\u001b[0m\u001b[0;34m,\u001b[0m\u001b[0;34m'Data'\u001b[0m\u001b[0;34m)\u001b[0m\u001b[0;34m\u001b[0m\u001b[0;34m\u001b[0m\u001b[0m\n\u001b[0m",
            "\u001b[0;32m<ipython-input-14-3161ca329d42>\u001b[0m in \u001b[0;36msum_num2\u001b[0;34m(a, b)\u001b[0m\n\u001b[1;32m      1\u001b[0m \u001b[0;32mdef\u001b[0m \u001b[0msum_num2\u001b[0m\u001b[0;34m(\u001b[0m\u001b[0ma\u001b[0m\u001b[0;34m,\u001b[0m\u001b[0mb\u001b[0m\u001b[0;34m)\u001b[0m\u001b[0;34m:\u001b[0m\u001b[0;34m\u001b[0m\u001b[0;34m\u001b[0m\u001b[0m\n\u001b[1;32m      2\u001b[0m   \u001b[0;34m''' this function is about summing two numbers'''\u001b[0m\u001b[0;34m\u001b[0m\u001b[0;34m\u001b[0m\u001b[0m\n\u001b[0;32m----> 3\u001b[0;31m   \u001b[0mc\u001b[0m \u001b[0;34m=\u001b[0m \u001b[0mfloat\u001b[0m\u001b[0;34m(\u001b[0m\u001b[0ma\u001b[0m\u001b[0;34m)\u001b[0m\u001b[0;34m+\u001b[0m \u001b[0mfloat\u001b[0m\u001b[0;34m(\u001b[0m\u001b[0mb\u001b[0m\u001b[0;34m)\u001b[0m\u001b[0;34m\u001b[0m\u001b[0;34m\u001b[0m\u001b[0m\n\u001b[0m\u001b[1;32m      4\u001b[0m   \u001b[0mprint\u001b[0m \u001b[0;34m(\u001b[0m\u001b[0mc\u001b[0m\u001b[0;34m)\u001b[0m\u001b[0;34m\u001b[0m\u001b[0;34m\u001b[0m\u001b[0m\n",
            "\u001b[0;31mValueError\u001b[0m: could not convert string to float: 'Big'"
          ]
        }
      ]
    },
    {
      "cell_type": "markdown",
      "source": [
        "**Note:** The output will also be a float (Decimal) because we had defined variable 'a' and 'b' as float"
      ],
      "metadata": {
        "id": "qpnILl1dG2lx"
      }
    },
    {
      "cell_type": "code",
      "source": [
        "sum_num2(1,2)"
      ],
      "metadata": {
        "colab": {
          "base_uri": "https://localhost:8080/"
        },
        "id": "X7VQTau3Gspr",
        "outputId": "2ff0b3c0-bfaf-41a2-d7cd-e523c55fcb0f"
      },
      "execution_count": 17,
      "outputs": [
        {
          "output_type": "stream",
          "name": "stdout",
          "text": [
            "3.0\n"
          ]
        }
      ]
    },
    {
      "cell_type": "markdown",
      "source": [
        "**Key Differences Between 'return' and 'print'** </p>\n",
        "\n",
        "* **Functionality:**\n",
        "  * **return** sends a value back to the caller and terminates the function execution.\n",
        "  * **print** outputs a value to the console but does not affect function execution or return values.\n",
        "\n",
        "* **Context:**\n",
        "  * **return** is used inside functions to send a result back.\n",
        "  * **print** can be used anywhere to display information to the user.\n",
        "\n",
        "* **Effect on Function:**\n",
        "  * **return** can determine the outcome of a function and can be used to pass data between functions.\n",
        "  * **print** is primarily used for debugging or displaying information and has no effect on function results or data flow."
      ],
      "metadata": {
        "id": "d5yYsyndlmAx"
      }
    },
    {
      "cell_type": "code",
      "source": [
        "def multi_num(a,b,c):\n",
        "  d = a*b*c\n",
        "  return(d)"
      ],
      "metadata": {
        "id": "9lGclscqkzAb"
      },
      "execution_count": null,
      "outputs": []
    },
    {
      "cell_type": "markdown",
      "source": [
        "**print vs return**\n",
        "\n",
        "To summarize, \"print\" is used to output values to the console for debugging or informational purposes, while \"return\" is used to send a value back from a function to the calling code. If you want to use the result of a function in other parts of your code, you need to use \"return\" to make that value available outside the function.\n",
        "\n",
        "\n",
        "\n",
        "*print just shows the human user a string representing what is going on inside the computer. The computer cannot make use of that printing. return is how a function gives back a value. This value is often unseen by the human user, but it can be used by the computer in further functions.*"
      ],
      "metadata": {
        "id": "ZewW9xR_lyqi"
      }
    },
    {
      "cell_type": "markdown",
      "source": [
        "## **Exercise**"
      ],
      "metadata": {
        "id": "rVgwW11rH0rI"
      }
    },
    {
      "cell_type": "code",
      "source": [
        "multi_num(10,1,2)"
      ],
      "metadata": {
        "colab": {
          "base_uri": "https://localhost:8080/"
        },
        "id": "P0U8vy5jlMza",
        "outputId": "0b0ce687-7389-459a-bf1e-96a25e0025f1"
      },
      "execution_count": null,
      "outputs": [
        {
          "output_type": "execute_result",
          "data": {
            "text/plain": [
              "20"
            ]
          },
          "metadata": {},
          "execution_count": 164
        }
      ]
    },
    {
      "cell_type": "markdown",
      "source": [
        "write a function to find the even and odd numbers"
      ],
      "metadata": {
        "id": "Mp9XKqRal740"
      }
    },
    {
      "cell_type": "code",
      "source": [
        "def even_odd(num):\n",
        "  iput\n",
        "  if num %2 == 0:\n",
        "    print ('The number is even')\n",
        "  else:\n",
        "    print ('The number is odd')"
      ],
      "metadata": {
        "id": "S96kD8iWnXMH"
      },
      "execution_count": null,
      "outputs": []
    },
    {
      "cell_type": "code",
      "source": [
        "even_odd(10)"
      ],
      "metadata": {
        "colab": {
          "base_uri": "https://localhost:8080/"
        },
        "id": "b0zbEd7xnMOY",
        "outputId": "81268d70-97cc-4cd3-b686-1d65ff46b26e"
      },
      "execution_count": null,
      "outputs": [
        {
          "output_type": "stream",
          "name": "stdout",
          "text": [
            "The number is even\n"
          ]
        }
      ]
    },
    {
      "cell_type": "code",
      "source": [
        "def even_odd():\n",
        "  input_num = input ('Enter a number: ')\n",
        "  input_num = int(input_num)\n",
        "  if input_num %2 == 0:\n",
        "    print ('The number is even')\n",
        "  else:\n",
        "    print (' The number is Odd')"
      ],
      "metadata": {
        "id": "meJaHZwIn4TB"
      },
      "execution_count": null,
      "outputs": []
    },
    {
      "cell_type": "code",
      "source": [
        "even_odd()"
      ],
      "metadata": {
        "colab": {
          "base_uri": "https://localhost:8080/"
        },
        "id": "MG_RxCt6n9ft",
        "outputId": "e31c17fa-3915-4628-8fa9-e030cd417543"
      },
      "execution_count": null,
      "outputs": [
        {
          "output_type": "stream",
          "name": "stdout",
          "text": [
            "Enter a number: 100\n",
            "The number is even\n"
          ]
        }
      ]
    },
    {
      "cell_type": "markdown",
      "source": [
        "**Write a function to find the highest value in a list of numbers without using other functions.**"
      ],
      "metadata": {
        "id": "XgVmoHE_oZHD"
      }
    },
    {
      "cell_type": "code",
      "source": [
        "def max_num(list):\n",
        "  max_num = 0\n",
        "  for i in list:\n",
        "    if i > max_num:\n",
        "      max_num = i\n",
        "  return max_num"
      ],
      "metadata": {
        "id": "CxGl0fIioR4D"
      },
      "execution_count": null,
      "outputs": []
    },
    {
      "cell_type": "code",
      "source": [
        "list_num = [100,200,300,120,233,45,123,76,453,943,600]\n",
        "max_num(list_num)"
      ],
      "metadata": {
        "colab": {
          "base_uri": "https://localhost:8080/"
        },
        "id": "RKr3pC3Fowt3",
        "outputId": "f3b238ac-0403-4234-f38e-444b51073b45"
      },
      "execution_count": null,
      "outputs": [
        {
          "output_type": "execute_result",
          "data": {
            "text/plain": [
              "943"
            ]
          },
          "metadata": {},
          "execution_count": 193
        }
      ]
    },
    {
      "cell_type": "code",
      "source": [
        "# Jawapan Dr\n",
        "\n",
        "list_num2 = [100,0,5,200,-20,8.8]\n",
        "\n",
        "highest = list_num2[0] #100 #200\n",
        "for i in list_num2:\n",
        "  if i > highest: #100 #0 #5 #200 #-20 #8.8\n",
        "    highest = i\n",
        "print ('The highest value in the list is:', highest)"
      ],
      "metadata": {
        "colab": {
          "base_uri": "https://localhost:8080/"
        },
        "id": "JXkSzJlFqdos",
        "outputId": "d3eec983-0e52-4261-fa32-a9ba5f04e578"
      },
      "execution_count": null,
      "outputs": [
        {
          "output_type": "stream",
          "name": "stdout",
          "text": [
            "The highest value in the list is: 200\n"
          ]
        }
      ]
    },
    {
      "cell_type": "markdown",
      "source": [
        "Define a function to find the highest and the lowest in the list"
      ],
      "metadata": {
        "id": "qU4zx2l0rkqM"
      }
    },
    {
      "cell_type": "code",
      "source": [
        "list_num2 = [100,0,5,200,-20,8.8]\n",
        "\n",
        "highest = list_num2[0]\n",
        "lowest = list_num2[0]\n",
        "\n",
        "for i in list_num2:\n",
        "  if i > highest:\n",
        "    highest = i\n",
        "  if i < lowest:\n",
        "    lowest = i\n",
        "\n",
        "print ('The highest value in the list is:', highest)\n",
        "print ('The lowest value in the list is:', lowest)"
      ],
      "metadata": {
        "colab": {
          "base_uri": "https://localhost:8080/"
        },
        "id": "6i2Vn_UGrMgh",
        "outputId": "42f683cb-e21a-4d3a-8b0c-40a00fb7ca10"
      },
      "execution_count": null,
      "outputs": [
        {
          "output_type": "stream",
          "name": "stdout",
          "text": [
            "The highest value in the list is: 200\n",
            "The lowest value in the list is: -20\n"
          ]
        }
      ]
    },
    {
      "cell_type": "code",
      "source": [
        "def min_max(list):\n",
        "  highest = list[0]\n",
        "  lowest = list[0]\n",
        "\n",
        "  for i in list:\n",
        "    if i > highest:\n",
        "      highest = i\n",
        "    if i < lowest:\n",
        "      lowest = i\n",
        "\n",
        "  print ('The highest value in the list is:', highest)\n",
        "  print ('The lowest value in the list is:', lowest)"
      ],
      "metadata": {
        "id": "QSdLOilpsUSb"
      },
      "execution_count": null,
      "outputs": []
    },
    {
      "cell_type": "code",
      "source": [
        "min_max(list_num)"
      ],
      "metadata": {
        "colab": {
          "base_uri": "https://localhost:8080/"
        },
        "id": "shy08fdmtnLZ",
        "outputId": "53dcae7d-8bdd-4ed2-d2d9-7078c18a47c4"
      },
      "execution_count": null,
      "outputs": [
        {
          "output_type": "stream",
          "name": "stdout",
          "text": [
            "The highest value in the list is: 943\n",
            "The lowest value in the list is: 45\n"
          ]
        }
      ]
    },
    {
      "cell_type": "code",
      "source": [
        "%whos"
      ],
      "metadata": {
        "colab": {
          "base_uri": "https://localhost:8080/"
        },
        "id": "gPfGWZwHvNoX",
        "outputId": "549460fb-ff8e-4444-8040-2aa75c98efd2"
      },
      "execution_count": null,
      "outputs": [
        {
          "output_type": "stream",
          "name": "stdout",
          "text": [
            "Variable       Type        Data/Info\n",
            "------------------------------------\n",
            "List_num2      list        n=6\n",
            "a              str         Chyrel\n",
            "b              str         l\n",
            "b1             int         1\n",
            "b2             int         0\n",
            "b3             int         1\n",
            "b4             int         2\n",
            "car            str         Proton\n",
            "count          int         3\n",
            "count_vowels   int         8\n",
            "country        str         Malaysia\n",
            "d1             dict        n=2\n",
            "even_odd       function    <function even_odd at 0x796d3c7fc040>\n",
            "first_fun      function    <function first_fun at 0x796d3c7ffe20>\n",
            "highest        int         200\n",
            "i              int         2\n",
            "input_num      str         \n",
            "list           list        n=4\n",
            "list_even      list        n=11\n",
            "list_i         list        n=11\n",
            "list_num       list        n=11\n",
            "list_num2      list        n=6\n",
            "lowest         int         -20\n",
            "max_num        function    <function max_num at 0x796d3c7ff5b0>\n",
            "min_max        function    <function min_max at 0x796d3c90e3b0>\n",
            "multi_num      function    <function multi_num at 0x796d3c94a710>\n",
            "my_function    function    <function my_function at 0x796d3c949750>\n",
            "n              list        n=5\n",
            "names          list        n=3\n",
            "num            int         4\n",
            "numbers        list        n=6\n",
            "numbers1       list        n=7\n",
            "numbers2       list        n=14\n",
            "price          int         1000\n",
            "string         str         Artificial Intelligence\n",
            "sum_even       int         20\n",
            "sum_num        function    <function sum_num at 0x796d3c7ff400>\n",
            "sum_num2       function    <function sum_num2 at 0x796d3c7feb00>\n",
            "sum_numb2      function    <function sum_numb2 at 0x796d3c7fc430>\n",
            "sum_vowels     int         3\n",
            "vow            str         e\n",
            "vowels         list        n=5\n",
            "year           int         2024\n"
          ]
        }
      ]
    },
    {
      "cell_type": "code",
      "source": [
        "min_max(list_i)"
      ],
      "metadata": {
        "colab": {
          "base_uri": "https://localhost:8080/"
        },
        "id": "1JdueTI4vXKX",
        "outputId": "60c6d2ae-feba-4966-b56e-2c044050b47d"
      },
      "execution_count": null,
      "outputs": [
        {
          "output_type": "stream",
          "name": "stdout",
          "text": [
            "The highest value in the list is: 20\n",
            "The lowest value in the list is: 0\n"
          ]
        }
      ]
    },
    {
      "cell_type": "code",
      "source": [
        "min_max(numbers1)"
      ],
      "metadata": {
        "colab": {
          "base_uri": "https://localhost:8080/"
        },
        "id": "J2RNCe10vdDF",
        "outputId": "f1298865-a945-4006-eb89-caa9d6a9f3e4"
      },
      "execution_count": null,
      "outputs": [
        {
          "output_type": "stream",
          "name": "stdout",
          "text": [
            "The highest value in the list is: 5\n",
            "The lowest value in the list is: -1\n"
          ]
        }
      ]
    },
    {
      "cell_type": "markdown",
      "source": [
        "Write a function to sum the even numbers in a list of numbers"
      ],
      "metadata": {
        "id": "SJW98dkPwTbS"
      }
    },
    {
      "cell_type": "code",
      "source": [
        "def sum_even(list_num):\n",
        "  count_even = 0\n",
        "\n",
        "  for i in list_num:\n",
        "    if i %2 == 0:\n",
        "      count_even += i\n",
        "\n",
        "  print ('The total sum of even numbers are: ', count_even)"
      ],
      "metadata": {
        "id": "MnzvhiJVwgP9"
      },
      "execution_count": null,
      "outputs": []
    },
    {
      "cell_type": "code",
      "source": [
        "sum_even(list_i)"
      ],
      "metadata": {
        "colab": {
          "base_uri": "https://localhost:8080/"
        },
        "id": "BgT0UlJhw0cG",
        "outputId": "1b549689-ff4a-430e-8ea7-63fdb206251e"
      },
      "execution_count": null,
      "outputs": [
        {
          "output_type": "stream",
          "name": "stdout",
          "text": [
            "The total sum of even numbers are:  110\n"
          ]
        }
      ]
    },
    {
      "cell_type": "code",
      "source": [
        "#find the missing value in the list below\n",
        "\n",
        "list_missing = [1,4,3,2,5,8,7]\n",
        "\n",
        "list_missing.sort()\n",
        "print(list_missing)"
      ],
      "metadata": {
        "colab": {
          "base_uri": "https://localhost:8080/"
        },
        "id": "mj4xPZ8Vxocl",
        "outputId": "d65c997f-8fad-4c84-915b-656aaf248444"
      },
      "execution_count": 23,
      "outputs": [
        {
          "output_type": "stream",
          "name": "stdout",
          "text": [
            "[1, 2, 3, 4, 5, 7, 8]\n"
          ]
        }
      ]
    }
  ]
}